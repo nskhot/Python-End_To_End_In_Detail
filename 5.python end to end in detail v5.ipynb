{
 "cells": [
  {
   "cell_type": "markdown",
   "id": "c4ac2dae",
   "metadata": {},
   "source": [
    "\n",
    "# Typecasting"
   ]
  },
  {
   "cell_type": "raw",
   "id": "1f7df32e",
   "metadata": {},
   "source": [
    "There are three numeric types in python\n",
    "1] int\n",
    "2] float\n",
    "3] complex"
   ]
  },
  {
   "cell_type": "code",
   "execution_count": 1,
   "id": "b362eb8f",
   "metadata": {},
   "outputs": [
    {
     "name": "stdout",
     "output_type": "stream",
     "text": [
      "int to string:\n",
      "10\n",
      "<class 'int'>\n",
      "10\n",
      "<class 'str'>\n",
      "float to string:\n",
      "20.4\n",
      "<class 'float'>\n",
      "20.4\n",
      "<class 'str'>\n"
     ]
    }
   ],
   "source": [
    "#print(\"int, float to string:\")\n",
    "\n",
    "\n",
    "print(\"int to string:\")\n",
    "a=10\n",
    "var=20.4\n",
    "print(a)\n",
    "print(type(a))\n",
    "var1=str(a)\n",
    "print(var1)\n",
    "print(type(var1))\n",
    "\n",
    "\n",
    "print(\"float to string:\")\n",
    "print(var)\n",
    "print(type(var))\n",
    "var2=str(var)\n",
    "print(var2)\n",
    "print(type(var2))\n"
   ]
  },
  {
   "cell_type": "code",
   "execution_count": 234,
   "id": "74988b7e",
   "metadata": {},
   "outputs": [
    {
     "name": "stdout",
     "output_type": "stream",
     "text": [
      "int to float:\n",
      "10\n",
      "<class 'int'>\n",
      "10.0\n",
      "<class 'float'>\n",
      "string to float:\n",
      "100.5\n",
      "<class 'str'>\n",
      "100.5\n",
      "<class 'float'>\n",
      "nitin\n",
      "<class 'str'>\n"
     ]
    },
    {
     "ename": "ValueError",
     "evalue": "could not convert string to float: 'nitin'",
     "output_type": "error",
     "traceback": [
      "\u001b[0;31m---------------------------------------------------------------------------\u001b[0m",
      "\u001b[0;31mValueError\u001b[0m                                Traceback (most recent call last)",
      "\u001b[0;32m<ipython-input-234-8a0ed3c29d45>\u001b[0m in \u001b[0;36m<module>\u001b[0;34m\u001b[0m\n\u001b[1;32m     23\u001b[0m \u001b[0mprint\u001b[0m\u001b[0;34m(\u001b[0m\u001b[0mstr2\u001b[0m\u001b[0;34m)\u001b[0m\u001b[0;34m\u001b[0m\u001b[0;34m\u001b[0m\u001b[0m\n\u001b[1;32m     24\u001b[0m \u001b[0mprint\u001b[0m\u001b[0;34m(\u001b[0m\u001b[0mtype\u001b[0m\u001b[0;34m(\u001b[0m\u001b[0mstr2\u001b[0m\u001b[0;34m)\u001b[0m\u001b[0;34m)\u001b[0m\u001b[0;34m\u001b[0m\u001b[0;34m\u001b[0m\u001b[0m\n\u001b[0;32m---> 25\u001b[0;31m \u001b[0mvar3\u001b[0m\u001b[0;34m=\u001b[0m\u001b[0mfloat\u001b[0m\u001b[0;34m(\u001b[0m\u001b[0mstr2\u001b[0m\u001b[0;34m)\u001b[0m\u001b[0;34m\u001b[0m\u001b[0;34m\u001b[0m\u001b[0m\n\u001b[0m\u001b[1;32m     26\u001b[0m \u001b[0mprint\u001b[0m\u001b[0;34m(\u001b[0m\u001b[0mvar3\u001b[0m\u001b[0;34m)\u001b[0m\u001b[0;34m\u001b[0m\u001b[0;34m\u001b[0m\u001b[0m\n\u001b[1;32m     27\u001b[0m \u001b[0mprint\u001b[0m\u001b[0;34m(\u001b[0m\u001b[0mtype\u001b[0m\u001b[0;34m(\u001b[0m\u001b[0mvar3\u001b[0m\u001b[0;34m)\u001b[0m\u001b[0;34m)\u001b[0m\u001b[0;34m\u001b[0m\u001b[0;34m\u001b[0m\u001b[0m\n",
      "\u001b[0;31mValueError\u001b[0m: could not convert string to float: 'nitin'"
     ]
    }
   ],
   "source": [
    "#print(\"int, string to float\")\n",
    "a=10\n",
    "str1=\"100.5\"\n",
    "str2=\"nitin\"\n",
    "\n",
    "print(\"int to float:\")\n",
    "\n",
    "\n",
    "print(a)\n",
    "print(type(a))\n",
    "var1=float(a)\n",
    "print(var1)\n",
    "print(type(var1))\n",
    "\n",
    "print(\"string to float:\")\n",
    "\n",
    "print(str1)\n",
    "print(type(str1))\n",
    "var2=float(str1)\n",
    "print(var2)\n",
    "print(type(var2))\n",
    "\n",
    "print(str2)\n",
    "print(type(str2))\n",
    "var3=float(str2)\n",
    "print(var3)\n",
    "print(type(var3))\n",
    "\n"
   ]
  },
  {
   "cell_type": "code",
   "execution_count": 82,
   "id": "65a2ac13",
   "metadata": {},
   "outputs": [
    {
     "name": "stdout",
     "output_type": "stream",
     "text": [
      "float to int:\n",
      "20.5\n",
      "<class 'float'>\n",
      "20\n",
      "<class 'int'>\n",
      "string to int:\n",
      "100\n",
      "<class 'str'>\n",
      "100\n",
      "<class 'int'>\n",
      "nitin\n",
      "<class 'str'>\n"
     ]
    },
    {
     "ename": "ValueError",
     "evalue": "invalid literal for int() with base 10: 'nitin'",
     "output_type": "error",
     "traceback": [
      "\u001b[0;31m---------------------------------------------------------------------------\u001b[0m",
      "\u001b[0;31mValueError\u001b[0m                                Traceback (most recent call last)",
      "\u001b[0;32m<ipython-input-82-751b08594e28>\u001b[0m in \u001b[0;36m<module>\u001b[0;34m\u001b[0m\n\u001b[1;32m     20\u001b[0m \u001b[0mprint\u001b[0m\u001b[0;34m(\u001b[0m\u001b[0mstr2\u001b[0m\u001b[0;34m)\u001b[0m\u001b[0;34m\u001b[0m\u001b[0;34m\u001b[0m\u001b[0m\n\u001b[1;32m     21\u001b[0m \u001b[0mprint\u001b[0m\u001b[0;34m(\u001b[0m\u001b[0mtype\u001b[0m\u001b[0;34m(\u001b[0m\u001b[0mstr2\u001b[0m\u001b[0;34m)\u001b[0m\u001b[0;34m)\u001b[0m\u001b[0;34m\u001b[0m\u001b[0;34m\u001b[0m\u001b[0m\n\u001b[0;32m---> 22\u001b[0;31m \u001b[0mvar3\u001b[0m\u001b[0;34m=\u001b[0m\u001b[0mint\u001b[0m\u001b[0;34m(\u001b[0m\u001b[0mstr2\u001b[0m\u001b[0;34m)\u001b[0m\u001b[0;34m\u001b[0m\u001b[0;34m\u001b[0m\u001b[0m\n\u001b[0m\u001b[1;32m     23\u001b[0m \u001b[0mprint\u001b[0m\u001b[0;34m(\u001b[0m\u001b[0mvar3\u001b[0m\u001b[0;34m)\u001b[0m\u001b[0;34m\u001b[0m\u001b[0;34m\u001b[0m\u001b[0m\n\u001b[1;32m     24\u001b[0m \u001b[0mprint\u001b[0m\u001b[0;34m(\u001b[0m\u001b[0mtype\u001b[0m\u001b[0;34m(\u001b[0m\u001b[0mvar3\u001b[0m\u001b[0;34m)\u001b[0m\u001b[0;34m)\u001b[0m\u001b[0;34m\u001b[0m\u001b[0;34m\u001b[0m\u001b[0m\n",
      "\u001b[0;31mValueError\u001b[0m: invalid literal for int() with base 10: 'nitin'"
     ]
    }
   ],
   "source": [
    "#print(\"float,string to int\")\n",
    "var=20.5\n",
    "str1=\"100\"\n",
    "str2=\"nitin\"\n",
    "\n",
    "print(\"float to int:\")\n",
    "print(var)\n",
    "print (type(var))\n",
    "var1=int(var)\n",
    "print(var1)\n",
    "print(type(var1))\n",
    "\n",
    "print(\"string to int:\")\n",
    "print(str1)\n",
    "print(type(str1))\n",
    "var2=int(str1)\n",
    "print(var2)\n",
    "print(type(var2))\n",
    "\n",
    "print(str2)\n",
    "print(type(str2))\n",
    "var3=int(str2)\n",
    "print(var3)\n",
    "print(type(var3))"
   ]
  },
  {
   "cell_type": "raw",
   "id": "7c70472e",
   "metadata": {},
   "source": []
  },
  {
   "cell_type": "raw",
   "id": "e5e2dc72",
   "metadata": {},
   "source": [
    "complex number"
   ]
  },
  {
   "cell_type": "code",
   "execution_count": 83,
   "id": "813b291e",
   "metadata": {},
   "outputs": [
    {
     "name": "stdout",
     "output_type": "stream",
     "text": [
      "complex to string:\n",
      "(3+5j)\n",
      "<class 'complex'>\n",
      "(3+5j)\n",
      "<class 'str'>\n"
     ]
    }
   ],
   "source": [
    "print(\"complex to string:\")\n",
    "comp=3+5j\n",
    "print(comp)\n",
    "print(type(comp))\n",
    "var=str(comp)\n",
    "print(var)\n",
    "print(type(var))\n"
   ]
  },
  {
   "cell_type": "raw",
   "id": "84e708c3",
   "metadata": {},
   "source": [
    "Now we do string to complex"
   ]
  },
  {
   "cell_type": "code",
   "execution_count": 84,
   "id": "e9652307",
   "metadata": {},
   "outputs": [
    {
     "name": "stdout",
     "output_type": "stream",
     "text": [
      "3+5j\n",
      "<class 'str'>\n",
      "(3+5j)\n",
      "<class 'complex'>\n",
      "nitin\n",
      "<class 'str'>\n"
     ]
    },
    {
     "ename": "ValueError",
     "evalue": "complex() arg is a malformed string",
     "output_type": "error",
     "traceback": [
      "\u001b[0;31m---------------------------------------------------------------------------\u001b[0m",
      "\u001b[0;31mValueError\u001b[0m                                Traceback (most recent call last)",
      "\u001b[0;32m<ipython-input-84-820188afd0f3>\u001b[0m in \u001b[0;36m<module>\u001b[0;34m\u001b[0m\n\u001b[1;32m      9\u001b[0m \u001b[0mprint\u001b[0m\u001b[0;34m(\u001b[0m\u001b[0mstr2\u001b[0m\u001b[0;34m)\u001b[0m\u001b[0;34m\u001b[0m\u001b[0;34m\u001b[0m\u001b[0m\n\u001b[1;32m     10\u001b[0m \u001b[0mprint\u001b[0m\u001b[0;34m(\u001b[0m\u001b[0mtype\u001b[0m\u001b[0;34m(\u001b[0m\u001b[0mstr2\u001b[0m\u001b[0;34m)\u001b[0m\u001b[0;34m)\u001b[0m\u001b[0;34m\u001b[0m\u001b[0;34m\u001b[0m\u001b[0m\n\u001b[0;32m---> 11\u001b[0;31m \u001b[0mvar2\u001b[0m\u001b[0;34m=\u001b[0m\u001b[0mcomplex\u001b[0m\u001b[0;34m(\u001b[0m\u001b[0mstr2\u001b[0m\u001b[0;34m)\u001b[0m\u001b[0;34m\u001b[0m\u001b[0;34m\u001b[0m\u001b[0m\n\u001b[0m\u001b[1;32m     12\u001b[0m \u001b[0mprint\u001b[0m\u001b[0;34m(\u001b[0m\u001b[0mvar2\u001b[0m\u001b[0;34m)\u001b[0m\u001b[0;34m\u001b[0m\u001b[0;34m\u001b[0m\u001b[0m\n\u001b[1;32m     13\u001b[0m \u001b[0mprint\u001b[0m\u001b[0;34m(\u001b[0m\u001b[0mtype\u001b[0m\u001b[0;34m(\u001b[0m\u001b[0mvar2\u001b[0m\u001b[0;34m)\u001b[0m\u001b[0;34m)\u001b[0m\u001b[0;34m\u001b[0m\u001b[0;34m\u001b[0m\u001b[0m\n",
      "\u001b[0;31mValueError\u001b[0m: complex() arg is a malformed string"
     ]
    }
   ],
   "source": [
    "str1=\"3+5j\"\n",
    "str2=\"nitin\"\n",
    "print(str1)\n",
    "print(type(str1))\n",
    "var1=complex(str1)\n",
    "print(var1)\n",
    "print(type(var1))\n",
    "\n",
    "print(str2)\n",
    "print(type(str2))\n",
    "var2=complex(str2)\n",
    "print(var2)\n",
    "print(type(var2))"
   ]
  },
  {
   "cell_type": "markdown",
   "id": "517567e2",
   "metadata": {},
   "source": [
    "# Other types to complex conersion"
   ]
  },
  {
   "cell_type": "code",
   "execution_count": 85,
   "id": "7e99deb3",
   "metadata": {},
   "outputs": [
    {
     "name": "stdout",
     "output_type": "stream",
     "text": [
      "20\n",
      "<class 'int'>\n",
      "(20+0j)\n",
      "<class 'complex'>\n",
      "10.5\n",
      "<class 'float'>\n",
      "(10.5+0j)\n",
      "<class 'complex'>\n",
      "(20.6+0j)\n"
     ]
    }
   ],
   "source": [
    "var=20\n",
    "print(var)\n",
    "print(type(var))\n",
    "var1=complex(var)\n",
    "print(var1)\n",
    "print(type(var1))\n",
    "\n",
    "\n",
    "var2=10.5\n",
    "print(var2)\n",
    "print(type(var2))\n",
    "var3=complex(var2)\n",
    "print(var3)\n",
    "print(type(var3))\n",
    "\n",
    "\n",
    "\n",
    "var4=\"20.6\"\n",
    "print(complex(var4))\n",
    "\n",
    "\n"
   ]
  },
  {
   "cell_type": "code",
   "execution_count": 86,
   "id": "924d18ee",
   "metadata": {},
   "outputs": [
    {
     "name": "stdout",
     "output_type": "stream",
     "text": [
      "(5+2j)\n",
      "(20.5+4j)\n",
      "(1+0j)\n"
     ]
    }
   ],
   "source": [
    "print(complex(5,2))\n",
    "print(complex(20.5,4))\n",
    "\n",
    "print(complex(True,False))"
   ]
  },
  {
   "cell_type": "markdown",
   "id": "e2b7ec93",
   "metadata": {},
   "source": [
    "# Boolean\n"
   ]
  },
  {
   "cell_type": "raw",
   "id": "2c494b6d",
   "metadata": {},
   "source": [
    "Bool()"
   ]
  },
  {
   "cell_type": "code",
   "execution_count": 87,
   "id": "7822b1ae",
   "metadata": {},
   "outputs": [
    {
     "name": "stdout",
     "output_type": "stream",
     "text": [
      "1\n"
     ]
    }
   ],
   "source": [
    "print(int(True))"
   ]
  },
  {
   "cell_type": "code",
   "execution_count": 88,
   "id": "15226f0c",
   "metadata": {},
   "outputs": [
    {
     "name": "stdout",
     "output_type": "stream",
     "text": [
      "0\n"
     ]
    }
   ],
   "source": [
    "print(int(False))"
   ]
  },
  {
   "cell_type": "code",
   "execution_count": 89,
   "id": "b62c3f78",
   "metadata": {},
   "outputs": [
    {
     "name": "stdout",
     "output_type": "stream",
     "text": [
      "1.0\n"
     ]
    }
   ],
   "source": [
    "print(float(True))"
   ]
  },
  {
   "cell_type": "code",
   "execution_count": 90,
   "id": "74064543",
   "metadata": {},
   "outputs": [
    {
     "name": "stdout",
     "output_type": "stream",
     "text": [
      "0.0\n"
     ]
    }
   ],
   "source": [
    "print(float(False))\n"
   ]
  },
  {
   "cell_type": "code",
   "execution_count": 91,
   "id": "0cf27c42",
   "metadata": {},
   "outputs": [
    {
     "name": "stdout",
     "output_type": "stream",
     "text": [
      "(1+0j)\n"
     ]
    }
   ],
   "source": [
    "print(complex(True))"
   ]
  },
  {
   "cell_type": "code",
   "execution_count": 92,
   "id": "037c76dd",
   "metadata": {},
   "outputs": [
    {
     "name": "stdout",
     "output_type": "stream",
     "text": [
      "0j\n",
      "0j\n"
     ]
    }
   ],
   "source": [
    "print(complex(False))\n",
    "\n",
    "a=0+0j\n",
    "print(a)"
   ]
  },
  {
   "cell_type": "code",
   "execution_count": null,
   "id": "97b1caca",
   "metadata": {},
   "outputs": [],
   "source": []
  },
  {
   "cell_type": "code",
   "execution_count": 93,
   "id": "aff49a12",
   "metadata": {},
   "outputs": [
    {
     "name": "stdout",
     "output_type": "stream",
     "text": [
      "True\n"
     ]
    }
   ],
   "source": [
    "print(str(True))"
   ]
  },
  {
   "cell_type": "code",
   "execution_count": 94,
   "id": "7381f57e",
   "metadata": {},
   "outputs": [
    {
     "name": "stdout",
     "output_type": "stream",
     "text": [
      "False\n"
     ]
    }
   ],
   "source": [
    "print(str(False))"
   ]
  },
  {
   "cell_type": "code",
   "execution_count": 95,
   "id": "0cff1453",
   "metadata": {},
   "outputs": [
    {
     "name": "stdout",
     "output_type": "stream",
     "text": [
      "True\n",
      "False\n"
     ]
    }
   ],
   "source": [
    "print(bool(3.2))\n",
    "print(bool(0.0))"
   ]
  },
  {
   "cell_type": "code",
   "execution_count": 96,
   "id": "7a17c540",
   "metadata": {},
   "outputs": [
    {
     "name": "stdout",
     "output_type": "stream",
     "text": [
      "True\n",
      "False\n"
     ]
    }
   ],
   "source": [
    "print(bool(1))\n",
    "print(bool(0))"
   ]
  },
  {
   "cell_type": "code",
   "execution_count": 97,
   "id": "d591eaa5",
   "metadata": {},
   "outputs": [
    {
     "name": "stdout",
     "output_type": "stream",
     "text": [
      "False\n",
      "False\n",
      "True\n",
      "True\n"
     ]
    }
   ],
   "source": [
    "print(bool(\"\"))\n",
    "print(bool())\n",
    "print(bool(45))\n",
    "print (bool(\"n\"))"
   ]
  },
  {
   "cell_type": "code",
   "execution_count": 98,
   "id": "003da2c3",
   "metadata": {},
   "outputs": [
    {
     "name": "stdout",
     "output_type": "stream",
     "text": [
      "True\n",
      "True\n",
      "True\n",
      "False\n"
     ]
    }
   ],
   "source": [
    "print(bool(2+3j))\n",
    "print(bool(2+0j))\n",
    "print(bool(0+3j))\n",
    "print (bool(0+0j))"
   ]
  },
  {
   "cell_type": "markdown",
   "id": "7e6f4d92",
   "metadata": {},
   "source": [
    "# String Slicing"
   ]
  },
  {
   "cell_type": "raw",
   "id": "8a59b302",
   "metadata": {},
   "source": [
    "#Slicing is making pieces of some separator\n",
    "#[]is aslice operator\n"
   ]
  },
  {
   "cell_type": "code",
   "execution_count": 99,
   "id": "81f832cb",
   "metadata": {},
   "outputs": [
    {
     "data": {
      "text/plain": [
       "'T'"
      ]
     },
     "execution_count": 99,
     "metadata": {},
     "output_type": "execute_result"
    }
   ],
   "source": [
    "str1=\"This tutorial is basically designed for beginers\"\n",
    "\n",
    "str1[0]"
   ]
  },
  {
   "cell_type": "code",
   "execution_count": 100,
   "id": "e5874985",
   "metadata": {},
   "outputs": [
    {
     "data": {
      "text/plain": [
       "'a'"
      ]
     },
     "execution_count": 100,
     "metadata": {},
     "output_type": "execute_result"
    }
   ],
   "source": [
    "str1[11]"
   ]
  },
  {
   "cell_type": "code",
   "execution_count": 101,
   "id": "116c3b2f",
   "metadata": {},
   "outputs": [
    {
     "data": {
      "text/plain": [
       "'This tutorial is basically designed for beginers'"
      ]
     },
     "execution_count": 101,
     "metadata": {},
     "output_type": "execute_result"
    }
   ],
   "source": [
    "str1[0:]"
   ]
  },
  {
   "cell_type": "code",
   "execution_count": 102,
   "id": "962b8362",
   "metadata": {},
   "outputs": [
    {
     "data": {
      "text/plain": [
       "''"
      ]
     },
     "execution_count": 102,
     "metadata": {},
     "output_type": "execute_result"
    }
   ],
   "source": [
    "str1[:0]"
   ]
  },
  {
   "cell_type": "code",
   "execution_count": 103,
   "id": "f54473a3",
   "metadata": {},
   "outputs": [
    {
     "data": {
      "text/plain": [
       "' tutorial i'"
      ]
     },
     "execution_count": 103,
     "metadata": {},
     "output_type": "execute_result"
    }
   ],
   "source": [
    "str1[4:15]"
   ]
  },
  {
   "cell_type": "code",
   "execution_count": 104,
   "id": "b359af46",
   "metadata": {},
   "outputs": [
    {
     "data": {
      "text/plain": [
       "'This tutorial is basically designed for beginers'"
      ]
     },
     "execution_count": 104,
     "metadata": {},
     "output_type": "execute_result"
    }
   ],
   "source": [
    "str1"
   ]
  },
  {
   "cell_type": "code",
   "execution_count": 105,
   "id": "10e80748",
   "metadata": {},
   "outputs": [
    {
     "data": {
      "text/plain": [
       "'This tutorial is basicall'"
      ]
     },
     "execution_count": 105,
     "metadata": {},
     "output_type": "execute_result"
    }
   ],
   "source": [
    "str1[:25]"
   ]
  },
  {
   "cell_type": "code",
   "execution_count": 106,
   "id": "3646388a",
   "metadata": {},
   "outputs": [
    {
     "data": {
      "text/plain": [
       "str"
      ]
     },
     "execution_count": 106,
     "metadata": {},
     "output_type": "execute_result"
    }
   ],
   "source": [
    "type(str1)"
   ]
  },
  {
   "cell_type": "code",
   "execution_count": 107,
   "id": "c87ca4ed",
   "metadata": {},
   "outputs": [
    {
     "data": {
      "text/plain": [
       "'s'"
      ]
     },
     "execution_count": 107,
     "metadata": {},
     "output_type": "execute_result"
    }
   ],
   "source": [
    "str1[-1]"
   ]
  },
  {
   "cell_type": "code",
   "execution_count": 108,
   "id": "a2ca3a5f",
   "metadata": {},
   "outputs": [
    {
     "data": {
      "text/plain": [
       "'signed for beginers'"
      ]
     },
     "execution_count": 108,
     "metadata": {},
     "output_type": "execute_result"
    }
   ],
   "source": [
    "str1[-19:]"
   ]
  },
  {
   "cell_type": "code",
   "execution_count": 109,
   "id": "69dd2abd",
   "metadata": {},
   "outputs": [
    {
     "data": {
      "text/plain": [
       "' for begine'"
      ]
     },
     "execution_count": 109,
     "metadata": {},
     "output_type": "execute_result"
    }
   ],
   "source": [
    "str1[-13:-2]"
   ]
  },
  {
   "cell_type": "code",
   "execution_count": 110,
   "id": "e5d9652d",
   "metadata": {},
   "outputs": [
    {
     "data": {
      "text/plain": [
       "'s'"
      ]
     },
     "execution_count": 110,
     "metadata": {},
     "output_type": "execute_result"
    }
   ],
   "source": [
    "str1[-1:]"
   ]
  },
  {
   "cell_type": "code",
   "execution_count": 111,
   "id": "aa1c28e6",
   "metadata": {},
   "outputs": [
    {
     "data": {
      "text/plain": [
       "'This tutorial This tutorial This tutorial '"
      ]
     },
     "execution_count": 111,
     "metadata": {},
     "output_type": "execute_result"
    }
   ],
   "source": [
    "str3=str1[:14]\n",
    "str3*3"
   ]
  },
  {
   "cell_type": "code",
   "execution_count": 112,
   "id": "3b0591f9",
   "metadata": {},
   "outputs": [
    {
     "data": {
      "text/plain": [
       "'This tutorial is basically designed for beginer'"
      ]
     },
     "execution_count": 112,
     "metadata": {},
     "output_type": "execute_result"
    }
   ],
   "source": [
    "str1[:-1]"
   ]
  },
  {
   "cell_type": "code",
   "execution_count": 113,
   "id": "7a53d555",
   "metadata": {},
   "outputs": [
    {
     "data": {
      "text/plain": [
       "'This tutorial is basically desig'"
      ]
     },
     "execution_count": 113,
     "metadata": {},
     "output_type": "execute_result"
    }
   ],
   "source": [
    "str1[:-16]"
   ]
  },
  {
   "cell_type": "code",
   "execution_count": 114,
   "id": "81605d92",
   "metadata": {},
   "outputs": [
    {
     "data": {
      "text/plain": [
       "'This tutorial is basically dThis tutorial is basically dThis tutorial is basically d'"
      ]
     },
     "execution_count": 114,
     "metadata": {},
     "output_type": "execute_result"
    }
   ],
   "source": [
    "str3=str1[:-20]\n",
    "str3*3"
   ]
  },
  {
   "cell_type": "code",
   "execution_count": 115,
   "id": "8cac1058",
   "metadata": {},
   "outputs": [
    {
     "data": {
      "text/plain": [
       "'l is basically designed for beginersl is basically designed for beginersl is basically designed for beginers'"
      ]
     },
     "execution_count": 115,
     "metadata": {},
     "output_type": "execute_result"
    }
   ],
   "source": [
    "str3=str1[12:]\n",
    "str3*3"
   ]
  },
  {
   "cell_type": "code",
   "execution_count": 116,
   "id": "f4707c4d",
   "metadata": {},
   "outputs": [
    {
     "data": {
      "text/plain": [
       "'is tutorial is basicais tutorial is basica'"
      ]
     },
     "execution_count": 116,
     "metadata": {},
     "output_type": "execute_result"
    }
   ],
   "source": [
    "str4=str1[2:23]\n",
    "str4*2"
   ]
  },
  {
   "cell_type": "markdown",
   "id": "6f8a3791",
   "metadata": {},
   "source": [
    "# Immutability\n",
    "\n",
    "\n"
   ]
  },
  {
   "cell_type": "raw",
   "id": "1ea1ef06",
   "metadata": {},
   "source": [
    "#In python once an object is created ,we are not allowed to change \n",
    "#The content,if youn want to change  the content PVM will create a# new object for it "
   ]
  },
  {
   "cell_type": "code",
   "execution_count": 117,
   "id": "31274abf",
   "metadata": {},
   "outputs": [
    {
     "name": "stdout",
     "output_type": "stream",
     "text": [
      "10920864\n",
      "and \n",
      " 10920864\n",
      "True\n"
     ]
    }
   ],
   "source": [
    "var=200\n",
    "var1=var\n",
    "print(id(var))\n",
    "print(\"and \\n\",id(var1))\n",
    "print(var is var1)\n"
   ]
  },
  {
   "cell_type": "code",
   "execution_count": 118,
   "id": "d9caf9ed",
   "metadata": {},
   "outputs": [
    {
     "name": "stdout",
     "output_type": "stream",
     "text": [
      "False\n",
      "140684407931856\n",
      "and \n",
      " 140684407931984\n"
     ]
    }
   ],
   "source": [
    "var= 2+3j\n",
    "var1=2+3j\n",
    "print(var is var1)\n",
    "print(id(var))\n",
    "print(\"and \\n\",id(var1))  #id is different\n"
   ]
  },
  {
   "cell_type": "raw",
   "id": "a44d30e1",
   "metadata": {},
   "source": [
    "assignment :Try same string and boolean types"
   ]
  },
  {
   "cell_type": "code",
   "execution_count": 119,
   "id": "909e1385",
   "metadata": {},
   "outputs": [
    {
     "name": "stdout",
     "output_type": "stream",
     "text": [
      "140684407877792\n",
      "and \n",
      " 140684407877792\n",
      "True\n"
     ]
    }
   ],
   "source": [
    "#for string\n",
    "\n",
    "\n",
    "var=\"nitin\"\n",
    "var1=var\n",
    "print(id(var))\n",
    "print(\"and \\n\",id(var1))\n",
    "print(var is var1)"
   ]
  },
  {
   "cell_type": "code",
   "execution_count": 120,
   "id": "a3efd646",
   "metadata": {},
   "outputs": [
    {
     "name": "stdout",
     "output_type": "stream",
     "text": [
      "True\n",
      "140684406907880\n",
      "and \n",
      " 140684406907880\n"
     ]
    }
   ],
   "source": [
    "var=\"khot\"\n",
    "var1=\"khot\"\n",
    "print(var is var1)\n",
    "print(id(var))\n",
    "print(\"and \\n\",id(var1))\n"
   ]
  },
  {
   "cell_type": "code",
   "execution_count": 121,
   "id": "b5c37880",
   "metadata": {},
   "outputs": [
    {
     "name": "stdout",
     "output_type": "stream",
     "text": [
      "True\n",
      "10302848\n",
      "and \n",
      " 10302848\n"
     ]
    }
   ],
   "source": [
    "#for boolean\n",
    "\n",
    "var=True\n",
    "var1=var\n",
    "print(var is var1)\n",
    "print(id(var))\n",
    "print(\"and \\n\",id(var1))\n"
   ]
  },
  {
   "cell_type": "code",
   "execution_count": 122,
   "id": "307a3305",
   "metadata": {},
   "outputs": [
    {
     "name": "stdout",
     "output_type": "stream",
     "text": [
      "True\n",
      "10302848\n",
      "and \n",
      " 10302848\n"
     ]
    }
   ],
   "source": [
    "var=True\n",
    "var1=True\n",
    "print(var is var1)\n",
    "print(id(var))\n",
    "print(\"and \\n\",id(var1))\n"
   ]
  },
  {
   "cell_type": "code",
   "execution_count": 123,
   "id": "b5af7ebd",
   "metadata": {},
   "outputs": [
    {
     "name": "stdout",
     "output_type": "stream",
     "text": [
      "False\n",
      "10302848\n",
      "and \n",
      " 10300256\n"
     ]
    }
   ],
   "source": [
    "var=True\n",
    "var1=False\n",
    "print(var is var1)\n",
    "print(id(var))\n",
    "print(\"and \\n\",id(var1))\n"
   ]
  },
  {
   "cell_type": "code",
   "execution_count": 124,
   "id": "fc18e034",
   "metadata": {},
   "outputs": [
    {
     "name": "stdout",
     "output_type": "stream",
     "text": [
      "True\n",
      "10300256\n",
      "and \n",
      " 10300256\n"
     ]
    }
   ],
   "source": [
    "var=False\n",
    "var1=False\n",
    "print(var is var1)\n",
    "print(id(var))\n",
    "print(\"and \\n\",id(var1))\n"
   ]
  },
  {
   "cell_type": "markdown",
   "id": "6962d1d2",
   "metadata": {},
   "source": [
    "# Bytes and Bytearray Data Type"
   ]
  },
  {
   "cell_type": "code",
   "execution_count": 125,
   "id": "938a8bca",
   "metadata": {},
   "outputs": [
    {
     "name": "stdout",
     "output_type": "stream",
     "text": [
      "<class 'list'>\n",
      "<class 'bytes'>\n",
      "10\n",
      "20\n",
      "30\n",
      "40\n",
      "50\n",
      "60\n",
      "70\n",
      "80\n"
     ]
    }
   ],
   "source": [
    "#bytes can hold the values  from 0 to 256\n",
    "#You cant change the value of bytes once itis created\n",
    "\n",
    "\n",
    "a = [10,20,30,40,50,60,70,80]\n",
    "print(type(a))\n",
    "\n",
    "b = bytes(a)  #b[2]=90\n",
    "              #it will raise error\n",
    "             #bytes object doe not support item assignment\n",
    "\n",
    "print(type(b))\n",
    "\n",
    "for i in b:\n",
    "    print(i)\n"
   ]
  },
  {
   "cell_type": "code",
   "execution_count": 126,
   "id": "707b499b",
   "metadata": {},
   "outputs": [
    {
     "name": "stdout",
     "output_type": "stream",
     "text": [
      "<class 'list'>\n",
      "<class 'bytearray'>\n",
      "10\n",
      "20\n",
      "30\n",
      "40\n",
      "50\n",
      "New List:\n",
      "10\n",
      "20\n",
      "200\n",
      "40\n",
      "50\n",
      "This is Difference\n"
     ]
    }
   ],
   "source": [
    "#Bytearray\n",
    "#You can change the value of bytearray after creation also \n",
    "\n",
    "\n",
    "a=[10,20,30,40,50]\n",
    "print (type(a))\n",
    "\n",
    "b = bytearray(a)\n",
    "\n",
    "print(type(b))\n",
    "for i in b:\n",
    "        print(i)\n",
    "        \n",
    "b[2]= 200\n",
    "print(\"New List:\")\n",
    "for i in b:\n",
    "    print(i)\n",
    "print(\"This is Difference\")    \n"
   ]
  },
  {
   "cell_type": "markdown",
   "id": "c5df9292",
   "metadata": {},
   "source": [
    "# Data Types"
   ]
  },
  {
   "cell_type": "raw",
   "id": "f0a1a09e",
   "metadata": {},
   "source": [
    "Text type = str\n",
    "Numeric types = int,float,complex\n",
    "Sequence types = list, tuple,range\n",
    "Mapping type = dict\n",
    "Set types = set, frozenset\n",
    "Boolean type = bool\n",
    "Binary types = bytes bytearray,memoryview"
   ]
  },
  {
   "cell_type": "markdown",
   "id": "976b67f2",
   "metadata": {},
   "source": [
    "# 1.List"
   ]
  },
  {
   "cell_type": "code",
   "execution_count": 127,
   "id": "f40b6c31",
   "metadata": {
    "scrolled": true
   },
   "outputs": [
    {
     "name": "stdout",
     "output_type": "stream",
     "text": [
      "[10, 20, 30, 40, 50]\n",
      "[10.1, 20.2, 30.3, 40.4, 50.5]\n",
      "['Nitin', 'Rahul', 'Datta', 'Ajay']\n",
      "[20, 10.1, 'Nitin']\n"
     ]
    }
   ],
   "source": [
    "#Example\n",
    "\n",
    "list1 = [10,20,30,40,50]\n",
    "list2 = [10.1,20.2,30.3,40.4,50.5]\n",
    "list3 = ['Nitin','Rahul','Datta','Ajay']\n",
    "list4 = [20,10.1,'Nitin']\n",
    "\n",
    "print(list1)\n",
    "print(list2)\n",
    "print(list3)\n",
    "print(list4)\n",
    "\n"
   ]
  },
  {
   "cell_type": "code",
   "execution_count": 128,
   "id": "5cfc6d1f",
   "metadata": {},
   "outputs": [
    {
     "name": "stdout",
     "output_type": "stream",
     "text": [
      "<class 'list'>\n"
     ]
    }
   ],
   "source": [
    "print(type(list1))"
   ]
  },
  {
   "cell_type": "code",
   "execution_count": 129,
   "id": "fa711370",
   "metadata": {},
   "outputs": [
    {
     "name": "stdout",
     "output_type": "stream",
     "text": [
      "30\n",
      "10.1\n",
      "Nitin\n",
      "[10, 20, 30, 40, 50]\n",
      "[10.1, 20.2, 30.3, 40.4, 50.5]\n",
      "['Nitin', 'Rahul', 'Datta', 'Ajay']\n",
      "[20, 10.1, 'Nitin']\n"
     ]
    }
   ],
   "source": [
    "print(list1[2])\n",
    "print(list2[0])\n",
    "print(list3[0])\n",
    "print(list1)\n",
    "print(list2)\n",
    "print(list3)\n",
    "print(list4)"
   ]
  },
  {
   "cell_type": "code",
   "execution_count": 130,
   "id": "6f4b1194",
   "metadata": {},
   "outputs": [
    {
     "data": {
      "text/plain": [
       "[10, 20, 30, 40]"
      ]
     },
     "execution_count": 130,
     "metadata": {},
     "output_type": "execute_result"
    }
   ],
   "source": [
    "list1[0:4]"
   ]
  },
  {
   "cell_type": "code",
   "execution_count": 131,
   "id": "1a082fc4",
   "metadata": {},
   "outputs": [
    {
     "data": {
      "text/plain": [
       "[10.1, 20.2]"
      ]
     },
     "execution_count": 131,
     "metadata": {},
     "output_type": "execute_result"
    }
   ],
   "source": [
    "list2[:-3]"
   ]
  },
  {
   "cell_type": "code",
   "execution_count": 132,
   "id": "1f0b0676",
   "metadata": {},
   "outputs": [
    {
     "name": "stdout",
     "output_type": "stream",
     "text": [
      "length of list1\n",
      "5\n"
     ]
    }
   ],
   "source": [
    "print(\"length of list1\")\n",
    "print(len(list1))"
   ]
  },
  {
   "cell_type": "code",
   "execution_count": 133,
   "id": "54603cbc",
   "metadata": {},
   "outputs": [
    {
     "name": "stdout",
     "output_type": "stream",
     "text": [
      "[10, 20, 30, 40, 50]\n",
      "[10, 20, 30, 40, 50, 'Nitin']\n"
     ]
    }
   ],
   "source": [
    "print(list1)\n",
    "list1.append('Nitin')\n",
    "print(list1)"
   ]
  },
  {
   "cell_type": "code",
   "execution_count": 134,
   "id": "11452955",
   "metadata": {},
   "outputs": [
    {
     "name": "stdout",
     "output_type": "stream",
     "text": [
      "[10, 20, 30, 40, 50, 'Nitin']\n",
      "[10, 20, 30, 40, 50]\n"
     ]
    }
   ],
   "source": [
    "print(list1)\n",
    "list1.remove('Nitin')\n",
    "print(list1)"
   ]
  },
  {
   "cell_type": "code",
   "execution_count": 135,
   "id": "6b841d96",
   "metadata": {},
   "outputs": [
    {
     "name": "stdout",
     "output_type": "stream",
     "text": [
      "[10, 20, 30, 40, 50]\n",
      "[10, 30, 40, 50]\n"
     ]
    }
   ],
   "source": [
    "print(list1)\n",
    "list1.remove(20)\n",
    "print(list1)"
   ]
  },
  {
   "cell_type": "raw",
   "id": "587e20dd",
   "metadata": {},
   "source": [
    "#assignment\n",
    "1.append\n",
    "2.copy \n",
    "3.count \n",
    "4.insert \n",
    "5.index \n",
    "6.pop \n",
    "7.remove \n",
    "8.reverse \n",
    "9.extend\n",
    "10.sort \n",
    "11.clear\n"
   ]
  },
  {
   "cell_type": "code",
   "execution_count": 136,
   "id": "f14892c2",
   "metadata": {},
   "outputs": [
    {
     "name": "stdout",
     "output_type": "stream",
     "text": [
      "[10, 20, 30, 40, 50]\n",
      "[10, 20, 30, 40, 50, 60]\n"
     ]
    }
   ],
   "source": [
    "list1 = [10,20,30,40,50]\n",
    "\n",
    "#append\n",
    "\n",
    "print(list1)\n",
    "list1.append(60)\n",
    "print(list1)"
   ]
  },
  {
   "cell_type": "code",
   "execution_count": 137,
   "id": "31072b30",
   "metadata": {},
   "outputs": [
    {
     "name": "stdout",
     "output_type": "stream",
     "text": [
      "[10, 20, 30, 40, 50, 60]\n",
      "[10, 20, 30, 40, 50, 60]\n"
     ]
    }
   ],
   "source": [
    "#copy\n",
    "\n",
    "print(list1)\n",
    "list1.copy \n",
    "print(list1)"
   ]
  },
  {
   "cell_type": "code",
   "execution_count": 138,
   "id": "7a36f1e7",
   "metadata": {},
   "outputs": [
    {
     "name": "stdout",
     "output_type": "stream",
     "text": [
      "[10, 20, 30, 40, 50, 60]\n",
      "1\n"
     ]
    }
   ],
   "source": [
    "#count\n",
    "\n",
    "print(list1)\n",
    "cnt=list1.count(20)\n",
    "print(cnt)\n"
   ]
  },
  {
   "cell_type": "code",
   "execution_count": 139,
   "id": "cc4a609c",
   "metadata": {},
   "outputs": [
    {
     "name": "stdout",
     "output_type": "stream",
     "text": [
      "[10, 20, 30, 40, 50, 60]\n",
      "[10, 20, 30, 55, 40, 50, 60]\n"
     ]
    }
   ],
   "source": [
    "#insert\n",
    "\n",
    "print(list1)\n",
    "list1.insert(3,55)\n",
    "print(list1)"
   ]
  },
  {
   "cell_type": "code",
   "execution_count": 140,
   "id": "b032ed6e",
   "metadata": {},
   "outputs": [
    {
     "name": "stdout",
     "output_type": "stream",
     "text": [
      "[10, 20, 30, 55, 40, 50, 60]\n",
      "2\n"
     ]
    }
   ],
   "source": [
    "#index\n",
    "\n",
    "print(list1)\n",
    "loc = list1.index(30)\n",
    "print(loc)"
   ]
  },
  {
   "cell_type": "code",
   "execution_count": 141,
   "id": "34af88eb",
   "metadata": {},
   "outputs": [
    {
     "name": "stdout",
     "output_type": "stream",
     "text": [
      "[10, 20, 30, 55, 40, 50, 60]\n",
      "[10, 20, 55, 40, 50, 60]\n"
     ]
    }
   ],
   "source": [
    "#pop\n",
    "\n",
    "print(list1)\n",
    "list1.pop(2)\n",
    "print(list1)\n",
    "\n"
   ]
  },
  {
   "cell_type": "code",
   "execution_count": 142,
   "id": "576d672b",
   "metadata": {},
   "outputs": [
    {
     "name": "stdout",
     "output_type": "stream",
     "text": [
      "[10, 20, 55, 40, 50, 60]\n",
      "[10, 20, 55, 40, 60]\n"
     ]
    }
   ],
   "source": [
    "#remove\n",
    "\n",
    "print(list1)\n",
    "list1.remove(50)\n",
    "print(list1)"
   ]
  },
  {
   "cell_type": "code",
   "execution_count": 143,
   "id": "e382678b",
   "metadata": {},
   "outputs": [
    {
     "name": "stdout",
     "output_type": "stream",
     "text": [
      "[10, 20, 55, 40, 60]\n",
      "[60, 40, 55, 20, 10]\n"
     ]
    }
   ],
   "source": [
    "#reverse\n",
    "\n",
    "print(list1)\n",
    "list1.reverse()\n",
    "print(list1)"
   ]
  },
  {
   "cell_type": "code",
   "execution_count": 144,
   "id": "78689edd",
   "metadata": {},
   "outputs": [
    {
     "name": "stdout",
     "output_type": "stream",
     "text": [
      "[60, 40, 55, 20, 10]\n",
      "[10, 20, 40, 55, 60]\n"
     ]
    }
   ],
   "source": [
    "#sort\n",
    "\n",
    "print(list1)\n",
    "list1.sort()\n",
    "print(list1)"
   ]
  },
  {
   "cell_type": "code",
   "execution_count": 145,
   "id": "3ae0bf72",
   "metadata": {},
   "outputs": [
    {
     "name": "stdout",
     "output_type": "stream",
     "text": [
      "[10, 20, 40, 55, 60]\n",
      "[10, 20, 40, 55, 60, 100]\n"
     ]
    }
   ],
   "source": [
    "#extend\n",
    "\n",
    "print(list1)\n",
    "l=[100]\n",
    "list1.extend(l)\n",
    "print(list1)"
   ]
  },
  {
   "cell_type": "code",
   "execution_count": 146,
   "id": "7cc8ad35",
   "metadata": {},
   "outputs": [
    {
     "name": "stdout",
     "output_type": "stream",
     "text": [
      "[10, 20, 40, 55, 60, 100]\n",
      "[]\n"
     ]
    }
   ],
   "source": [
    "#clear\n",
    "\n",
    "print(list1)\n",
    "list1.clear()\n",
    "print(list1)"
   ]
  },
  {
   "cell_type": "code",
   "execution_count": 147,
   "id": "54800579",
   "metadata": {},
   "outputs": [],
   "source": [
    "list2 = [10.4,50.4,30.6,20.5,40.1]   #Float"
   ]
  },
  {
   "cell_type": "code",
   "execution_count": 148,
   "id": "515164aa",
   "metadata": {},
   "outputs": [
    {
     "name": "stdout",
     "output_type": "stream",
     "text": [
      "[10.4, 50.4, 30.6, 20.5, 40.1]\n",
      "[10.4, 50.4, 30.6, 20.5, 40.1, 60.7]\n"
     ]
    }
   ],
   "source": [
    "#append\n",
    "\n",
    "print(list2)\n",
    "list2.append(60.7)\n",
    "print(list2)"
   ]
  },
  {
   "cell_type": "code",
   "execution_count": 149,
   "id": "d2f5c684",
   "metadata": {},
   "outputs": [
    {
     "name": "stdout",
     "output_type": "stream",
     "text": [
      "[10.4, 50.4, 30.6, 20.5, 40.1, 60.7]\n",
      "[10.4, 50.4, 30.6, 20.5, 40.1, 60.7]\n"
     ]
    }
   ],
   "source": [
    "#copy\n",
    "\n",
    "print(list2)\n",
    "list2.copy\n",
    "print(list2)"
   ]
  },
  {
   "cell_type": "code",
   "execution_count": 150,
   "id": "e78049bb",
   "metadata": {},
   "outputs": [
    {
     "name": "stdout",
     "output_type": "stream",
     "text": [
      "[10.4, 50.4, 30.6, 20.5, 40.1, 60.7]\n",
      "1\n"
     ]
    }
   ],
   "source": [
    "#count\n",
    "\n",
    "print(list2)\n",
    "list2.count(20.5)\n",
    "print(list2.count(20.5))"
   ]
  },
  {
   "cell_type": "code",
   "execution_count": 151,
   "id": "2e072005",
   "metadata": {},
   "outputs": [
    {
     "name": "stdout",
     "output_type": "stream",
     "text": [
      "[10.4, 50.4, 30.6, 20.5, 40.1, 60.7]\n",
      "[10.4, 50.4, 30.6, 34.4, 20.5, 40.1, 60.7]\n"
     ]
    }
   ],
   "source": [
    "#insert\n",
    "\n",
    "print(list2)\n",
    "list2.insert(3,34.4)\n",
    "print(list2)"
   ]
  },
  {
   "cell_type": "code",
   "execution_count": 152,
   "id": "45d3514d",
   "metadata": {},
   "outputs": [
    {
     "name": "stdout",
     "output_type": "stream",
     "text": [
      "[10.4, 50.4, 30.6, 34.4, 20.5, 40.1, 60.7]\n",
      "3\n"
     ]
    }
   ],
   "source": [
    "#index\n",
    "\n",
    "print(list2)\n",
    "loc=list2.index(34.4)\n",
    "print(loc)"
   ]
  },
  {
   "cell_type": "code",
   "execution_count": 153,
   "id": "0c7910e3",
   "metadata": {},
   "outputs": [
    {
     "name": "stdout",
     "output_type": "stream",
     "text": [
      "[10.4, 50.4, 30.6, 34.4, 20.5, 40.1, 60.7]\n",
      "[10.4, 50.4, 30.6, 20.5, 40.1, 60.7]\n"
     ]
    }
   ],
   "source": [
    "#pop\n",
    "\n",
    "\n",
    "print(list2)\n",
    "list2.pop(3)\n",
    "print(list2)"
   ]
  },
  {
   "cell_type": "code",
   "execution_count": 154,
   "id": "af6eba73",
   "metadata": {},
   "outputs": [
    {
     "name": "stdout",
     "output_type": "stream",
     "text": [
      "[10.4, 50.4, 30.6, 20.5, 40.1, 60.7]\n",
      "[10.4, 50.4, 30.6, 20.5, 60.7]\n"
     ]
    }
   ],
   "source": [
    "#remove\n",
    "\n",
    "print(list2)\n",
    "list2.remove(40.1)\n",
    "print(list2)"
   ]
  },
  {
   "cell_type": "code",
   "execution_count": 155,
   "id": "592715c1",
   "metadata": {},
   "outputs": [
    {
     "name": "stdout",
     "output_type": "stream",
     "text": [
      "[10.4, 50.4, 30.6, 20.5, 60.7]\n",
      "[60.7, 20.5, 30.6, 50.4, 10.4]\n"
     ]
    }
   ],
   "source": [
    "#reverse\n",
    "\n",
    "print(list2)\n",
    "list2.reverse()\n",
    "print(list2)"
   ]
  },
  {
   "cell_type": "code",
   "execution_count": 156,
   "id": "3925c60b",
   "metadata": {},
   "outputs": [
    {
     "name": "stdout",
     "output_type": "stream",
     "text": [
      "[60.7, 20.5, 30.6, 50.4, 10.4]\n",
      "[10.4, 20.5, 30.6, 50.4, 60.7]\n"
     ]
    }
   ],
   "source": [
    "#sort\n",
    "\n",
    "print(list2)\n",
    "list2.sort()  #ascending order\n",
    "print(list2)"
   ]
  },
  {
   "cell_type": "code",
   "execution_count": 157,
   "id": "fe38302e",
   "metadata": {},
   "outputs": [
    {
     "name": "stdout",
     "output_type": "stream",
     "text": [
      "[10.4, 20.5, 30.6, 50.4, 60.7]\n",
      "[60.7, 50.4, 30.6, 20.5, 10.4]\n"
     ]
    }
   ],
   "source": [
    "print(list2)\n",
    "list2.sort(reverse=True) #descnding order\n",
    "print(list2)"
   ]
  },
  {
   "cell_type": "code",
   "execution_count": 158,
   "id": "3faba862",
   "metadata": {},
   "outputs": [
    {
     "name": "stdout",
     "output_type": "stream",
     "text": [
      "[60.7, 50.4, 30.6, 20.5, 10.4]\n",
      "[60.7, 50.4, 30.6, 20.5, 10.4, 60.7, 50.4, 30.6, 20.5, 10.4]\n"
     ]
    }
   ],
   "source": [
    "#Extend\n",
    "\n",
    "\n",
    "print(list2)\n",
    "list2.extend(list2)\n",
    "print(list2)\n"
   ]
  },
  {
   "cell_type": "code",
   "execution_count": 159,
   "id": "76d742bc",
   "metadata": {},
   "outputs": [],
   "source": [
    "#print(list2)\n",
    "#list2.extend(7) #'int' object is not iterable\n",
    "                #here list,tuple,string are the iterable\n",
    "#print(list2)"
   ]
  },
  {
   "cell_type": "code",
   "execution_count": 160,
   "id": "f6962e2e",
   "metadata": {},
   "outputs": [
    {
     "name": "stdout",
     "output_type": "stream",
     "text": [
      "[60.7, 50.4, 30.6, 20.5, 10.4, 60.7, 50.4, 30.6, 20.5, 10.4]\n",
      "[60.7, 50.4, 30.6, 20.5, 10.4, 60.7, 50.4, 30.6, 20.5, 10.4]\n"
     ]
    }
   ],
   "source": [
    "#Clear\n",
    "\n",
    "print(list2)\n",
    "list2.clear  \n",
    "print(list2)"
   ]
  },
  {
   "cell_type": "code",
   "execution_count": 161,
   "id": "1fab1257",
   "metadata": {},
   "outputs": [],
   "source": [
    "list3 = ['Nitin', 'Rahul', 'Datta', 'Ajay']\n"
   ]
  },
  {
   "cell_type": "code",
   "execution_count": 162,
   "id": "f20819af",
   "metadata": {},
   "outputs": [
    {
     "name": "stdout",
     "output_type": "stream",
     "text": [
      "['Nitin', 'Rahul', 'Datta', 'Ajay']\n",
      "['Nitin', 'Rahul', 'Datta', 'Ajay', 'Nitin']\n"
     ]
    }
   ],
   "source": [
    "#append\n",
    "\n",
    "print(list3)\n",
    "list3.append('Nitin')  \n",
    "print(list3)"
   ]
  },
  {
   "cell_type": "code",
   "execution_count": 163,
   "id": "21a6fa24",
   "metadata": {},
   "outputs": [
    {
     "name": "stdout",
     "output_type": "stream",
     "text": [
      "['Nitin', 'Rahul', 'Datta', 'Ajay', 'Nitin']\n",
      "['Nitin', 'Rahul', 'Datta', 'Ajay', 'Nitin']\n"
     ]
    }
   ],
   "source": [
    "#copy\n",
    "\n",
    "\n",
    "print(list3)\n",
    "list3.copy\n",
    "print(list3)"
   ]
  },
  {
   "cell_type": "code",
   "execution_count": 164,
   "id": "26ca51d4",
   "metadata": {},
   "outputs": [
    {
     "name": "stdout",
     "output_type": "stream",
     "text": [
      "['Nitin', 'Rahul', 'Datta', 'Ajay', 'Nitin']\n",
      "2\n"
     ]
    }
   ],
   "source": [
    "#count\n",
    "\n",
    "print(list3)\n",
    "count=list3.count('Nitin')\n",
    "print(count)"
   ]
  },
  {
   "cell_type": "code",
   "execution_count": 165,
   "id": "03040162",
   "metadata": {},
   "outputs": [
    {
     "name": "stdout",
     "output_type": "stream",
     "text": [
      "['Nitin', 'Rahul', 'Datta', 'Ajay', 'Nitin']\n",
      "['Nitin', 'Rahul', 'Sagar', 'Datta', 'Ajay', 'Nitin']\n"
     ]
    }
   ],
   "source": [
    "#insert\n",
    "\n",
    "print(list3)\n",
    "list3.insert(2,'Sagar')  \n",
    "print(list3)"
   ]
  },
  {
   "cell_type": "code",
   "execution_count": 166,
   "id": "600cbd95",
   "metadata": {},
   "outputs": [
    {
     "name": "stdout",
     "output_type": "stream",
     "text": [
      "['Nitin', 'Rahul', 'Sagar', 'Datta', 'Ajay', 'Nitin']\n",
      "5\n"
     ]
    }
   ],
   "source": [
    "#index\n",
    "\n",
    "print(list3)\n",
    "loc=list3.index('Nitin',2) \n",
    "print(loc)"
   ]
  },
  {
   "cell_type": "code",
   "execution_count": 167,
   "id": "e91bdd98",
   "metadata": {},
   "outputs": [
    {
     "name": "stdout",
     "output_type": "stream",
     "text": [
      "['Nitin', 'Rahul', 'Sagar', 'Datta', 'Ajay', 'Nitin']\n",
      "['Nitin', 'Rahul', 'Sagar', 'Datta', 'Ajay']\n"
     ]
    }
   ],
   "source": [
    "#pop\n",
    "\n",
    "print(list3)\n",
    "list3.pop(5)\n",
    "print(list3)"
   ]
  },
  {
   "cell_type": "code",
   "execution_count": 168,
   "id": "d12920aa",
   "metadata": {},
   "outputs": [
    {
     "name": "stdout",
     "output_type": "stream",
     "text": [
      "['Nitin', 'Rahul', 'Sagar', 'Datta', 'Ajay']\n",
      "['Nitin', 'Rahul', 'Sagar', 'Datta']\n"
     ]
    }
   ],
   "source": [
    "#remove\n",
    "\n",
    "print(list3)\n",
    "list3.remove('Ajay')\n",
    "print(list3)"
   ]
  },
  {
   "cell_type": "code",
   "execution_count": 169,
   "id": "b3cd5532",
   "metadata": {},
   "outputs": [
    {
     "name": "stdout",
     "output_type": "stream",
     "text": [
      "['Nitin', 'Rahul', 'Sagar', 'Datta']\n",
      "['Datta', 'Sagar', 'Rahul', 'Nitin']\n"
     ]
    }
   ],
   "source": [
    "#reverse\n",
    "\n",
    "print(list3)\n",
    "list3.reverse()\n",
    "print(list3)"
   ]
  },
  {
   "cell_type": "code",
   "execution_count": 170,
   "id": "a73a4a87",
   "metadata": {},
   "outputs": [
    {
     "name": "stdout",
     "output_type": "stream",
     "text": [
      "['Datta', 'Sagar', 'Rahul', 'Nitin']\n",
      "['Datta', 'Nitin', 'Rahul', 'Sagar']\n"
     ]
    }
   ],
   "source": [
    "#sort\n",
    "\n",
    "print(list3)\n",
    "list3.sort() #ascending \n",
    "print(list3)"
   ]
  },
  {
   "cell_type": "code",
   "execution_count": 171,
   "id": "ffacfc2b",
   "metadata": {},
   "outputs": [
    {
     "name": "stdout",
     "output_type": "stream",
     "text": [
      "['Datta', 'Nitin', 'Rahul', 'Sagar']\n",
      "['Sagar', 'Rahul', 'Nitin', 'Datta']\n"
     ]
    }
   ],
   "source": [
    "#print(list3)\n",
    "print(list3)\n",
    "list3.sort(reverse=True)\n",
    "print(list3)"
   ]
  },
  {
   "cell_type": "code",
   "execution_count": 172,
   "id": "234f87e8",
   "metadata": {},
   "outputs": [
    {
     "name": "stdout",
     "output_type": "stream",
     "text": [
      "['Sagar', 'Rahul', 'Nitin', 'Datta']\n",
      "['Sagar', 'Rahul', 'Nitin', 'Datta', 'a']\n"
     ]
    }
   ],
   "source": [
    "#Extend\n",
    "\n",
    "print(list3)\n",
    "list3.extend(\"a\")\n",
    "print(list3)"
   ]
  },
  {
   "cell_type": "code",
   "execution_count": 173,
   "id": "6366ea61",
   "metadata": {},
   "outputs": [
    {
     "name": "stdout",
     "output_type": "stream",
     "text": [
      "['Sagar', 'Rahul', 'Nitin', 'Datta', 'a']\n",
      "[]\n"
     ]
    }
   ],
   "source": [
    "#clear\n",
    "\n",
    "print(list3)\n",
    "list3.clear()\n",
    "print(list3)"
   ]
  },
  {
   "cell_type": "markdown",
   "id": "fb7ae2a4",
   "metadata": {},
   "source": [
    "# 2 Tuple"
   ]
  },
  {
   "cell_type": "raw",
   "id": "b12ae5a7",
   "metadata": {},
   "source": [
    "1.Tuple is ordered and unchangable\n",
    "2.Immutable (you cant change the elements or cant added in tuple)\n",
    "3.()are used to represent the tuple\n",
    "4.Allow Duplicates\n",
    "5.Tuples are read only version of your list except list is growable"
   ]
  },
  {
   "cell_type": "code",
   "execution_count": 174,
   "id": "db6fb00f",
   "metadata": {},
   "outputs": [
    {
     "name": "stdout",
     "output_type": "stream",
     "text": [
      "('blue', 'red', 'green', 'yellow', 'black', 'white')\n"
     ]
    }
   ],
   "source": [
    "tup = (\"blue\",\"red\",\"green\",\"yellow\",\"black\",\"white\")\n",
    "\n",
    "print(tup)"
   ]
  },
  {
   "cell_type": "code",
   "execution_count": 175,
   "id": "5703ddd4",
   "metadata": {},
   "outputs": [
    {
     "data": {
      "text/plain": [
       "6"
      ]
     },
     "execution_count": 175,
     "metadata": {},
     "output_type": "execute_result"
    }
   ],
   "source": [
    "len(tup)"
   ]
  },
  {
   "cell_type": "code",
   "execution_count": 176,
   "id": "6faaf7fb",
   "metadata": {},
   "outputs": [
    {
     "name": "stdout",
     "output_type": "stream",
     "text": [
      "<class 'str'>\n",
      "<class 'tuple'>\n"
     ]
    }
   ],
   "source": [
    "tup1 = (\"blue\")\n",
    "print(type(tup1))\n",
    "\n",
    "tup1 = (\"blue\",)\n",
    "print(type(tup1))"
   ]
  },
  {
   "cell_type": "code",
   "execution_count": 177,
   "id": "b5b2ff4e",
   "metadata": {},
   "outputs": [
    {
     "name": "stdout",
     "output_type": "stream",
     "text": [
      "('potato', 10, 'n', 45)\n"
     ]
    }
   ],
   "source": [
    "tup2 = (\"potato\",10,\"n\",45)\n",
    "print(tup2)"
   ]
  },
  {
   "cell_type": "code",
   "execution_count": 178,
   "id": "135cca2c",
   "metadata": {},
   "outputs": [
    {
     "name": "stdout",
     "output_type": "stream",
     "text": [
      "(10, 20, 30)\n"
     ]
    }
   ],
   "source": [
    "tup3 =tuple((10,20,30))  #tuple () is constructor\n",
    "print(tup3)"
   ]
  },
  {
   "cell_type": "code",
   "execution_count": 179,
   "id": "4e101619",
   "metadata": {},
   "outputs": [
    {
     "name": "stdout",
     "output_type": "stream",
     "text": [
      "('blue', 'red', 'green', 'yellow', 'black', 'white')\n"
     ]
    },
    {
     "data": {
      "text/plain": [
       "'red'"
      ]
     },
     "execution_count": 179,
     "metadata": {},
     "output_type": "execute_result"
    }
   ],
   "source": [
    "#access\n",
    "print(tup)\n",
    "tup[1]"
   ]
  },
  {
   "cell_type": "code",
   "execution_count": 180,
   "id": "3c6d100b",
   "metadata": {},
   "outputs": [
    {
     "name": "stdout",
     "output_type": "stream",
     "text": [
      "('blue', 'red', 'green', 'yellow', 'black', 'white')\n"
     ]
    },
    {
     "data": {
      "text/plain": [
       "'yellow'"
      ]
     },
     "execution_count": 180,
     "metadata": {},
     "output_type": "execute_result"
    }
   ],
   "source": [
    "print(tup)\n",
    "tup[-3]"
   ]
  },
  {
   "cell_type": "code",
   "execution_count": 181,
   "id": "4db3e8c4",
   "metadata": {},
   "outputs": [
    {
     "data": {
      "text/plain": [
       "('red', 'green', 'yellow')"
      ]
     },
     "execution_count": 181,
     "metadata": {},
     "output_type": "execute_result"
    }
   ],
   "source": [
    "#range of items\n",
    "tup[1:4]"
   ]
  },
  {
   "cell_type": "code",
   "execution_count": 182,
   "id": "83f7c1c9",
   "metadata": {},
   "outputs": [
    {
     "name": "stdout",
     "output_type": "stream",
     "text": [
      "('blue', 'red', 'green', 'yellow', 'black', 'white')\n",
      "<class 'tuple'>\n",
      "['blue', 'red', 'green', 'yellow', 'black', 'white']\n",
      "<class 'list'>\n",
      "['blue', 'red', 'orange', 'yellow', 'black', 'white']\n",
      "<class 'tuple'>\n",
      "('blue', 'red', 'orange', 'yellow', 'black', 'white')\n"
     ]
    }
   ],
   "source": [
    "#Change tuple vlue using list\n",
    "print(tup)\n",
    "print(type(tup))\n",
    "var=list(tup)\n",
    "print(var)\n",
    "print(type(var))\n",
    "\n",
    "#change value\n",
    "\n",
    "var[2]='orange'\n",
    "print(var)\n",
    "\n",
    "#convert back to tuple\n",
    "\n",
    "tup= tuple(var)\n",
    "print(type(tup))\n",
    "print(tup)"
   ]
  },
  {
   "cell_type": "code",
   "execution_count": 183,
   "id": "b4914ec5",
   "metadata": {},
   "outputs": [
    {
     "name": "stdout",
     "output_type": "stream",
     "text": [
      "('blue', 'red', 'orange', 'yellow', 'black', 'white')\n",
      "<class 'tuple'>\n",
      "['blue', 'red', 'orange', 'yellow', 'black', 'white']\n",
      "<class 'list'>\n",
      "['blue', 'red', 'orange', 'pink', 'yellow', 'black', 'white']\n",
      "<class 'tuple'>\n",
      "('blue', 'red', 'orange', 'pink', 'yellow', 'black', 'white')\n"
     ]
    }
   ],
   "source": [
    "#add items\n",
    "\n",
    "print(tup)\n",
    "print(type(tup))\n",
    "var=list(tup)\n",
    "print(var)\n",
    "print(type(var))\n",
    "\n",
    "var.insert(3,'pink')\n",
    "\n",
    "print(var)\n",
    "\n",
    "#convert back to tuple\n",
    "\n",
    "tup= tuple(var)\n",
    "print(type(tup))\n",
    "print(tup)"
   ]
  },
  {
   "cell_type": "code",
   "execution_count": 184,
   "id": "e441b1aa",
   "metadata": {},
   "outputs": [
    {
     "name": "stdout",
     "output_type": "stream",
     "text": [
      "(10, 20, 30)\n",
      "('d', 'b', 'c')\n",
      "The concat is : (10, 20, 30, 'd', 'b', 'c')\n"
     ]
    }
   ],
   "source": [
    "#tuple concat +\n",
    "a_tup3 = (10,20,30)\n",
    "a_tup4 = ('d','b','c')\n",
    "print(a_tup3)\n",
    "print(a_tup4)\n",
    "#concat\n",
    "\n",
    "var1 = a_tup3 + a_tup4\n",
    "\n",
    "print(\"The concat is :\",var1)"
   ]
  },
  {
   "cell_type": "code",
   "execution_count": 185,
   "id": "8e487993",
   "metadata": {},
   "outputs": [
    {
     "name": "stdout",
     "output_type": "stream",
     "text": [
      "('blue', 'red', 'orange', 'pink', 'yellow', 'black', 'white')\n",
      "<class 'tuple'>\n",
      "<class 'list'>\n",
      "['blue', 'red', 'orange', 'pink', 'yellow', 'black', 'white']\n",
      "('blue', 'red', 'orange', 'yellow', 'black', 'white')\n",
      "<class 'tuple'>\n"
     ]
    }
   ],
   "source": [
    "#remove items using list\n",
    "\n",
    "print(tup)\n",
    "print(type(tup))\n",
    "\n",
    "var = list(tup)\n",
    "print(type(var))\n",
    "print(var)\n",
    "\n",
    "var.remove('pink')\n",
    "\n",
    "tup= tuple(var)\n",
    "print(tup)\n",
    "print(type(tup))"
   ]
  },
  {
   "cell_type": "code",
   "execution_count": 186,
   "id": "5fce1f58",
   "metadata": {},
   "outputs": [
    {
     "name": "stdout",
     "output_type": "stream",
     "text": [
      "('a', 'b', 'c', 'd')\n"
     ]
    },
    {
     "ename": "NameError",
     "evalue": "name 'tup5' is not defined",
     "output_type": "error",
     "traceback": [
      "\u001b[0;31m---------------------------------------------------------------------------\u001b[0m",
      "\u001b[0;31mNameError\u001b[0m                                 Traceback (most recent call last)",
      "\u001b[0;32m<ipython-input-186-3d750afd51b3>\u001b[0m in \u001b[0;36m<module>\u001b[0;34m\u001b[0m\n\u001b[1;32m      4\u001b[0m \u001b[0mprint\u001b[0m\u001b[0;34m(\u001b[0m\u001b[0mtup5\u001b[0m\u001b[0;34m)\u001b[0m\u001b[0;34m\u001b[0m\u001b[0;34m\u001b[0m\u001b[0m\n\u001b[1;32m      5\u001b[0m \u001b[0;32mdel\u001b[0m \u001b[0mtup5\u001b[0m      \u001b[0;31m#here delete complete tuple\u001b[0m\u001b[0;34m\u001b[0m\u001b[0;34m\u001b[0m\u001b[0m\n\u001b[0;32m----> 6\u001b[0;31m \u001b[0mprint\u001b[0m\u001b[0;34m(\u001b[0m\u001b[0mtup5\u001b[0m\u001b[0;34m)\u001b[0m  \u001b[0;31m# name 'tup5' is not defined\u001b[0m\u001b[0;34m\u001b[0m\u001b[0;34m\u001b[0m\u001b[0m\n\u001b[0m",
      "\u001b[0;31mNameError\u001b[0m: name 'tup5' is not defined"
     ]
    }
   ],
   "source": [
    "#complete deletion of tuple using del tuple_name\n",
    "\n",
    "tup5 = ('a','b','c','d')\n",
    "print(tup5)\n",
    "del tup5      #here delete complete tuple\n",
    "print(tup5)  # name 'tup5' is not defined"
   ]
  },
  {
   "cell_type": "code",
   "execution_count": 187,
   "id": "1cf4d1f6",
   "metadata": {},
   "outputs": [
    {
     "name": "stdout",
     "output_type": "stream",
     "text": [
      "blue\n",
      "['red', 'orange', 'yellow', 'black']\n",
      "white\n"
     ]
    }
   ],
   "source": [
    "#use asterisk\n",
    "\n",
    "colours = ('blue', 'red', 'orange', 'yellow', 'black', 'white')\n",
    "\n",
    "(apple,*banana,mango) = colours\n",
    "\n",
    "print(apple)\n",
    "print(banana)\n",
    "print(mango)"
   ]
  },
  {
   "cell_type": "code",
   "execution_count": 188,
   "id": "b2b59298",
   "metadata": {},
   "outputs": [
    {
     "name": "stdout",
     "output_type": "stream",
     "text": [
      "blue\n",
      "red\n",
      "['orange', 'yellow', 'black', 'white']\n"
     ]
    }
   ],
   "source": [
    "colours = ('blue', 'red', 'orange', 'yellow', 'black', 'white')\n",
    "\n",
    "(apple,banana,*mango) = colours\n",
    "\n",
    "print(apple)\n",
    "print(banana)\n",
    "print(mango)"
   ]
  },
  {
   "cell_type": "code",
   "execution_count": 189,
   "id": "788fc729",
   "metadata": {},
   "outputs": [
    {
     "name": "stdout",
     "output_type": "stream",
     "text": [
      "('blue', 'red', 'orange', 'yellow', 'black', 'white')\n",
      "1\n"
     ]
    }
   ],
   "source": [
    "#count() and index()\n",
    "print(tup)\n",
    "cnt=tup.count('red')\n",
    "print(cnt)"
   ]
  },
  {
   "cell_type": "code",
   "execution_count": 190,
   "id": "8dcced3d",
   "metadata": {},
   "outputs": [
    {
     "name": "stdout",
     "output_type": "stream",
     "text": [
      "('blue', 'red', 'orange', 'yellow', 'black', 'white')\n",
      "3\n"
     ]
    }
   ],
   "source": [
    "print(tup)\n",
    "loc = tup.index('yellow')\n",
    "print(loc)"
   ]
  },
  {
   "cell_type": "markdown",
   "id": "412d223f",
   "metadata": {},
   "source": [
    "# 3 Set"
   ]
  },
  {
   "cell_type": "raw",
   "id": "9b8e4c59",
   "metadata": {},
   "source": [
    "1.Set is unordered collection of elements\n",
    "2.It is mutable\n",
    "3.It is growable\n",
    "4.set items are unchangeable\n",
    "5.{}are used represent set\n",
    "6.Index concept is not applicable\n",
    "7.duplicates are not allowed\n"
   ]
  },
  {
   "cell_type": "code",
   "execution_count": 191,
   "id": "f7cce99e",
   "metadata": {},
   "outputs": [
    {
     "name": "stdout",
     "output_type": "stream",
     "text": [
      "{1, 2, 'pear', 'nitin'}\n"
     ]
    }
   ],
   "source": [
    "s = {1,2,\"nitin\",\"pear\"}\n",
    "print(s)"
   ]
  },
  {
   "cell_type": "code",
   "execution_count": 192,
   "id": "ccf9bd58",
   "metadata": {},
   "outputs": [
    {
     "name": "stdout",
     "output_type": "stream",
     "text": [
      "4\n"
     ]
    }
   ],
   "source": [
    "print(len(s))"
   ]
  },
  {
   "cell_type": "code",
   "execution_count": 193,
   "id": "f2f8fbc9",
   "metadata": {},
   "outputs": [
    {
     "name": "stdout",
     "output_type": "stream",
     "text": [
      "{'red', 'green', 'blue'}\n",
      "<class 'set'>\n"
     ]
    }
   ],
   "source": [
    "#set() constructor\n",
    "set1 = set((\"red\",\"blue\",\"green\"))\n",
    "print(set1)\n",
    "print(type(set1))"
   ]
  },
  {
   "cell_type": "code",
   "execution_count": 194,
   "id": "0402a8a5",
   "metadata": {},
   "outputs": [
    {
     "name": "stdout",
     "output_type": "stream",
     "text": [
      "False\n",
      "True\n"
     ]
    }
   ],
   "source": [
    "#accessing set\n",
    "\n",
    "var = \"red\" in s\n",
    "\n",
    "print(var)\n",
    "\n",
    "print(1 in s)"
   ]
  },
  {
   "cell_type": "code",
   "execution_count": 195,
   "id": "abbac69b",
   "metadata": {},
   "outputs": [
    {
     "name": "stdout",
     "output_type": "stream",
     "text": [
      "{'red', 'green', 'blue'}\n",
      "{1, 'red', 'green', 'blue'}\n"
     ]
    }
   ],
   "source": [
    "#once st is created you cant change elements value\n",
    "#but you can add the values\n",
    "\n",
    "print(set1)\n",
    "set1.add(1)\n",
    "print(set1)"
   ]
  },
  {
   "cell_type": "code",
   "execution_count": 196,
   "id": "518e629f",
   "metadata": {},
   "outputs": [
    {
     "name": "stdout",
     "output_type": "stream",
     "text": [
      "{'mango', 'apple', 'banana'}\n",
      "(10, 20, 30)\n",
      "{1, 'green', 'apple', 'blue', 'mango', 'red', 'banana'}\n",
      "{1, 'green', 10, 'apple', 20, 30, 'mango', 'banana', 'blue', 'red'}\n"
     ]
    }
   ],
   "source": [
    "#using update you can add any iterable items like set, list, tuple, dict-keys\n",
    "set2 = {\"apple\",\"banana\",\"mango\"}\n",
    "print(set2)\n",
    "tup = (10,20,30)\n",
    "print(tup)\n",
    "set1.update(set2)\n",
    "print(set1)\n",
    "set1.update(tup)\n",
    "print(set1)"
   ]
  },
  {
   "cell_type": "code",
   "execution_count": 197,
   "id": "ea7cc997",
   "metadata": {},
   "outputs": [
    {
     "name": "stdout",
     "output_type": "stream",
     "text": [
      "Remove using remove:\n",
      " {1, 'green', 10, 'apple', 20, 30, 'mango', 'banana', 'blue', 'red'}\n",
      "{1, 'green', 10, 'apple', 20, 30, 'mango', 'banana', 'red'}\n",
      "Remove using discard:\n",
      " {1, 'green', 10, 'apple', 20, 30, 'mango', 'banana', 'red'}\n",
      "{'green', 10, 'apple', 20, 30, 'mango', 'banana', 'red'}\n",
      "Remove using pop:\n",
      " {'green', 10, 'apple', 20, 30, 'mango', 'banana', 'red'}\n",
      "{10, 'apple', 20, 30, 'mango', 'banana', 'red'}\n"
     ]
    }
   ],
   "source": [
    "#remove(),  discard(), pop()\n",
    "\n",
    "print(\"Remove using remove:\\n\",set1)\n",
    "set1.remove(\"blue\")\n",
    "print(set1)\n",
    "\n",
    "print(\"Remove using discard:\\n\",set1)\n",
    "set1.discard(1)\n",
    "print(set1)\n",
    "\n",
    "print(\"Remove using pop:\\n\",set1)\n",
    "set1.pop()\n",
    "print(set1)"
   ]
  },
  {
   "cell_type": "code",
   "execution_count": null,
   "id": "fae89208",
   "metadata": {},
   "outputs": [],
   "source": []
  },
  {
   "cell_type": "code",
   "execution_count": 198,
   "id": "2368cef9",
   "metadata": {},
   "outputs": [
    {
     "name": "stdout",
     "output_type": "stream",
     "text": [
      "{1, 2, 'pear', 'nitin'}\n",
      "\n",
      "{1, 2, 'mango', 10, 'banana', 'pear', 'apple', 20, 'red', 30, 'nitin'}\n"
     ]
    }
   ],
   "source": [
    "#union\n",
    "\n",
    "#adds elements of two sets and create new sets\n",
    "\n",
    "print(s)\n",
    "print()\n",
    "s = s.union(set1)\n",
    "print(s)"
   ]
  },
  {
   "cell_type": "code",
   "execution_count": 199,
   "id": "0a54769d",
   "metadata": {},
   "outputs": [
    {
     "name": "stdout",
     "output_type": "stream",
     "text": [
      "{1, 2, 'mango', 10, 'banana', 'pear', 'apple', 20, 'red', 30, 'nitin'}\n",
      "{10, 'apple', 20, 30, 'mango', 'banana', 'red'}\n",
      "intersection is: {'mango', 10, 'banana', 'apple', 20, 'red', 30}\n",
      "intersection update  : {'mango', 10, 'banana', 'apple', 20, 'red', 30}\n"
     ]
    }
   ],
   "source": [
    "#intersection\n",
    "\n",
    "print(s)\n",
    "print(set1)\n",
    "i = s.intersection(set1)\n",
    "print(\"intersection is:\",i)\n",
    "\n",
    "#keeps duplicates in set1\n",
    "s.intersection_update(set1)\n",
    "print(\"intersection update  :\",s)"
   ]
  },
  {
   "cell_type": "code",
   "execution_count": 200,
   "id": "7959ecd9",
   "metadata": {},
   "outputs": [
    {
     "name": "stdout",
     "output_type": "stream",
     "text": [
      "{'mango', 10, 'banana', 'apple', 20, 'red', 30}\n",
      "{10, 'apple', 20, 30, 'mango', 'banana', 'red'}\n",
      "symmetric difference update is : set()\n",
      "symmetric difference: {1, 2, 6, 7}\n",
      " difference: {1, 2}\n"
     ]
    }
   ],
   "source": [
    "#keeps elements which are not present in other set\n",
    "\n",
    "s_1 = {1,2,3,4,5}\n",
    "s_2 = {3,4,5,6,7}\n",
    "\n",
    "\n",
    "print(s)\n",
    "print(set1)\n",
    "s.symmetric_difference_update(set1)\n",
    "print(\"symmetric difference update is :\",s)\n",
    "\n",
    "\n",
    "k = s_1.symmetric_difference(s_2)\n",
    "\n",
    "v=s_1.difference(s_2)\n",
    "print('symmetric difference:',k)\n",
    "print(' difference:',v)\n",
    "\n"
   ]
  },
  {
   "cell_type": "code",
   "execution_count": 201,
   "id": "3d9cd418",
   "metadata": {},
   "outputs": [
    {
     "name": "stdout",
     "output_type": "stream",
     "text": [
      "True\n",
      "True\n",
      "True\n"
     ]
    }
   ],
   "source": [
    "#isdisjoint()returns whether two sets are intersection or not\n",
    "#issubset()returns whether another set contains this set are not\n",
    "#issuperset()returns whether this set contains another set are not\n",
    "\n",
    "print(s.isdisjoint(set1))\n",
    "print(s.issubset(set1))\n",
    "print(set1.issuperset(s))\n",
    "\n"
   ]
  },
  {
   "cell_type": "code",
   "execution_count": 202,
   "id": "e0957acd",
   "metadata": {},
   "outputs": [],
   "source": [
    "#del and clear() method removes the set comletely"
   ]
  },
  {
   "cell_type": "markdown",
   "id": "42477246",
   "metadata": {},
   "source": [
    "# 4 Frozenset"
   ]
  },
  {
   "cell_type": "code",
   "execution_count": 203,
   "id": "01003069",
   "metadata": {},
   "outputs": [
    {
     "name": "stdout",
     "output_type": "stream",
     "text": [
      "<class 'frozenset'>\n",
      "frozenset({1, 2, 3, 'apple', 'orange', 'grapes'})\n",
      "frozenset({'grapes', 'orange', 'apple', 'banana'})\n",
      "<class 'frozenset'>\n"
     ]
    }
   ],
   "source": [
    "#Frozenset set is same as set but it is immmutable\n",
    "\n",
    "\n",
    "set3 = {\"apple\",\"banana\",\"grapes\",\"orange\"}\n",
    "m = frozenset({1,2,3,\"apple\",\"grapes\",\"orange\"})\n",
    "\n",
    "print(type(m))\n",
    "\n",
    "print(m)\n",
    "\n",
    "\n",
    "#print(type(set3))\n",
    "n = frozenset(set3)\n",
    "print(n)\n",
    "print(type(n))\n",
    "\n",
    "\n",
    "\n"
   ]
  },
  {
   "cell_type": "code",
   "execution_count": 204,
   "id": "1d76e28a",
   "metadata": {},
   "outputs": [
    {
     "name": "stdout",
     "output_type": "stream",
     "text": [
      "frozenset({'grapes', 'orange', 'apple', 'banana'})\n",
      "<class 'frozenset'>\n",
      "frozenset({'grapes', 'orange', 'apple', 'banana'})\n"
     ]
    }
   ],
   "source": [
    "#supported methods for frozenset\n",
    "#1.copy()\n",
    "\n",
    "print(n)\n",
    "print(type(n))\n",
    "n.copy()\n",
    "print(n)\n"
   ]
  },
  {
   "cell_type": "code",
   "execution_count": 205,
   "id": "c353a9ec",
   "metadata": {},
   "outputs": [
    {
     "name": "stdout",
     "output_type": "stream",
     "text": [
      "frozenset({'grapes', 'orange', 'apple', 'banana'})\n",
      "frozenset({1, 2, 3, 'apple', 'orange', 'grapes'})\n",
      "difference is : frozenset({'banana'})\n"
     ]
    }
   ],
   "source": [
    "#2.difference\n",
    "\n",
    "print(n)\n",
    "print(m)\n",
    "p = n.difference(m)\n",
    "print(\"difference is :\",p)"
   ]
  },
  {
   "cell_type": "code",
   "execution_count": 206,
   "id": "0cc44422",
   "metadata": {},
   "outputs": [
    {
     "name": "stdout",
     "output_type": "stream",
     "text": [
      "{'grapes', 'orange', 'apple', 'banana'}\n",
      "<class 'set'>\n",
      "{1, 2, 3, 'apple', 'orange', 'grapes'}\n",
      "<class 'set'>\n",
      "frozenset({'orange', 'apple', 'grapes'})\n",
      "<class 'frozenset'>\n"
     ]
    }
   ],
   "source": [
    "#3.intersection\n",
    "\n",
    "#print(n)\n",
    "#print(m)\n",
    "d=set(n)\n",
    "print(d)\n",
    "print(type(d))\n",
    "\n",
    "e=set(m)\n",
    "print(e)\n",
    "print(type(e))\n",
    "b = d.intersection(e)\n",
    "fr = frozenset(b)\n",
    "print(fr)\n",
    "print(type(fr))"
   ]
  },
  {
   "cell_type": "code",
   "execution_count": 207,
   "id": "ee0789f1",
   "metadata": {},
   "outputs": [
    {
     "name": "stdout",
     "output_type": "stream",
     "text": [
      "frozenset({1, 2, 3, 'apple', 'orange', 'grapes'})\n",
      "frozenset({'grapes', 'orange', 'apple', 'banana'})\n",
      "False\n"
     ]
    }
   ],
   "source": [
    "#4.isdisjoint\n",
    "\n",
    "print(m)\n",
    "print(n)\n",
    "l=n.isdisjoint(m)\n",
    "print(l)"
   ]
  },
  {
   "cell_type": "code",
   "execution_count": 208,
   "id": "76d962a7",
   "metadata": {},
   "outputs": [
    {
     "name": "stdout",
     "output_type": "stream",
     "text": [
      "frozenset({1, 2, 3, 'apple', 'orange', 'grapes'})\n",
      "frozenset({'grapes', 'orange', 'apple', 'banana'})\n",
      "False\n"
     ]
    }
   ],
   "source": [
    "#5.issubset\n",
    "\n",
    "print(m)\n",
    "print(n)\n",
    "l=n.issubset(m)\n",
    "print(l)"
   ]
  },
  {
   "cell_type": "code",
   "execution_count": 209,
   "id": "60c7ed77",
   "metadata": {},
   "outputs": [
    {
     "name": "stdout",
     "output_type": "stream",
     "text": [
      "frozenset({1, 2, 3, 'apple', 'orange', 'grapes'})\n",
      "frozenset({'grapes', 'orange', 'apple', 'banana'})\n",
      "False\n"
     ]
    }
   ],
   "source": [
    "print(m)\n",
    "print(n)\n",
    "l=m.issubset(n)\n",
    "print(l)"
   ]
  },
  {
   "cell_type": "code",
   "execution_count": 210,
   "id": "0f125c55",
   "metadata": {},
   "outputs": [
    {
     "name": "stdout",
     "output_type": "stream",
     "text": [
      "frozenset({1, 2, 3, 'apple', 'orange', 'grapes'})\n",
      "frozenset({'grapes', 'orange', 'apple', 'banana'})\n",
      "False\n"
     ]
    }
   ],
   "source": [
    "#6.issuperset\n",
    "\n",
    "print(m)\n",
    "print(n)\n",
    "l=n.issuperset(m)\n",
    "print(l)"
   ]
  },
  {
   "cell_type": "code",
   "execution_count": 211,
   "id": "3aee98d9",
   "metadata": {},
   "outputs": [
    {
     "name": "stdout",
     "output_type": "stream",
     "text": [
      "frozenset({1, 2, 3, 'apple', 'orange', 'grapes'})\n",
      "frozenset({'grapes', 'orange', 'apple', 'banana'})\n",
      "False\n"
     ]
    }
   ],
   "source": [
    "print(m)\n",
    "print(n)\n",
    "l=m.issuperset(n)\n",
    "print(l)"
   ]
  },
  {
   "cell_type": "code",
   "execution_count": 212,
   "id": "52407122",
   "metadata": {},
   "outputs": [
    {
     "name": "stdout",
     "output_type": "stream",
     "text": [
      "{'grapes', 'orange', 'apple', 'banana'}\n",
      "<class 'set'>\n",
      "{1, 2, 3, 'apple', 'orange', 'grapes'}\n",
      "<class 'set'>\n",
      "frozenset({1, 2, 3, 'banana'})\n",
      "symmetric difference: frozenset({1, 2, 3, 'banana'})\n",
      "<class 'frozenset'>\n"
     ]
    }
   ],
   "source": [
    "#7.symmetric_difference\n",
    "\n",
    "#print(m)\n",
    "#print(n)\n",
    "d=set(n)\n",
    "print(d)\n",
    "print(type(d))\n",
    "\n",
    "e=set(m)\n",
    "print(e)\n",
    "print(type(e))\n",
    "\n",
    "l=d.symmetric_difference(e)\n",
    "\n",
    "fr = frozenset(l)\n",
    "print(fr)\n",
    "print(\"symmetric difference:\",fr)\n",
    "print(type(fr))"
   ]
  },
  {
   "cell_type": "code",
   "execution_count": 213,
   "id": "810b893a",
   "metadata": {},
   "outputs": [
    {
     "name": "stdout",
     "output_type": "stream",
     "text": [
      "frozenset({1, 2, 3, 'apple', 'orange', 'grapes'})\n",
      "frozenset({'grapes', 'orange', 'apple', 'banana'})\n",
      "frozenset({1, 2, 3, 'orange', 'banana', 'apple', 'grapes'})\n"
     ]
    }
   ],
   "source": [
    "#8.union\n",
    "print(m)\n",
    "print(n)\n",
    "k=m.union(n)\n",
    "print(k)"
   ]
  },
  {
   "cell_type": "markdown",
   "id": "a3cf89a9",
   "metadata": {},
   "source": [
    "\n",
    "# 5 Dictionary"
   ]
  },
  {
   "cell_type": "raw",
   "id": "4957e3f8",
   "metadata": {},
   "source": [
    "1. stores data in key value:value pair\n",
    "2.It is ordered,changeable and does not allow duplicates\n",
    "3.{} are used to write dictionaries\n",
    "4.Items are reffered using key\n",
    "5.from python version 3.7,dictionaries are ordered"
   ]
  },
  {
   "cell_type": "code",
   "execution_count": 214,
   "id": "9a4f9495",
   "metadata": {},
   "outputs": [
    {
     "name": "stdout",
     "output_type": "stream",
     "text": [
      "{'name': 'Nitin', 'mobile': 9503596355, 'address': 'jath', 'job': 'data', 'salary': 40000}\n"
     ]
    }
   ],
   "source": [
    "dict1 = {\n",
    "        'name' :'Nitin',\n",
    "        'mobile' : 9503596355,\n",
    "        'address' : 'jath',\n",
    "        'job' :'data',\n",
    "        'salary' : 40000\n",
    "}\n",
    "print(dict1)"
   ]
  },
  {
   "cell_type": "code",
   "execution_count": 215,
   "id": "636410fc",
   "metadata": {},
   "outputs": [
    {
     "name": "stdout",
     "output_type": "stream",
     "text": [
      "Nitin\n"
     ]
    }
   ],
   "source": [
    "print(dict1['name'])"
   ]
  },
  {
   "cell_type": "code",
   "execution_count": 216,
   "id": "2f15a534",
   "metadata": {},
   "outputs": [
    {
     "name": "stdout",
     "output_type": "stream",
     "text": [
      "5\n"
     ]
    }
   ],
   "source": [
    "print(len(dict1))"
   ]
  },
  {
   "cell_type": "code",
   "execution_count": 217,
   "id": "3d9a8260",
   "metadata": {},
   "outputs": [
    {
     "name": "stdout",
     "output_type": "stream",
     "text": [
      "<class 'dict'>\n"
     ]
    }
   ],
   "source": [
    "print(type(dict1))"
   ]
  },
  {
   "cell_type": "code",
   "execution_count": 218,
   "id": "c2c911cd",
   "metadata": {},
   "outputs": [
    {
     "name": "stdout",
     "output_type": "stream",
     "text": [
      "40000\n",
      "data\n"
     ]
    }
   ],
   "source": [
    "#accessing elements\n",
    "print(dict1['salary'])\n",
    "n = dict1.get('job')\n",
    "\n",
    "print(n)"
   ]
  },
  {
   "cell_type": "code",
   "execution_count": 219,
   "id": "0770d230",
   "metadata": {},
   "outputs": [
    {
     "name": "stdout",
     "output_type": "stream",
     "text": [
      "dict_keys(['name', 'mobile', 'address', 'job', 'salary'])\n"
     ]
    }
   ],
   "source": [
    "print(dict1.keys())"
   ]
  },
  {
   "cell_type": "code",
   "execution_count": 220,
   "id": "1602096e",
   "metadata": {},
   "outputs": [
    {
     "name": "stdout",
     "output_type": "stream",
     "text": [
      "dict_keys(['name', 'mobile', 'address', 'job', 'salary', 'c_address'])\n"
     ]
    }
   ],
   "source": [
    "#add new item\n",
    "dict1['c_address'] = 'pune'\n",
    "print(dict1.keys())"
   ]
  },
  {
   "cell_type": "code",
   "execution_count": 221,
   "id": "b86f1f4e",
   "metadata": {},
   "outputs": [
    {
     "name": "stdout",
     "output_type": "stream",
     "text": [
      "dict_values(['Nitin', 9503596355, 'jath', 'data', 40000, 'pune'])\n"
     ]
    }
   ],
   "source": [
    "#values\n",
    "print(dict1.values())"
   ]
  },
  {
   "cell_type": "code",
   "execution_count": 222,
   "id": "e52d2510",
   "metadata": {},
   "outputs": [
    {
     "name": "stdout",
     "output_type": "stream",
     "text": [
      "dict_items([('name', 'Nitin'), ('mobile', 9503596355), ('address', 'jath'), ('job', 'data'), ('salary', 40000), ('c_address', 'pune')])\n",
      "{'name': 'Nitin', 'mobile': 9503596355, 'address': 'jath', 'job': 'data', 'salary': 40000, 'c_address': 'pune'}\n"
     ]
    }
   ],
   "source": [
    "print(dict1.items())\n",
    "print(dict1)"
   ]
  },
  {
   "cell_type": "code",
   "execution_count": 223,
   "id": "a2f863a9",
   "metadata": {},
   "outputs": [
    {
     "name": "stdout",
     "output_type": "stream",
     "text": [
      "True\n"
     ]
    }
   ],
   "source": [
    "print('name' in dict1)"
   ]
  },
  {
   "cell_type": "code",
   "execution_count": 224,
   "id": "bf9e9342",
   "metadata": {},
   "outputs": [
    {
     "name": "stdout",
     "output_type": "stream",
     "text": [
      "{'name': 'Nitin', 'mobile': 9503596355, 'address': 'jath', 'job': 'data', 'salary': 40000, 'c_address': 'pune'}\n",
      "{'name': 'Nitin', 'mobile': 9503596355, 'address': 'jath', 'job': 'data', 'salary': 40000, 'c_address': 'pune', 'height': 170}\n"
     ]
    }
   ],
   "source": [
    "#change value\n",
    "print(dict1)\n",
    "dict1['height'] = 170\n",
    "print(dict1)"
   ]
  },
  {
   "cell_type": "code",
   "execution_count": 225,
   "id": "ab22a799",
   "metadata": {},
   "outputs": [
    {
     "name": "stdout",
     "output_type": "stream",
     "text": [
      "{'name': 'Nitin', 'mobile': 9503596355, 'address': 'jath', 'job': 'data', 'salary': 40000, 'c_address': 'pune', 'height': 170}\n",
      "{'name': 'Nitin', 'mobile': 9503596355, 'address': 'jath', 'job': 'data', 'salary': 40000, 'c_address': 'pune', 'height': 170, 'friend': 'rahul'}\n"
     ]
    }
   ],
   "source": [
    "print(dict1)\n",
    "dict1.update({'friend' :'rahul'})\n",
    "print(dict1)"
   ]
  },
  {
   "cell_type": "code",
   "execution_count": 226,
   "id": "f8187a82",
   "metadata": {},
   "outputs": [
    {
     "name": "stdout",
     "output_type": "stream",
     "text": [
      "<class 'dict'>\n"
     ]
    }
   ],
   "source": [
    "print(type(dict1))"
   ]
  },
  {
   "cell_type": "code",
   "execution_count": 227,
   "id": "462da558",
   "metadata": {},
   "outputs": [
    {
     "name": "stdout",
     "output_type": "stream",
     "text": [
      "{'name': 'Nitin', 'mobile': 9503596355, 'address': 'jath', 'job': 'data', 'salary': 40000, 'c_address': 'pune', 'height': 170, 'friend': 'rahul'}\n"
     ]
    },
    {
     "data": {
      "text/plain": [
       "'pune'"
      ]
     },
     "execution_count": 227,
     "metadata": {},
     "output_type": "execute_result"
    }
   ],
   "source": [
    "#remove item\n",
    "print(dict1)\n",
    "dict1.pop('c_address')\n"
   ]
  },
  {
   "cell_type": "code",
   "execution_count": 228,
   "id": "11113a72",
   "metadata": {},
   "outputs": [
    {
     "name": "stdout",
     "output_type": "stream",
     "text": [
      "{'name': 'Nitin', 'mobile': 9503596355, 'address': 'jath', 'job': 'data', 'salary': 40000, 'height': 170, 'friend': 'rahul'}\n"
     ]
    },
    {
     "data": {
      "text/plain": [
       "('friend', 'rahul')"
      ]
     },
     "execution_count": 228,
     "metadata": {},
     "output_type": "execute_result"
    }
   ],
   "source": [
    "print(dict1)\n",
    "dict1.popitem()"
   ]
  },
  {
   "cell_type": "code",
   "execution_count": 229,
   "id": "85921ddf",
   "metadata": {},
   "outputs": [
    {
     "name": "stdout",
     "output_type": "stream",
     "text": [
      "{'name': 'Nitin', 'mobile': 9503596355, 'address': 'jath', 'job': 'data', 'salary': 40000, 'height': 170}\n",
      "{'name': 'Nitin', 'mobile': 9503596355, 'address': 'jath', 'salary': 40000, 'height': 170}\n"
     ]
    }
   ],
   "source": [
    "#del can remove items as well as removes the dictionary\n",
    "print(dict1)\n",
    "del dict1['job']\n",
    "print(dict1)\n",
    "#del dict1"
   ]
  },
  {
   "cell_type": "code",
   "execution_count": 230,
   "id": "cfc4dbbc",
   "metadata": {},
   "outputs": [],
   "source": [
    "#clear method and del keyword are used to romove and the dict"
   ]
  },
  {
   "cell_type": "code",
   "execution_count": 231,
   "id": "0b5e5ddd",
   "metadata": {},
   "outputs": [
    {
     "name": "stdout",
     "output_type": "stream",
     "text": [
      "{'name': 'Nitin', 'mobile': 9503596355, 'address': 'jath', 'salary': 40000, 'height': 170}\n",
      "{'name': 'Nitin', 'mobile': 9503596355, 'address': 'jath', 'salary': 40000, 'height': 170}\n",
      "{'name': 'Nitin', 'mobile': 9503596355, 'address': 'jath', 'salary': 40000, 'height': 170}\n"
     ]
    }
   ],
   "source": [
    "#copy dictionary\n",
    "dict_1 = dict1 #this is reference to your dict not copy of dict1\n",
    "print(dict1)\n",
    "print(dict_1)\n",
    "\n",
    "dict_1['mobile'] = 9503596355\n",
    "#added to dict_1 , same reflected in dict1\n",
    "print(dict1)"
   ]
  },
  {
   "cell_type": "code",
   "execution_count": 232,
   "id": "7742e524",
   "metadata": {},
   "outputs": [
    {
     "name": "stdout",
     "output_type": "stream",
     "text": [
      "{'name': 'Nitin', 'mobile': 9503596355, 'address': 'jath', 'salary': 40000, 'height': 170}\n",
      "{'name': 'Nitin', 'mobile': 9503596355, 'address': 'jath', 'salary': 40000, 'height': 170, 'random': 'val'}\n",
      "{'name': 'Nitin', 'mobile': 9503596355, 'address': 'jath', 'salary': 40000, 'height': 170}\n"
     ]
    }
   ],
   "source": [
    "#copy() method\n",
    "print(dict1)\n",
    "dict2 = dict1.copy()\n",
    "dict2['random'] = 'val'\n",
    "print(dict2) #random added\n",
    "print(dict1) #not reflected in dict1"
   ]
  },
  {
   "cell_type": "code",
   "execution_count": 233,
   "id": "2e63135f",
   "metadata": {},
   "outputs": [
    {
     "name": "stdout",
     "output_type": "stream",
     "text": [
      "{'name': 'Nitin', 'mobile': 9503596355, 'address': 'jath', 'salary': 40000, 'height': 170}\n"
     ]
    }
   ],
   "source": [
    "#dict(for copy\n",
    "\n",
    "dict3 =dict(dict1)\n",
    "print(dict3)"
   ]
  },
  {
   "cell_type": "code",
   "execution_count": null,
   "id": "35993577",
   "metadata": {},
   "outputs": [],
   "source": []
  },
  {
   "cell_type": "code",
   "execution_count": null,
   "id": "7865d924",
   "metadata": {},
   "outputs": [],
   "source": []
  },
  {
   "cell_type": "code",
   "execution_count": null,
   "id": "bff6087e",
   "metadata": {},
   "outputs": [],
   "source": []
  }
 ],
 "metadata": {
  "kernelspec": {
   "display_name": "Python 3",
   "language": "python",
   "name": "python3"
  },
  "language_info": {
   "codemirror_mode": {
    "name": "ipython",
    "version": 3
   },
   "file_extension": ".py",
   "mimetype": "text/x-python",
   "name": "python",
   "nbconvert_exporter": "python",
   "pygments_lexer": "ipython3",
   "version": "3.6.9"
  }
 },
 "nbformat": 4,
 "nbformat_minor": 5
}
