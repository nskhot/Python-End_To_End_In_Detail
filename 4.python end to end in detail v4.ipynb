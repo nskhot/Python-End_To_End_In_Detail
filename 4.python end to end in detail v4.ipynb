{
 "cells": [
  {
   "cell_type": "markdown",
   "id": "c4ac2dae",
   "metadata": {},
   "source": [
    "\n",
    "# Typecasting"
   ]
  },
  {
   "cell_type": "raw",
   "id": "1f7df32e",
   "metadata": {},
   "source": [
    "There are three numeric types in python\n",
    "1] int\n",
    "2] float\n",
    "3] complex"
   ]
  },
  {
   "cell_type": "code",
   "execution_count": 1,
   "id": "b362eb8f",
   "metadata": {},
   "outputs": [
    {
     "name": "stdout",
     "output_type": "stream",
     "text": [
      "int to string:\n",
      "10\n",
      "<class 'int'>\n",
      "10\n",
      "<class 'str'>\n",
      "float to string:\n",
      "20.4\n",
      "<class 'float'>\n",
      "20.4\n",
      "<class 'str'>\n"
     ]
    }
   ],
   "source": [
    "#print(\"int, float to string:\")\n",
    "\n",
    "\n",
    "print(\"int to string:\")\n",
    "a=10\n",
    "var=20.4\n",
    "print(a)\n",
    "print(type(a))\n",
    "var1=str(a)\n",
    "print(var1)\n",
    "print(type(var1))\n",
    "\n",
    "\n",
    "print(\"float to string:\")\n",
    "print(var)\n",
    "print(type(var))\n",
    "var2=str(var)\n",
    "print(var2)\n",
    "print(type(var2))\n"
   ]
  },
  {
   "cell_type": "code",
   "execution_count": 2,
   "id": "74988b7e",
   "metadata": {},
   "outputs": [
    {
     "name": "stdout",
     "output_type": "stream",
     "text": [
      "int to float:\n",
      "10\n",
      "<class 'int'>\n",
      "10.0\n",
      "<class 'float'>\n",
      "string to float:\n",
      "100.5\n",
      "<class 'str'>\n",
      "100.5\n",
      "<class 'float'>\n",
      "nitin\n",
      "<class 'str'>\n"
     ]
    },
    {
     "ename": "NameError",
     "evalue": "name 'foat' is not defined",
     "output_type": "error",
     "traceback": [
      "\u001b[0;31m---------------------------------------------------------------------------\u001b[0m",
      "\u001b[0;31mNameError\u001b[0m                                 Traceback (most recent call last)",
      "\u001b[0;32m<ipython-input-2-33190fd509fa>\u001b[0m in \u001b[0;36m<module>\u001b[0;34m\u001b[0m\n\u001b[1;32m     23\u001b[0m \u001b[0mprint\u001b[0m\u001b[0;34m(\u001b[0m\u001b[0mstr2\u001b[0m\u001b[0;34m)\u001b[0m\u001b[0;34m\u001b[0m\u001b[0;34m\u001b[0m\u001b[0m\n\u001b[1;32m     24\u001b[0m \u001b[0mprint\u001b[0m\u001b[0;34m(\u001b[0m\u001b[0mtype\u001b[0m\u001b[0;34m(\u001b[0m\u001b[0mstr2\u001b[0m\u001b[0;34m)\u001b[0m\u001b[0;34m)\u001b[0m\u001b[0;34m\u001b[0m\u001b[0;34m\u001b[0m\u001b[0m\n\u001b[0;32m---> 25\u001b[0;31m \u001b[0mvar3\u001b[0m\u001b[0;34m=\u001b[0m\u001b[0mfoat\u001b[0m\u001b[0;34m(\u001b[0m\u001b[0mstr2\u001b[0m\u001b[0;34m)\u001b[0m\u001b[0;34m\u001b[0m\u001b[0;34m\u001b[0m\u001b[0m\n\u001b[0m\u001b[1;32m     26\u001b[0m \u001b[0mprint\u001b[0m\u001b[0;34m(\u001b[0m\u001b[0mvar3\u001b[0m\u001b[0;34m)\u001b[0m\u001b[0;34m\u001b[0m\u001b[0;34m\u001b[0m\u001b[0m\n\u001b[1;32m     27\u001b[0m \u001b[0mprint\u001b[0m\u001b[0;34m(\u001b[0m\u001b[0mtype\u001b[0m\u001b[0;34m(\u001b[0m\u001b[0mvar3\u001b[0m\u001b[0;34m)\u001b[0m\u001b[0;34m)\u001b[0m\u001b[0;34m\u001b[0m\u001b[0;34m\u001b[0m\u001b[0m\n",
      "\u001b[0;31mNameError\u001b[0m: name 'foat' is not defined"
     ]
    }
   ],
   "source": [
    "#print(\"int, string to float\")\n",
    "a=10\n",
    "str1=\"100.5\"\n",
    "str2=\"nitin\"\n",
    "\n",
    "print(\"int to float:\")\n",
    "\n",
    "\n",
    "print(a)\n",
    "print(type(a))\n",
    "var1=float(a)\n",
    "print(var1)\n",
    "print(type(var1))\n",
    "\n",
    "print(\"string to float:\")\n",
    "\n",
    "print(str1)\n",
    "print(type(str1))\n",
    "var2=float(str1)\n",
    "print(var2)\n",
    "print(type(var2))\n",
    "\n",
    "print(str2)\n",
    "print(type(str2))\n",
    "var3=foat(str2)\n",
    "print(var3)\n",
    "print(type(var3))\n",
    "\n"
   ]
  },
  {
   "cell_type": "code",
   "execution_count": null,
   "id": "65a2ac13",
   "metadata": {},
   "outputs": [],
   "source": [
    "#print(\"float,string to int\")\n",
    "var=20.5\n",
    "str1=\"100\"\n",
    "str2=\"nitin\"\n",
    "\n",
    "print(\"float to int:\")\n",
    "print(var)\n",
    "print (type(var))\n",
    "var1=int(var)\n",
    "print(var1)\n",
    "print(type(var1))\n",
    "\n",
    "print(\"string to int:\")\n",
    "print(str1)\n",
    "print(type(str1))\n",
    "var2=int(str1)\n",
    "print(var2)\n",
    "print(type(var2))\n",
    "\n",
    "print(str2)\n",
    "print(type(str2))\n",
    "var3=int(str2)\n",
    "print(var3)\n",
    "print(type(var3))"
   ]
  },
  {
   "cell_type": "raw",
   "id": "7c70472e",
   "metadata": {},
   "source": []
  },
  {
   "cell_type": "raw",
   "id": "e5e2dc72",
   "metadata": {},
   "source": [
    "complex number"
   ]
  },
  {
   "cell_type": "code",
   "execution_count": null,
   "id": "813b291e",
   "metadata": {},
   "outputs": [],
   "source": [
    "print(\"complex to string:\")\n",
    "comp=3+5j\n",
    "print(comp)\n",
    "print(type(comp))\n",
    "var=str(comp)\n",
    "print(var)\n",
    "print(type(var))\n"
   ]
  },
  {
   "cell_type": "raw",
   "id": "84e708c3",
   "metadata": {},
   "source": [
    "Now we do string to complex"
   ]
  },
  {
   "cell_type": "code",
   "execution_count": null,
   "id": "e9652307",
   "metadata": {},
   "outputs": [],
   "source": [
    "str1=\"3+5j\"\n",
    "str2=\"nitin\"\n",
    "print(str1)\n",
    "print(type(str1))\n",
    "var1=complex(str1)\n",
    "print(var1)\n",
    "print(type(var1))\n",
    "\n",
    "print(str2)\n",
    "print(type(str2))\n",
    "var2=complex(str2)\n",
    "print(var2)\n",
    "print(type(var2))"
   ]
  },
  {
   "cell_type": "markdown",
   "id": "517567e2",
   "metadata": {},
   "source": [
    "# Other types to complex conersion"
   ]
  },
  {
   "cell_type": "code",
   "execution_count": null,
   "id": "7e99deb3",
   "metadata": {},
   "outputs": [],
   "source": [
    "var=20\n",
    "print(var)\n",
    "print(type(var))\n",
    "var1=complex(var)\n",
    "print(var1)\n",
    "print(type(var1))\n",
    "\n",
    "\n",
    "var2=10.5\n",
    "print(var2)\n",
    "print(type(var2))\n",
    "var3=complex(var2)\n",
    "print(var3)\n",
    "print(type(var3))\n",
    "\n",
    "\n",
    "\n",
    "var4=\"20.6\"\n",
    "print(complex(var4))\n",
    "\n",
    "\n"
   ]
  },
  {
   "cell_type": "code",
   "execution_count": null,
   "id": "924d18ee",
   "metadata": {},
   "outputs": [],
   "source": [
    "print(complex(5,2))\n",
    "print(complex(20.5,4))\n",
    "\n",
    "print(complex(True,False))"
   ]
  },
  {
   "cell_type": "markdown",
   "id": "e2b7ec93",
   "metadata": {},
   "source": [
    "# Boolean\n"
   ]
  },
  {
   "cell_type": "raw",
   "id": "2c494b6d",
   "metadata": {},
   "source": [
    "Bool()"
   ]
  },
  {
   "cell_type": "code",
   "execution_count": null,
   "id": "7822b1ae",
   "metadata": {},
   "outputs": [],
   "source": [
    "print(int(True))"
   ]
  },
  {
   "cell_type": "code",
   "execution_count": null,
   "id": "15226f0c",
   "metadata": {},
   "outputs": [],
   "source": [
    "print(int(False))"
   ]
  },
  {
   "cell_type": "code",
   "execution_count": null,
   "id": "b62c3f78",
   "metadata": {},
   "outputs": [],
   "source": [
    "print(float(True))"
   ]
  },
  {
   "cell_type": "code",
   "execution_count": null,
   "id": "74064543",
   "metadata": {},
   "outputs": [],
   "source": [
    "print(float(False))\n"
   ]
  },
  {
   "cell_type": "code",
   "execution_count": null,
   "id": "0cf27c42",
   "metadata": {},
   "outputs": [],
   "source": [
    "print(complex(True))"
   ]
  },
  {
   "cell_type": "code",
   "execution_count": null,
   "id": "037c76dd",
   "metadata": {},
   "outputs": [],
   "source": [
    "print(complex(False))\n",
    "\n",
    "a=0+0j\n",
    "print(a)"
   ]
  },
  {
   "cell_type": "code",
   "execution_count": null,
   "id": "97b1caca",
   "metadata": {},
   "outputs": [],
   "source": []
  },
  {
   "cell_type": "code",
   "execution_count": null,
   "id": "aff49a12",
   "metadata": {},
   "outputs": [],
   "source": [
    "print(str(True))"
   ]
  },
  {
   "cell_type": "code",
   "execution_count": null,
   "id": "7381f57e",
   "metadata": {},
   "outputs": [],
   "source": [
    "print(str(False))"
   ]
  },
  {
   "cell_type": "code",
   "execution_count": null,
   "id": "0cff1453",
   "metadata": {},
   "outputs": [],
   "source": [
    "print(bool(3.2))\n",
    "print(bool(0.0))"
   ]
  },
  {
   "cell_type": "code",
   "execution_count": null,
   "id": "7a17c540",
   "metadata": {},
   "outputs": [],
   "source": [
    "print(bool(1))\n",
    "print(bool(0))"
   ]
  },
  {
   "cell_type": "code",
   "execution_count": null,
   "id": "d591eaa5",
   "metadata": {},
   "outputs": [],
   "source": [
    "print(bool(\"\"))\n",
    "print(bool())\n",
    "print(bool(45))\n",
    "print (bool(\"n\"))"
   ]
  },
  {
   "cell_type": "code",
   "execution_count": 3,
   "id": "003da2c3",
   "metadata": {},
   "outputs": [
    {
     "name": "stdout",
     "output_type": "stream",
     "text": [
      "True\n",
      "True\n",
      "True\n",
      "False\n"
     ]
    }
   ],
   "source": [
    "print(bool(2+3j))\n",
    "print(bool(2+0j))\n",
    "print(bool(0+3j))\n",
    "print (bool(0+0j))"
   ]
  },
  {
   "cell_type": "markdown",
   "id": "7e6f4d92",
   "metadata": {},
   "source": [
    "# String Slicing"
   ]
  },
  {
   "cell_type": "raw",
   "id": "8a59b302",
   "metadata": {},
   "source": [
    "#Slicing is making pieces of some separator\n",
    "#[]is aslice operator\n"
   ]
  },
  {
   "cell_type": "code",
   "execution_count": 4,
   "id": "81f832cb",
   "metadata": {},
   "outputs": [
    {
     "data": {
      "text/plain": [
       "'T'"
      ]
     },
     "execution_count": 4,
     "metadata": {},
     "output_type": "execute_result"
    }
   ],
   "source": [
    "str1=\"This tutorial is basically designed for beginers\"\n",
    "\n",
    "str1[0]"
   ]
  },
  {
   "cell_type": "code",
   "execution_count": 5,
   "id": "e5874985",
   "metadata": {},
   "outputs": [
    {
     "data": {
      "text/plain": [
       "'a'"
      ]
     },
     "execution_count": 5,
     "metadata": {},
     "output_type": "execute_result"
    }
   ],
   "source": [
    "str1[11]"
   ]
  },
  {
   "cell_type": "code",
   "execution_count": 6,
   "id": "116c3b2f",
   "metadata": {},
   "outputs": [
    {
     "data": {
      "text/plain": [
       "'This tutorial is basically designed for beginers'"
      ]
     },
     "execution_count": 6,
     "metadata": {},
     "output_type": "execute_result"
    }
   ],
   "source": [
    "str1[0:]"
   ]
  },
  {
   "cell_type": "code",
   "execution_count": 7,
   "id": "962b8362",
   "metadata": {},
   "outputs": [
    {
     "data": {
      "text/plain": [
       "''"
      ]
     },
     "execution_count": 7,
     "metadata": {},
     "output_type": "execute_result"
    }
   ],
   "source": [
    "str1[:0]"
   ]
  },
  {
   "cell_type": "code",
   "execution_count": 8,
   "id": "f54473a3",
   "metadata": {},
   "outputs": [
    {
     "data": {
      "text/plain": [
       "' tutorial i'"
      ]
     },
     "execution_count": 8,
     "metadata": {},
     "output_type": "execute_result"
    }
   ],
   "source": [
    "str1[4:15]"
   ]
  },
  {
   "cell_type": "code",
   "execution_count": 9,
   "id": "b359af46",
   "metadata": {},
   "outputs": [
    {
     "data": {
      "text/plain": [
       "'This tutorial is basically designed for beginers'"
      ]
     },
     "execution_count": 9,
     "metadata": {},
     "output_type": "execute_result"
    }
   ],
   "source": [
    "str1"
   ]
  },
  {
   "cell_type": "code",
   "execution_count": 10,
   "id": "10e80748",
   "metadata": {},
   "outputs": [
    {
     "data": {
      "text/plain": [
       "'This tutorial is basicall'"
      ]
     },
     "execution_count": 10,
     "metadata": {},
     "output_type": "execute_result"
    }
   ],
   "source": [
    "str1[:25]"
   ]
  },
  {
   "cell_type": "code",
   "execution_count": 11,
   "id": "3646388a",
   "metadata": {},
   "outputs": [
    {
     "data": {
      "text/plain": [
       "str"
      ]
     },
     "execution_count": 11,
     "metadata": {},
     "output_type": "execute_result"
    }
   ],
   "source": [
    "type(str1)"
   ]
  },
  {
   "cell_type": "code",
   "execution_count": 12,
   "id": "c87ca4ed",
   "metadata": {},
   "outputs": [
    {
     "data": {
      "text/plain": [
       "'s'"
      ]
     },
     "execution_count": 12,
     "metadata": {},
     "output_type": "execute_result"
    }
   ],
   "source": [
    "str1[-1]"
   ]
  },
  {
   "cell_type": "code",
   "execution_count": 13,
   "id": "a2ca3a5f",
   "metadata": {},
   "outputs": [
    {
     "data": {
      "text/plain": [
       "'signed for beginers'"
      ]
     },
     "execution_count": 13,
     "metadata": {},
     "output_type": "execute_result"
    }
   ],
   "source": [
    "str1[-19:]"
   ]
  },
  {
   "cell_type": "code",
   "execution_count": 14,
   "id": "69dd2abd",
   "metadata": {},
   "outputs": [
    {
     "data": {
      "text/plain": [
       "' for begine'"
      ]
     },
     "execution_count": 14,
     "metadata": {},
     "output_type": "execute_result"
    }
   ],
   "source": [
    "str1[-13:-2]"
   ]
  },
  {
   "cell_type": "code",
   "execution_count": 15,
   "id": "e5d9652d",
   "metadata": {},
   "outputs": [
    {
     "data": {
      "text/plain": [
       "'s'"
      ]
     },
     "execution_count": 15,
     "metadata": {},
     "output_type": "execute_result"
    }
   ],
   "source": [
    "str1[-1:]"
   ]
  },
  {
   "cell_type": "code",
   "execution_count": 16,
   "id": "aa1c28e6",
   "metadata": {},
   "outputs": [
    {
     "data": {
      "text/plain": [
       "'This tutorial This tutorial This tutorial '"
      ]
     },
     "execution_count": 16,
     "metadata": {},
     "output_type": "execute_result"
    }
   ],
   "source": [
    "str3=str1[:14]\n",
    "str3*3"
   ]
  },
  {
   "cell_type": "code",
   "execution_count": 17,
   "id": "3b0591f9",
   "metadata": {},
   "outputs": [
    {
     "data": {
      "text/plain": [
       "'This tutorial is basically designed for beginer'"
      ]
     },
     "execution_count": 17,
     "metadata": {},
     "output_type": "execute_result"
    }
   ],
   "source": [
    "str1[:-1]"
   ]
  },
  {
   "cell_type": "code",
   "execution_count": 18,
   "id": "7a53d555",
   "metadata": {},
   "outputs": [
    {
     "data": {
      "text/plain": [
       "'This tutorial is basically desig'"
      ]
     },
     "execution_count": 18,
     "metadata": {},
     "output_type": "execute_result"
    }
   ],
   "source": [
    "str1[:-16]"
   ]
  },
  {
   "cell_type": "code",
   "execution_count": 19,
   "id": "81605d92",
   "metadata": {},
   "outputs": [
    {
     "data": {
      "text/plain": [
       "'This tutorial is basically dThis tutorial is basically dThis tutorial is basically d'"
      ]
     },
     "execution_count": 19,
     "metadata": {},
     "output_type": "execute_result"
    }
   ],
   "source": [
    "str3=str1[:-20]\n",
    "str3*3"
   ]
  },
  {
   "cell_type": "code",
   "execution_count": 20,
   "id": "8cac1058",
   "metadata": {},
   "outputs": [
    {
     "data": {
      "text/plain": [
       "'l is basically designed for beginersl is basically designed for beginersl is basically designed for beginers'"
      ]
     },
     "execution_count": 20,
     "metadata": {},
     "output_type": "execute_result"
    }
   ],
   "source": [
    "str3=str1[12:]\n",
    "str3*3"
   ]
  },
  {
   "cell_type": "code",
   "execution_count": 21,
   "id": "f4707c4d",
   "metadata": {},
   "outputs": [
    {
     "data": {
      "text/plain": [
       "'is tutorial is basicais tutorial is basica'"
      ]
     },
     "execution_count": 21,
     "metadata": {},
     "output_type": "execute_result"
    }
   ],
   "source": [
    "str4=str1[2:23]\n",
    "str4*2"
   ]
  },
  {
   "cell_type": "markdown",
   "id": "6f8a3791",
   "metadata": {},
   "source": [
    "# Immutability\n",
    "\n",
    "\n"
   ]
  },
  {
   "cell_type": "raw",
   "id": "1ea1ef06",
   "metadata": {},
   "source": [
    "#In python once an object is created ,we are not allowed to change \n",
    "#The content,if youn want to change  the content PVM will create a# new object for it "
   ]
  },
  {
   "cell_type": "code",
   "execution_count": 22,
   "id": "31274abf",
   "metadata": {},
   "outputs": [
    {
     "name": "stdout",
     "output_type": "stream",
     "text": [
      "10920864\n",
      "and \n",
      " 10920864\n",
      "True\n"
     ]
    }
   ],
   "source": [
    "var=200\n",
    "var1=var\n",
    "print(id(var))\n",
    "print(\"and \\n\",id(var1))\n",
    "print(var is var1)\n"
   ]
  },
  {
   "cell_type": "code",
   "execution_count": 23,
   "id": "d9caf9ed",
   "metadata": {},
   "outputs": [
    {
     "name": "stdout",
     "output_type": "stream",
     "text": [
      "False\n",
      "140357925834512\n",
      "and \n",
      " 140357925834064\n"
     ]
    }
   ],
   "source": [
    "var= 2+3j\n",
    "var1=2+3j\n",
    "print(var is var1)\n",
    "print(id(var))\n",
    "print(\"and \\n\",id(var1))  #id is different\n"
   ]
  },
  {
   "cell_type": "raw",
   "id": "a44d30e1",
   "metadata": {},
   "source": [
    "assignment :Try same string and boolean types"
   ]
  },
  {
   "cell_type": "code",
   "execution_count": 24,
   "id": "909e1385",
   "metadata": {},
   "outputs": [
    {
     "name": "stdout",
     "output_type": "stream",
     "text": [
      "140357925780368\n",
      "and \n",
      " 140357925780368\n",
      "True\n"
     ]
    }
   ],
   "source": [
    "#for string\n",
    "\n",
    "\n",
    "var=\"nitin\"\n",
    "var1=var\n",
    "print(id(var))\n",
    "print(\"and \\n\",id(var1))\n",
    "print(var is var1)"
   ]
  },
  {
   "cell_type": "code",
   "execution_count": 25,
   "id": "a3efd646",
   "metadata": {},
   "outputs": [
    {
     "name": "stdout",
     "output_type": "stream",
     "text": [
      "True\n",
      "140357925021880\n",
      "and \n",
      " 140357925021880\n"
     ]
    }
   ],
   "source": [
    "var=\"khot\"\n",
    "var1=\"khot\"\n",
    "print(var is var1)\n",
    "print(id(var))\n",
    "print(\"and \\n\",id(var1))\n"
   ]
  },
  {
   "cell_type": "code",
   "execution_count": 26,
   "id": "b5c37880",
   "metadata": {},
   "outputs": [
    {
     "name": "stdout",
     "output_type": "stream",
     "text": [
      "True\n",
      "10302848\n",
      "and \n",
      " 10302848\n"
     ]
    }
   ],
   "source": [
    "#for boolean\n",
    "\n",
    "var=True\n",
    "var1=var\n",
    "print(var is var1)\n",
    "print(id(var))\n",
    "print(\"and \\n\",id(var1))\n"
   ]
  },
  {
   "cell_type": "code",
   "execution_count": 27,
   "id": "307a3305",
   "metadata": {},
   "outputs": [
    {
     "name": "stdout",
     "output_type": "stream",
     "text": [
      "True\n",
      "10302848\n",
      "and \n",
      " 10302848\n"
     ]
    }
   ],
   "source": [
    "var=True\n",
    "var1=True\n",
    "print(var is var1)\n",
    "print(id(var))\n",
    "print(\"and \\n\",id(var1))\n"
   ]
  },
  {
   "cell_type": "code",
   "execution_count": 28,
   "id": "b5af7ebd",
   "metadata": {},
   "outputs": [
    {
     "name": "stdout",
     "output_type": "stream",
     "text": [
      "False\n",
      "10302848\n",
      "and \n",
      " 10300256\n"
     ]
    }
   ],
   "source": [
    "var=True\n",
    "var1=False\n",
    "print(var is var1)\n",
    "print(id(var))\n",
    "print(\"and \\n\",id(var1))\n"
   ]
  },
  {
   "cell_type": "code",
   "execution_count": 29,
   "id": "fc18e034",
   "metadata": {},
   "outputs": [
    {
     "name": "stdout",
     "output_type": "stream",
     "text": [
      "True\n",
      "10300256\n",
      "and \n",
      " 10300256\n"
     ]
    }
   ],
   "source": [
    "var=False\n",
    "var1=False\n",
    "print(var is var1)\n",
    "print(id(var))\n",
    "print(\"and \\n\",id(var1))\n"
   ]
  },
  {
   "cell_type": "markdown",
   "id": "6962d1d2",
   "metadata": {},
   "source": [
    "# Bytes and Bytearray Data Type"
   ]
  },
  {
   "cell_type": "code",
   "execution_count": 30,
   "id": "938a8bca",
   "metadata": {},
   "outputs": [
    {
     "name": "stdout",
     "output_type": "stream",
     "text": [
      "<class 'list'>\n",
      "<class 'bytes'>\n",
      "10\n",
      "20\n",
      "30\n",
      "40\n",
      "50\n",
      "60\n",
      "70\n",
      "80\n"
     ]
    }
   ],
   "source": [
    "#bytes can hold the values  from 0 to 256\n",
    "#You cant change the value of bytes once itis created\n",
    "\n",
    "\n",
    "a = [10,20,30,40,50,60,70,80]\n",
    "print(type(a))\n",
    "\n",
    "b = bytes(a)  #b[2]=90\n",
    "              #it will raise error\n",
    "             #bytes object doe not support item assignment\n",
    "\n",
    "print(type(b))\n",
    "\n",
    "for i in b:\n",
    "    print(i)\n"
   ]
  },
  {
   "cell_type": "code",
   "execution_count": 31,
   "id": "707b499b",
   "metadata": {},
   "outputs": [
    {
     "name": "stdout",
     "output_type": "stream",
     "text": [
      "<class 'list'>\n",
      "<class 'bytearray'>\n",
      "10\n",
      "20\n",
      "30\n",
      "40\n",
      "50\n",
      "New List:\n",
      "10\n",
      "20\n",
      "200\n",
      "40\n",
      "50\n",
      "This is Difference\n"
     ]
    }
   ],
   "source": [
    "#Bytearray\n",
    "#You can change the value of bytearray after creation also \n",
    "\n",
    "\n",
    "a=[10,20,30,40,50]\n",
    "print (type(a))\n",
    "\n",
    "b = bytearray(a)\n",
    "\n",
    "print(type(b))\n",
    "for i in b:\n",
    "        print(i)\n",
    "        \n",
    "b[2]= 200\n",
    "print(\"New List:\")\n",
    "for i in b:\n",
    "    print(i)\n",
    "print(\"This is Difference\")    \n"
   ]
  },
  {
   "cell_type": "markdown",
   "id": "c5df9292",
   "metadata": {},
   "source": [
    "# Data Types"
   ]
  },
  {
   "cell_type": "raw",
   "id": "f0a1a09e",
   "metadata": {},
   "source": [
    "Text type = str\n",
    "Numeric types = int,float,complex\n",
    "Sequence types = list, tuple,range\n",
    "Mapping type = dict\n",
    "Set types = set, frozenset\n",
    "Boolean type = bool\n",
    "Binary types = bytes bytearray,memoryview"
   ]
  },
  {
   "cell_type": "markdown",
   "id": "976b67f2",
   "metadata": {},
   "source": [
    "# 1.List"
   ]
  },
  {
   "cell_type": "code",
   "execution_count": 32,
   "id": "f40b6c31",
   "metadata": {
    "scrolled": true
   },
   "outputs": [
    {
     "name": "stdout",
     "output_type": "stream",
     "text": [
      "[10, 20, 30, 40, 50]\n",
      "[10.1, 20.2, 30.3, 40.4, 50.5]\n",
      "['Nitin', 'Rahul', 'Datta', 'Ajay']\n",
      "[20, 10.1, 'Nitin']\n"
     ]
    }
   ],
   "source": [
    "#Example\n",
    "\n",
    "list1 = [10,20,30,40,50]\n",
    "list2 = [10.1,20.2,30.3,40.4,50.5]\n",
    "list3 = ['Nitin','Rahul','Datta','Ajay']\n",
    "list4 = [20,10.1,'Nitin']\n",
    "\n",
    "print(list1)\n",
    "print(list2)\n",
    "print(list3)\n",
    "print(list4)\n",
    "\n"
   ]
  },
  {
   "cell_type": "code",
   "execution_count": 33,
   "id": "5cfc6d1f",
   "metadata": {},
   "outputs": [
    {
     "name": "stdout",
     "output_type": "stream",
     "text": [
      "<class 'list'>\n"
     ]
    }
   ],
   "source": [
    "print(type(list1))"
   ]
  },
  {
   "cell_type": "code",
   "execution_count": 34,
   "id": "fa711370",
   "metadata": {},
   "outputs": [
    {
     "name": "stdout",
     "output_type": "stream",
     "text": [
      "30\n",
      "10.1\n",
      "Nitin\n",
      "[10, 20, 30, 40, 50]\n",
      "[10.1, 20.2, 30.3, 40.4, 50.5]\n",
      "['Nitin', 'Rahul', 'Datta', 'Ajay']\n",
      "[20, 10.1, 'Nitin']\n"
     ]
    }
   ],
   "source": [
    "print(list1[2])\n",
    "print(list2[0])\n",
    "print(list3[0])\n",
    "print(list1)\n",
    "print(list2)\n",
    "print(list3)\n",
    "print(list4)"
   ]
  },
  {
   "cell_type": "code",
   "execution_count": 35,
   "id": "6f4b1194",
   "metadata": {},
   "outputs": [
    {
     "data": {
      "text/plain": [
       "[10, 20, 30, 40]"
      ]
     },
     "execution_count": 35,
     "metadata": {},
     "output_type": "execute_result"
    }
   ],
   "source": [
    "list1[0:4]"
   ]
  },
  {
   "cell_type": "code",
   "execution_count": 36,
   "id": "1a082fc4",
   "metadata": {},
   "outputs": [
    {
     "data": {
      "text/plain": [
       "[10.1, 20.2]"
      ]
     },
     "execution_count": 36,
     "metadata": {},
     "output_type": "execute_result"
    }
   ],
   "source": [
    "list2[:-3]"
   ]
  },
  {
   "cell_type": "code",
   "execution_count": 37,
   "id": "1f0b0676",
   "metadata": {},
   "outputs": [
    {
     "name": "stdout",
     "output_type": "stream",
     "text": [
      "length of list1\n",
      "5\n"
     ]
    }
   ],
   "source": [
    "print(\"length of list1\")\n",
    "print(len(list1))"
   ]
  },
  {
   "cell_type": "code",
   "execution_count": 38,
   "id": "54603cbc",
   "metadata": {},
   "outputs": [
    {
     "name": "stdout",
     "output_type": "stream",
     "text": [
      "[10, 20, 30, 40, 50]\n",
      "[10, 20, 30, 40, 50, 'Nitin']\n"
     ]
    }
   ],
   "source": [
    "print(list1)\n",
    "list1.append('Nitin')\n",
    "print(list1)"
   ]
  },
  {
   "cell_type": "code",
   "execution_count": 39,
   "id": "11452955",
   "metadata": {},
   "outputs": [
    {
     "name": "stdout",
     "output_type": "stream",
     "text": [
      "[10, 20, 30, 40, 50, 'Nitin']\n",
      "[10, 20, 30, 40, 50]\n"
     ]
    }
   ],
   "source": [
    "print(list1)\n",
    "list1.remove('Nitin')\n",
    "print(list1)"
   ]
  },
  {
   "cell_type": "code",
   "execution_count": 40,
   "id": "6b841d96",
   "metadata": {},
   "outputs": [
    {
     "name": "stdout",
     "output_type": "stream",
     "text": [
      "[10, 20, 30, 40, 50]\n",
      "[10, 30, 40, 50]\n"
     ]
    }
   ],
   "source": [
    "print(list1)\n",
    "list1.remove(20)\n",
    "print(list1)"
   ]
  },
  {
   "cell_type": "raw",
   "id": "587e20dd",
   "metadata": {},
   "source": [
    "#assignment\n",
    "1.append\n",
    "2.copy \n",
    "3.count \n",
    "4.insert \n",
    "5.index \n",
    "6.pop \n",
    "7.remove \n",
    "8.reverse \n",
    "9.extend\n",
    "10.sort \n",
    "11.clear\n"
   ]
  },
  {
   "cell_type": "code",
   "execution_count": 41,
   "id": "f14892c2",
   "metadata": {},
   "outputs": [
    {
     "name": "stdout",
     "output_type": "stream",
     "text": [
      "[10, 20, 30, 40, 50]\n",
      "[10, 20, 30, 40, 50, 60]\n"
     ]
    }
   ],
   "source": [
    "list1 = [10,20,30,40,50]\n",
    "\n",
    "#append\n",
    "\n",
    "print(list1)\n",
    "list1.append(60)\n",
    "print(list1)"
   ]
  },
  {
   "cell_type": "code",
   "execution_count": 42,
   "id": "31072b30",
   "metadata": {},
   "outputs": [
    {
     "name": "stdout",
     "output_type": "stream",
     "text": [
      "[10, 20, 30, 40, 50, 60]\n",
      "[10, 20, 30, 40, 50, 60]\n"
     ]
    }
   ],
   "source": [
    "#copy\n",
    "\n",
    "print(list1)\n",
    "list1.copy \n",
    "print(list1)"
   ]
  },
  {
   "cell_type": "code",
   "execution_count": 43,
   "id": "7a36f1e7",
   "metadata": {},
   "outputs": [
    {
     "name": "stdout",
     "output_type": "stream",
     "text": [
      "[10, 20, 30, 40, 50, 60]\n",
      "1\n"
     ]
    }
   ],
   "source": [
    "#count\n",
    "\n",
    "print(list1)\n",
    "cnt=list1.count(20)\n",
    "print(cnt)\n"
   ]
  },
  {
   "cell_type": "code",
   "execution_count": 44,
   "id": "cc4a609c",
   "metadata": {},
   "outputs": [
    {
     "name": "stdout",
     "output_type": "stream",
     "text": [
      "[10, 20, 30, 40, 50, 60]\n",
      "[10, 20, 30, 55, 40, 50, 60]\n"
     ]
    }
   ],
   "source": [
    "#insert\n",
    "\n",
    "print(list1)\n",
    "list1.insert(3,55)\n",
    "print(list1)"
   ]
  },
  {
   "cell_type": "code",
   "execution_count": 45,
   "id": "b032ed6e",
   "metadata": {},
   "outputs": [
    {
     "name": "stdout",
     "output_type": "stream",
     "text": [
      "[10, 20, 30, 55, 40, 50, 60]\n",
      "2\n"
     ]
    }
   ],
   "source": [
    "#index\n",
    "\n",
    "print(list1)\n",
    "loc = list1.index(30)\n",
    "print(loc)"
   ]
  },
  {
   "cell_type": "code",
   "execution_count": 46,
   "id": "34af88eb",
   "metadata": {},
   "outputs": [
    {
     "name": "stdout",
     "output_type": "stream",
     "text": [
      "[10, 20, 30, 55, 40, 50, 60]\n",
      "[10, 20, 55, 40, 50, 60]\n"
     ]
    }
   ],
   "source": [
    "#pop\n",
    "\n",
    "print(list1)\n",
    "list1.pop(2)\n",
    "print(list1)\n",
    "\n"
   ]
  },
  {
   "cell_type": "code",
   "execution_count": 47,
   "id": "576d672b",
   "metadata": {},
   "outputs": [
    {
     "name": "stdout",
     "output_type": "stream",
     "text": [
      "[10, 20, 55, 40, 50, 60]\n",
      "[10, 20, 55, 40, 60]\n"
     ]
    }
   ],
   "source": [
    "#remove\n",
    "\n",
    "print(list1)\n",
    "list1.remove(50)\n",
    "print(list1)"
   ]
  },
  {
   "cell_type": "code",
   "execution_count": 48,
   "id": "e382678b",
   "metadata": {},
   "outputs": [
    {
     "name": "stdout",
     "output_type": "stream",
     "text": [
      "[10, 20, 55, 40, 60]\n",
      "[60, 40, 55, 20, 10]\n"
     ]
    }
   ],
   "source": [
    "#reverse\n",
    "\n",
    "print(list1)\n",
    "list1.reverse()\n",
    "print(list1)"
   ]
  },
  {
   "cell_type": "code",
   "execution_count": 49,
   "id": "78689edd",
   "metadata": {},
   "outputs": [
    {
     "name": "stdout",
     "output_type": "stream",
     "text": [
      "[60, 40, 55, 20, 10]\n",
      "[10, 20, 40, 55, 60]\n"
     ]
    }
   ],
   "source": [
    "#sort\n",
    "\n",
    "print(list1)\n",
    "list1.sort()\n",
    "print(list1)"
   ]
  },
  {
   "cell_type": "code",
   "execution_count": 50,
   "id": "3ae0bf72",
   "metadata": {},
   "outputs": [
    {
     "name": "stdout",
     "output_type": "stream",
     "text": [
      "[10, 20, 40, 55, 60]\n",
      "[10, 20, 40, 55, 60, 100]\n"
     ]
    }
   ],
   "source": [
    "#extend\n",
    "\n",
    "print(list1)\n",
    "l=[100]\n",
    "list1.extend(l)\n",
    "print(list1)"
   ]
  },
  {
   "cell_type": "code",
   "execution_count": 51,
   "id": "7cc8ad35",
   "metadata": {},
   "outputs": [
    {
     "name": "stdout",
     "output_type": "stream",
     "text": [
      "[10, 20, 40, 55, 60, 100]\n",
      "[]\n"
     ]
    }
   ],
   "source": [
    "#clear\n",
    "\n",
    "print(list1)\n",
    "list1.clear()\n",
    "print(list1)"
   ]
  },
  {
   "cell_type": "code",
   "execution_count": 52,
   "id": "54800579",
   "metadata": {},
   "outputs": [],
   "source": [
    "list2 = [10.4,50.4,30.6,20.5,40.1]   #Float"
   ]
  },
  {
   "cell_type": "code",
   "execution_count": 53,
   "id": "515164aa",
   "metadata": {},
   "outputs": [
    {
     "name": "stdout",
     "output_type": "stream",
     "text": [
      "[10.4, 50.4, 30.6, 20.5, 40.1]\n",
      "[10.4, 50.4, 30.6, 20.5, 40.1, 60.7]\n"
     ]
    }
   ],
   "source": [
    "#append\n",
    "\n",
    "print(list2)\n",
    "list2.append(60.7)\n",
    "print(list2)"
   ]
  },
  {
   "cell_type": "code",
   "execution_count": 54,
   "id": "d2f5c684",
   "metadata": {},
   "outputs": [
    {
     "name": "stdout",
     "output_type": "stream",
     "text": [
      "[10.4, 50.4, 30.6, 20.5, 40.1, 60.7]\n",
      "[10.4, 50.4, 30.6, 20.5, 40.1, 60.7]\n"
     ]
    }
   ],
   "source": [
    "#copy\n",
    "\n",
    "print(list2)\n",
    "list2.copy\n",
    "print(list2)"
   ]
  },
  {
   "cell_type": "code",
   "execution_count": 55,
   "id": "e78049bb",
   "metadata": {},
   "outputs": [
    {
     "name": "stdout",
     "output_type": "stream",
     "text": [
      "[10.4, 50.4, 30.6, 20.5, 40.1, 60.7]\n",
      "1\n"
     ]
    }
   ],
   "source": [
    "#count\n",
    "\n",
    "print(list2)\n",
    "list2.count(20.5)\n",
    "print(list2.count(20.5))"
   ]
  },
  {
   "cell_type": "code",
   "execution_count": 56,
   "id": "2e072005",
   "metadata": {},
   "outputs": [
    {
     "name": "stdout",
     "output_type": "stream",
     "text": [
      "[10.4, 50.4, 30.6, 20.5, 40.1, 60.7]\n",
      "[10.4, 50.4, 30.6, 34.4, 20.5, 40.1, 60.7]\n"
     ]
    }
   ],
   "source": [
    "#insert\n",
    "\n",
    "print(list2)\n",
    "list2.insert(3,34.4)\n",
    "print(list2)"
   ]
  },
  {
   "cell_type": "code",
   "execution_count": 57,
   "id": "45d3514d",
   "metadata": {},
   "outputs": [
    {
     "name": "stdout",
     "output_type": "stream",
     "text": [
      "[10.4, 50.4, 30.6, 34.4, 20.5, 40.1, 60.7]\n",
      "3\n"
     ]
    }
   ],
   "source": [
    "#index\n",
    "\n",
    "print(list2)\n",
    "loc=list2.index(34.4)\n",
    "print(loc)"
   ]
  },
  {
   "cell_type": "code",
   "execution_count": 58,
   "id": "0c7910e3",
   "metadata": {},
   "outputs": [
    {
     "name": "stdout",
     "output_type": "stream",
     "text": [
      "[10.4, 50.4, 30.6, 34.4, 20.5, 40.1, 60.7]\n",
      "[10.4, 50.4, 30.6, 20.5, 40.1, 60.7]\n"
     ]
    }
   ],
   "source": [
    "#pop\n",
    "\n",
    "\n",
    "print(list2)\n",
    "list2.pop(3)\n",
    "print(list2)"
   ]
  },
  {
   "cell_type": "code",
   "execution_count": 59,
   "id": "af6eba73",
   "metadata": {},
   "outputs": [
    {
     "name": "stdout",
     "output_type": "stream",
     "text": [
      "[10.4, 50.4, 30.6, 20.5, 40.1, 60.7]\n",
      "[10.4, 50.4, 30.6, 20.5, 60.7]\n"
     ]
    }
   ],
   "source": [
    "#remove\n",
    "\n",
    "print(list2)\n",
    "list2.remove(40.1)\n",
    "print(list2)"
   ]
  },
  {
   "cell_type": "code",
   "execution_count": 60,
   "id": "592715c1",
   "metadata": {},
   "outputs": [
    {
     "name": "stdout",
     "output_type": "stream",
     "text": [
      "[10.4, 50.4, 30.6, 20.5, 60.7]\n",
      "[60.7, 20.5, 30.6, 50.4, 10.4]\n"
     ]
    }
   ],
   "source": [
    "#reverse\n",
    "\n",
    "print(list2)\n",
    "list2.reverse()\n",
    "print(list2)"
   ]
  },
  {
   "cell_type": "code",
   "execution_count": 61,
   "id": "3925c60b",
   "metadata": {},
   "outputs": [
    {
     "name": "stdout",
     "output_type": "stream",
     "text": [
      "[60.7, 20.5, 30.6, 50.4, 10.4]\n",
      "[10.4, 20.5, 30.6, 50.4, 60.7]\n"
     ]
    }
   ],
   "source": [
    "#sort\n",
    "\n",
    "print(list2)\n",
    "list2.sort()  #ascending order\n",
    "print(list2)"
   ]
  },
  {
   "cell_type": "code",
   "execution_count": 62,
   "id": "fe38302e",
   "metadata": {},
   "outputs": [
    {
     "name": "stdout",
     "output_type": "stream",
     "text": [
      "[10.4, 20.5, 30.6, 50.4, 60.7]\n",
      "[60.7, 50.4, 30.6, 20.5, 10.4]\n"
     ]
    }
   ],
   "source": [
    "print(list2)\n",
    "list2.sort(reverse=True) #descnding order\n",
    "print(list2)"
   ]
  },
  {
   "cell_type": "code",
   "execution_count": 63,
   "id": "3faba862",
   "metadata": {},
   "outputs": [
    {
     "name": "stdout",
     "output_type": "stream",
     "text": [
      "[60.7, 50.4, 30.6, 20.5, 10.4]\n",
      "[60.7, 50.4, 30.6, 20.5, 10.4, 60.7, 50.4, 30.6, 20.5, 10.4]\n"
     ]
    }
   ],
   "source": [
    "#Extend\n",
    "\n",
    "\n",
    "print(list2)\n",
    "list2.extend(list2)\n",
    "print(list2)\n"
   ]
  },
  {
   "cell_type": "code",
   "execution_count": 64,
   "id": "76d742bc",
   "metadata": {},
   "outputs": [],
   "source": [
    "#print(list2)\n",
    "#list2.extend(7) #'int' object is not iterable\n",
    "                #here list,tuple,string are the iterable\n",
    "#print(list2)"
   ]
  },
  {
   "cell_type": "code",
   "execution_count": 65,
   "id": "f6962e2e",
   "metadata": {},
   "outputs": [
    {
     "name": "stdout",
     "output_type": "stream",
     "text": [
      "[60.7, 50.4, 30.6, 20.5, 10.4, 60.7, 50.4, 30.6, 20.5, 10.4]\n",
      "[60.7, 50.4, 30.6, 20.5, 10.4, 60.7, 50.4, 30.6, 20.5, 10.4]\n"
     ]
    }
   ],
   "source": [
    "#Clear\n",
    "\n",
    "print(list2)\n",
    "list2.clear  \n",
    "print(list2)"
   ]
  },
  {
   "cell_type": "code",
   "execution_count": 66,
   "id": "1fab1257",
   "metadata": {},
   "outputs": [],
   "source": [
    "list3 = ['Nitin', 'Rahul', 'Datta', 'Ajay']\n"
   ]
  },
  {
   "cell_type": "code",
   "execution_count": 67,
   "id": "f20819af",
   "metadata": {},
   "outputs": [
    {
     "name": "stdout",
     "output_type": "stream",
     "text": [
      "['Nitin', 'Rahul', 'Datta', 'Ajay']\n",
      "['Nitin', 'Rahul', 'Datta', 'Ajay', 'Nitin']\n"
     ]
    }
   ],
   "source": [
    "#append\n",
    "\n",
    "print(list3)\n",
    "list3.append('Nitin')  \n",
    "print(list3)"
   ]
  },
  {
   "cell_type": "code",
   "execution_count": 68,
   "id": "21a6fa24",
   "metadata": {},
   "outputs": [
    {
     "name": "stdout",
     "output_type": "stream",
     "text": [
      "['Nitin', 'Rahul', 'Datta', 'Ajay', 'Nitin']\n",
      "['Nitin', 'Rahul', 'Datta', 'Ajay', 'Nitin']\n"
     ]
    }
   ],
   "source": [
    "#copy\n",
    "\n",
    "\n",
    "print(list3)\n",
    "list3.copy\n",
    "print(list3)"
   ]
  },
  {
   "cell_type": "code",
   "execution_count": 69,
   "id": "26ca51d4",
   "metadata": {},
   "outputs": [
    {
     "name": "stdout",
     "output_type": "stream",
     "text": [
      "['Nitin', 'Rahul', 'Datta', 'Ajay', 'Nitin']\n",
      "2\n"
     ]
    }
   ],
   "source": [
    "#count\n",
    "\n",
    "print(list3)\n",
    "count=list3.count('Nitin')\n",
    "print(count)"
   ]
  },
  {
   "cell_type": "code",
   "execution_count": 70,
   "id": "03040162",
   "metadata": {},
   "outputs": [
    {
     "name": "stdout",
     "output_type": "stream",
     "text": [
      "['Nitin', 'Rahul', 'Datta', 'Ajay', 'Nitin']\n",
      "['Nitin', 'Rahul', 'Sagar', 'Datta', 'Ajay', 'Nitin']\n"
     ]
    }
   ],
   "source": [
    "#insert\n",
    "\n",
    "print(list3)\n",
    "list3.insert(2,'Sagar')  \n",
    "print(list3)"
   ]
  },
  {
   "cell_type": "code",
   "execution_count": 71,
   "id": "600cbd95",
   "metadata": {},
   "outputs": [
    {
     "name": "stdout",
     "output_type": "stream",
     "text": [
      "['Nitin', 'Rahul', 'Sagar', 'Datta', 'Ajay', 'Nitin']\n",
      "5\n"
     ]
    }
   ],
   "source": [
    "#index\n",
    "\n",
    "print(list3)\n",
    "loc=list3.index('Nitin',2) \n",
    "print(loc)"
   ]
  },
  {
   "cell_type": "code",
   "execution_count": 72,
   "id": "e91bdd98",
   "metadata": {},
   "outputs": [
    {
     "name": "stdout",
     "output_type": "stream",
     "text": [
      "['Nitin', 'Rahul', 'Sagar', 'Datta', 'Ajay', 'Nitin']\n",
      "['Nitin', 'Rahul', 'Sagar', 'Datta', 'Ajay']\n"
     ]
    }
   ],
   "source": [
    "#pop\n",
    "\n",
    "print(list3)\n",
    "list3.pop(5)\n",
    "print(list3)"
   ]
  },
  {
   "cell_type": "code",
   "execution_count": 73,
   "id": "d12920aa",
   "metadata": {},
   "outputs": [
    {
     "name": "stdout",
     "output_type": "stream",
     "text": [
      "['Nitin', 'Rahul', 'Sagar', 'Datta', 'Ajay']\n",
      "['Nitin', 'Rahul', 'Sagar', 'Datta']\n"
     ]
    }
   ],
   "source": [
    "#remove\n",
    "\n",
    "print(list3)\n",
    "list3.remove('Ajay')\n",
    "print(list3)"
   ]
  },
  {
   "cell_type": "code",
   "execution_count": 74,
   "id": "b3cd5532",
   "metadata": {},
   "outputs": [
    {
     "name": "stdout",
     "output_type": "stream",
     "text": [
      "['Nitin', 'Rahul', 'Sagar', 'Datta']\n",
      "['Datta', 'Sagar', 'Rahul', 'Nitin']\n"
     ]
    }
   ],
   "source": [
    "#reverse\n",
    "\n",
    "print(list3)\n",
    "list3.reverse()\n",
    "print(list3)"
   ]
  },
  {
   "cell_type": "code",
   "execution_count": 75,
   "id": "a73a4a87",
   "metadata": {},
   "outputs": [
    {
     "name": "stdout",
     "output_type": "stream",
     "text": [
      "['Datta', 'Sagar', 'Rahul', 'Nitin']\n",
      "['Datta', 'Nitin', 'Rahul', 'Sagar']\n"
     ]
    }
   ],
   "source": [
    "#sort\n",
    "\n",
    "print(list3)\n",
    "list3.sort() #ascending \n",
    "print(list3)"
   ]
  },
  {
   "cell_type": "code",
   "execution_count": 76,
   "id": "ffacfc2b",
   "metadata": {},
   "outputs": [
    {
     "name": "stdout",
     "output_type": "stream",
     "text": [
      "['Datta', 'Nitin', 'Rahul', 'Sagar']\n",
      "['Sagar', 'Rahul', 'Nitin', 'Datta']\n"
     ]
    }
   ],
   "source": [
    "#print(list3)\n",
    "print(list3)\n",
    "list3.sort(reverse=True)\n",
    "print(list3)"
   ]
  },
  {
   "cell_type": "code",
   "execution_count": 77,
   "id": "234f87e8",
   "metadata": {},
   "outputs": [
    {
     "name": "stdout",
     "output_type": "stream",
     "text": [
      "['Sagar', 'Rahul', 'Nitin', 'Datta']\n",
      "['Sagar', 'Rahul', 'Nitin', 'Datta', 'a']\n"
     ]
    }
   ],
   "source": [
    "#Extend\n",
    "\n",
    "print(list3)\n",
    "list3.extend(\"a\")\n",
    "print(list3)"
   ]
  },
  {
   "cell_type": "code",
   "execution_count": 78,
   "id": "6366ea61",
   "metadata": {},
   "outputs": [
    {
     "name": "stdout",
     "output_type": "stream",
     "text": [
      "['Sagar', 'Rahul', 'Nitin', 'Datta', 'a']\n",
      "[]\n"
     ]
    }
   ],
   "source": [
    "#clear\n",
    "\n",
    "print(list3)\n",
    "list3.clear()\n",
    "print(list3)"
   ]
  },
  {
   "cell_type": "markdown",
   "id": "fb7ae2a4",
   "metadata": {},
   "source": [
    "# 2 Tuple"
   ]
  },
  {
   "cell_type": "raw",
   "id": "b12ae5a7",
   "metadata": {},
   "source": [
    "1.Tuple is ordered and unchangable\n",
    "2.Immutable (you cant change the elements or cant added in tuple)\n",
    "3.()are used to represent the tuple\n",
    "4.Allow Duplicates\n",
    "5.Tuples are read only version of your list except list is growable"
   ]
  },
  {
   "cell_type": "code",
   "execution_count": 79,
   "id": "db6fb00f",
   "metadata": {},
   "outputs": [
    {
     "name": "stdout",
     "output_type": "stream",
     "text": [
      "('blue', 'red', 'green', 'yellow', 'black', 'white')\n"
     ]
    }
   ],
   "source": [
    "tup = (\"blue\",\"red\",\"green\",\"yellow\",\"black\",\"white\")\n",
    "\n",
    "print(tup)"
   ]
  },
  {
   "cell_type": "code",
   "execution_count": 80,
   "id": "5703ddd4",
   "metadata": {},
   "outputs": [
    {
     "data": {
      "text/plain": [
       "6"
      ]
     },
     "execution_count": 80,
     "metadata": {},
     "output_type": "execute_result"
    }
   ],
   "source": [
    "len(tup)"
   ]
  },
  {
   "cell_type": "code",
   "execution_count": 81,
   "id": "6faaf7fb",
   "metadata": {},
   "outputs": [
    {
     "name": "stdout",
     "output_type": "stream",
     "text": [
      "<class 'str'>\n",
      "<class 'tuple'>\n"
     ]
    }
   ],
   "source": [
    "tup1 = (\"blue\")\n",
    "print(type(tup1))\n",
    "\n",
    "tup1 = (\"blue\",)\n",
    "print(type(tup1))"
   ]
  },
  {
   "cell_type": "code",
   "execution_count": 82,
   "id": "b5b2ff4e",
   "metadata": {},
   "outputs": [
    {
     "name": "stdout",
     "output_type": "stream",
     "text": [
      "('potato', 10, 'n', 45)\n"
     ]
    }
   ],
   "source": [
    "tup2 = (\"potato\",10,\"n\",45)\n",
    "print(tup2)"
   ]
  },
  {
   "cell_type": "code",
   "execution_count": 83,
   "id": "135cca2c",
   "metadata": {},
   "outputs": [
    {
     "name": "stdout",
     "output_type": "stream",
     "text": [
      "(10, 20, 30)\n"
     ]
    }
   ],
   "source": [
    "tup3 =tuple((10,20,30))  #tuple () is constructor\n",
    "print(tup3)"
   ]
  },
  {
   "cell_type": "code",
   "execution_count": 84,
   "id": "4e101619",
   "metadata": {},
   "outputs": [
    {
     "name": "stdout",
     "output_type": "stream",
     "text": [
      "('blue', 'red', 'green', 'yellow', 'black', 'white')\n"
     ]
    },
    {
     "data": {
      "text/plain": [
       "'red'"
      ]
     },
     "execution_count": 84,
     "metadata": {},
     "output_type": "execute_result"
    }
   ],
   "source": [
    "#access\n",
    "print(tup)\n",
    "tup[1]"
   ]
  },
  {
   "cell_type": "code",
   "execution_count": 85,
   "id": "3c6d100b",
   "metadata": {},
   "outputs": [
    {
     "name": "stdout",
     "output_type": "stream",
     "text": [
      "('blue', 'red', 'green', 'yellow', 'black', 'white')\n"
     ]
    },
    {
     "data": {
      "text/plain": [
       "'yellow'"
      ]
     },
     "execution_count": 85,
     "metadata": {},
     "output_type": "execute_result"
    }
   ],
   "source": [
    "print(tup)\n",
    "tup[-3]"
   ]
  },
  {
   "cell_type": "code",
   "execution_count": 86,
   "id": "4db3e8c4",
   "metadata": {},
   "outputs": [
    {
     "data": {
      "text/plain": [
       "('red', 'green', 'yellow')"
      ]
     },
     "execution_count": 86,
     "metadata": {},
     "output_type": "execute_result"
    }
   ],
   "source": [
    "#range of items\n",
    "tup[1:4]"
   ]
  },
  {
   "cell_type": "code",
   "execution_count": 87,
   "id": "83f7c1c9",
   "metadata": {},
   "outputs": [
    {
     "name": "stdout",
     "output_type": "stream",
     "text": [
      "('blue', 'red', 'green', 'yellow', 'black', 'white')\n",
      "<class 'tuple'>\n",
      "['blue', 'red', 'green', 'yellow', 'black', 'white']\n",
      "<class 'list'>\n",
      "['blue', 'red', 'orange', 'yellow', 'black', 'white']\n",
      "<class 'tuple'>\n",
      "('blue', 'red', 'orange', 'yellow', 'black', 'white')\n"
     ]
    }
   ],
   "source": [
    "#Change tuple vlue using list\n",
    "print(tup)\n",
    "print(type(tup))\n",
    "var=list(tup)\n",
    "print(var)\n",
    "print(type(var))\n",
    "\n",
    "#change value\n",
    "\n",
    "var[2]='orange'\n",
    "print(var)\n",
    "\n",
    "#convert back to tuple\n",
    "\n",
    "tup= tuple(var)\n",
    "print(type(tup))\n",
    "print(tup)"
   ]
  },
  {
   "cell_type": "code",
   "execution_count": 88,
   "id": "b4914ec5",
   "metadata": {},
   "outputs": [
    {
     "name": "stdout",
     "output_type": "stream",
     "text": [
      "('blue', 'red', 'orange', 'yellow', 'black', 'white')\n",
      "<class 'tuple'>\n",
      "['blue', 'red', 'orange', 'yellow', 'black', 'white']\n",
      "<class 'list'>\n",
      "['blue', 'red', 'orange', 'pink', 'yellow', 'black', 'white']\n",
      "<class 'tuple'>\n",
      "('blue', 'red', 'orange', 'pink', 'yellow', 'black', 'white')\n"
     ]
    }
   ],
   "source": [
    "#add items\n",
    "\n",
    "print(tup)\n",
    "print(type(tup))\n",
    "var=list(tup)\n",
    "print(var)\n",
    "print(type(var))\n",
    "\n",
    "var.insert(3,'pink')\n",
    "\n",
    "print(var)\n",
    "\n",
    "#convert back to tuple\n",
    "\n",
    "tup= tuple(var)\n",
    "print(type(tup))\n",
    "print(tup)"
   ]
  },
  {
   "cell_type": "code",
   "execution_count": 89,
   "id": "e441b1aa",
   "metadata": {},
   "outputs": [
    {
     "name": "stdout",
     "output_type": "stream",
     "text": [
      "(10, 20, 30)\n",
      "('d', 'b', 'c')\n",
      "The concat is : (10, 20, 30, 'd', 'b', 'c')\n"
     ]
    }
   ],
   "source": [
    "#tuple concat +\n",
    "a_tup3 = (10,20,30)\n",
    "a_tup4 = ('d','b','c')\n",
    "print(a_tup3)\n",
    "print(a_tup4)\n",
    "#concat\n",
    "\n",
    "var1 = a_tup3 + a_tup4\n",
    "\n",
    "print(\"The concat is :\",var1)"
   ]
  },
  {
   "cell_type": "code",
   "execution_count": 90,
   "id": "8e487993",
   "metadata": {},
   "outputs": [
    {
     "name": "stdout",
     "output_type": "stream",
     "text": [
      "('blue', 'red', 'orange', 'pink', 'yellow', 'black', 'white')\n",
      "<class 'tuple'>\n",
      "<class 'list'>\n",
      "['blue', 'red', 'orange', 'pink', 'yellow', 'black', 'white']\n",
      "('blue', 'red', 'orange', 'yellow', 'black', 'white')\n",
      "<class 'tuple'>\n"
     ]
    }
   ],
   "source": [
    "#remove items using list\n",
    "\n",
    "print(tup)\n",
    "print(type(tup))\n",
    "\n",
    "var = list(tup)\n",
    "print(type(var))\n",
    "print(var)\n",
    "\n",
    "var.remove('pink')\n",
    "\n",
    "tup= tuple(var)\n",
    "print(tup)\n",
    "print(type(tup))"
   ]
  },
  {
   "cell_type": "code",
   "execution_count": 91,
   "id": "5fce1f58",
   "metadata": {},
   "outputs": [
    {
     "name": "stdout",
     "output_type": "stream",
     "text": [
      "('a', 'b', 'c', 'd')\n"
     ]
    },
    {
     "ename": "NameError",
     "evalue": "name 'tup5' is not defined",
     "output_type": "error",
     "traceback": [
      "\u001b[0;31m---------------------------------------------------------------------------\u001b[0m",
      "\u001b[0;31mNameError\u001b[0m                                 Traceback (most recent call last)",
      "\u001b[0;32m<ipython-input-91-3d750afd51b3>\u001b[0m in \u001b[0;36m<module>\u001b[0;34m\u001b[0m\n\u001b[1;32m      4\u001b[0m \u001b[0mprint\u001b[0m\u001b[0;34m(\u001b[0m\u001b[0mtup5\u001b[0m\u001b[0;34m)\u001b[0m\u001b[0;34m\u001b[0m\u001b[0;34m\u001b[0m\u001b[0m\n\u001b[1;32m      5\u001b[0m \u001b[0;32mdel\u001b[0m \u001b[0mtup5\u001b[0m      \u001b[0;31m#here delete complete tuple\u001b[0m\u001b[0;34m\u001b[0m\u001b[0;34m\u001b[0m\u001b[0m\n\u001b[0;32m----> 6\u001b[0;31m \u001b[0mprint\u001b[0m\u001b[0;34m(\u001b[0m\u001b[0mtup5\u001b[0m\u001b[0;34m)\u001b[0m  \u001b[0;31m# name 'tup5' is not defined\u001b[0m\u001b[0;34m\u001b[0m\u001b[0;34m\u001b[0m\u001b[0m\n\u001b[0m",
      "\u001b[0;31mNameError\u001b[0m: name 'tup5' is not defined"
     ]
    }
   ],
   "source": [
    "#complete deletion of tuple using del tuple_name\n",
    "\n",
    "tup5 = ('a','b','c','d')\n",
    "print(tup5)\n",
    "del tup5      #here delete complete tuple\n",
    "print(tup5)  # name 'tup5' is not defined"
   ]
  },
  {
   "cell_type": "code",
   "execution_count": null,
   "id": "1cf4d1f6",
   "metadata": {},
   "outputs": [],
   "source": [
    "#use asterisk\n",
    "\n",
    "colours = ('blue', 'red', 'orange', 'yellow', 'black', 'white')\n",
    "\n",
    "(apple,*banana,mango) = colours\n",
    "\n",
    "print(apple)\n",
    "print(banana)\n",
    "print(mango)"
   ]
  },
  {
   "cell_type": "code",
   "execution_count": null,
   "id": "b2b59298",
   "metadata": {},
   "outputs": [],
   "source": [
    "colours = ('blue', 'red', 'orange', 'yellow', 'black', 'white')\n",
    "\n",
    "(apple,banana,*mango) = colours\n",
    "\n",
    "print(apple)\n",
    "print(banana)\n",
    "print(mango)"
   ]
  },
  {
   "cell_type": "code",
   "execution_count": null,
   "id": "788fc729",
   "metadata": {},
   "outputs": [],
   "source": [
    "#count() and index()\n",
    "print(tup)\n",
    "cnt=tup.count('red')\n",
    "print(cnt)"
   ]
  },
  {
   "cell_type": "code",
   "execution_count": null,
   "id": "8dcced3d",
   "metadata": {},
   "outputs": [],
   "source": [
    "print(tup)\n",
    "loc = tup.index('pink')\n",
    "print(loc)"
   ]
  },
  {
   "cell_type": "markdown",
   "id": "412d223f",
   "metadata": {},
   "source": [
    "# 3 Set"
   ]
  },
  {
   "cell_type": "raw",
   "id": "9b8e4c59",
   "metadata": {},
   "source": [
    "1.Set is unordered collection of elements\n",
    "2.It is mutable\n",
    "3.It is growable\n",
    "4.set items are unchangeable\n",
    "5.{}are used represent set\n",
    "6.Index concept isnot applicable\n",
    "7.duplicates are not allowed\n"
   ]
  },
  {
   "cell_type": "code",
   "execution_count": 92,
   "id": "f7cce99e",
   "metadata": {},
   "outputs": [
    {
     "name": "stdout",
     "output_type": "stream",
     "text": [
      "{1, 2, 'nitin', 'pear'}\n"
     ]
    }
   ],
   "source": [
    "s = {1,2,\"nitin\",\"pear\"}\n",
    "print(s)"
   ]
  },
  {
   "cell_type": "code",
   "execution_count": 93,
   "id": "ccf9bd58",
   "metadata": {},
   "outputs": [
    {
     "name": "stdout",
     "output_type": "stream",
     "text": [
      "4\n"
     ]
    }
   ],
   "source": [
    "print(len(s))"
   ]
  },
  {
   "cell_type": "code",
   "execution_count": 94,
   "id": "f2f8fbc9",
   "metadata": {},
   "outputs": [
    {
     "name": "stdout",
     "output_type": "stream",
     "text": [
      "{'red', 'blue', 'green'}\n",
      "<class 'set'>\n"
     ]
    }
   ],
   "source": [
    "#set() constructor\n",
    "set1 = set((\"red\",\"blue\",\"green\"))\n",
    "print(set1)\n",
    "print(type(set1))"
   ]
  },
  {
   "cell_type": "code",
   "execution_count": 95,
   "id": "0402a8a5",
   "metadata": {},
   "outputs": [
    {
     "name": "stdout",
     "output_type": "stream",
     "text": [
      "False\n",
      "True\n"
     ]
    }
   ],
   "source": [
    "#accessing set\n",
    "\n",
    "var = \"red\" in s\n",
    "\n",
    "print(var)\n",
    "\n",
    "print(1 in s)"
   ]
  },
  {
   "cell_type": "code",
   "execution_count": 96,
   "id": "abbac69b",
   "metadata": {},
   "outputs": [
    {
     "name": "stdout",
     "output_type": "stream",
     "text": [
      "{'red', 'blue', 'green'}\n",
      "{1, 'red', 'blue', 'green'}\n"
     ]
    }
   ],
   "source": [
    "#once st is created you cant change elements value\n",
    "#but you can add the values\n",
    "\n",
    "print(set1)\n",
    "set1.add(1)\n",
    "print(set1)"
   ]
  },
  {
   "cell_type": "code",
   "execution_count": 97,
   "id": "518e629f",
   "metadata": {},
   "outputs": [
    {
     "name": "stdout",
     "output_type": "stream",
     "text": [
      "{'mango', 'banana', 'apple'}\n",
      "(10, 20, 30)\n",
      "{1, 'green', 'apple', 'blue', 'mango', 'banana', 'red'}\n",
      "{1, 'apple', 10, 20, 'red', 30, 'green', 'blue', 'mango', 'banana'}\n"
     ]
    }
   ],
   "source": [
    "#using update you can add any iterable items like set, list, tuple, dict-keys\n",
    "set2 = {\"apple\",\"banana\",\"mango\"}\n",
    "print(set2)\n",
    "tup = (10,20,30)\n",
    "print(tup)\n",
    "set1.update(set2)\n",
    "print(set1)\n",
    "set1.update(tup)\n",
    "print(set1)"
   ]
  },
  {
   "cell_type": "code",
   "execution_count": 98,
   "id": "ea7cc997",
   "metadata": {},
   "outputs": [
    {
     "name": "stdout",
     "output_type": "stream",
     "text": [
      "Remove using remove:\n",
      " {1, 'apple', 10, 20, 'red', 30, 'green', 'blue', 'mango', 'banana'}\n",
      "{1, 'apple', 10, 20, 'red', 30, 'green', 'mango', 'banana'}\n",
      "Remove using discard:\n",
      " {1, 'apple', 10, 20, 'red', 30, 'green', 'mango', 'banana'}\n",
      "{'apple', 10, 20, 'red', 30, 'green', 'mango', 'banana'}\n",
      "Remove using pop:\n",
      " {'apple', 10, 20, 'red', 30, 'green', 'mango', 'banana'}\n",
      "{10, 20, 'red', 30, 'green', 'mango', 'banana'}\n"
     ]
    }
   ],
   "source": [
    "#remove(),  discard(), pop()\n",
    "\n",
    "print(\"Remove using remove:\\n\",set1)\n",
    "set1.remove(\"blue\")\n",
    "print(set1)\n",
    "\n",
    "print(\"Remove using discard:\\n\",set1)\n",
    "set1.discard(1)\n",
    "print(set1)\n",
    "\n",
    "print(\"Remove using pop:\\n\",set1)\n",
    "set1.pop()\n",
    "print(set1)"
   ]
  },
  {
   "cell_type": "code",
   "execution_count": null,
   "id": "fae89208",
   "metadata": {},
   "outputs": [],
   "source": []
  },
  {
   "cell_type": "code",
   "execution_count": 99,
   "id": "2368cef9",
   "metadata": {},
   "outputs": [
    {
     "name": "stdout",
     "output_type": "stream",
     "text": [
      "{1, 2, 'nitin', 'pear'}\n",
      "\n",
      "{1, 2, 'pear', 10, 'nitin', 'green', 20, 'mango', 'banana', 'red', 30}\n"
     ]
    }
   ],
   "source": [
    "#union\n",
    "\n",
    "#adds elements of two sets and create new sets\n",
    "\n",
    "print(s)\n",
    "print()\n",
    "s = s.union(set1)\n",
    "print(s)"
   ]
  },
  {
   "cell_type": "code",
   "execution_count": 101,
   "id": "0a54769d",
   "metadata": {},
   "outputs": [
    {
     "name": "stdout",
     "output_type": "stream",
     "text": [
      "{1, 2, 'pear', 10, 'nitin', 'green', 20, 'mango', 'banana', 'red', 30}\n",
      "{10, 20, 'red', 30, 'green', 'mango', 'banana'}\n",
      "intersection is: {10, 'green', 20, 'mango', 'banana', 'red', 30}\n",
      "intersection update  : {10, 'green', 20, 'mango', 'banana', 'red', 30}\n"
     ]
    }
   ],
   "source": [
    "#intersection\n",
    "\n",
    "print(s)\n",
    "print(set1)\n",
    "i = s.intersection(set1)\n",
    "print(\"intersection is:\",i)\n",
    "\n",
    "#keeps duplicates in set1\n",
    "s.intersection_update(set1)\n",
    "print(\"intersection update  :\",s)"
   ]
  },
  {
   "cell_type": "code",
   "execution_count": 102,
   "id": "7959ecd9",
   "metadata": {},
   "outputs": [
    {
     "name": "stdout",
     "output_type": "stream",
     "text": [
      "{10, 'green', 20, 'mango', 'banana', 'red', 30}\n",
      "{10, 20, 'red', 30, 'green', 'mango', 'banana'}\n",
      "set()\n",
      "symmetric difference: {1, 2, 6, 7}\n",
      " difference: {1, 2}\n"
     ]
    }
   ],
   "source": [
    "#keeps elements which are not present in other set\n",
    "\n",
    "s_1 = {1,2,3,4,5}\n",
    "s_2 = {3,4,5,6,7}\n",
    "\n",
    "\n",
    "print(s)\n",
    "print(set1)\n",
    "s.symmetric_difference_update(set1)\n",
    "print(s)\n",
    "\n",
    "\n",
    "k = s_1.symmetric_difference(s_2)\n",
    "\n",
    "v=s_1.difference(s_2)\n",
    "print('symmetric difference:',k)\n",
    "print(' difference:',v)\n",
    "\n"
   ]
  },
  {
   "cell_type": "code",
   "execution_count": 110,
   "id": "3d9cd418",
   "metadata": {},
   "outputs": [
    {
     "name": "stdout",
     "output_type": "stream",
     "text": [
      "True\n",
      "True\n",
      "True\n"
     ]
    }
   ],
   "source": [
    "#isdisjoint()returns whether two sets are intersection or not\n",
    "#issubset()returns whether another set contains this set are not\n",
    "#issuperset()returns whether this set contains another set are not\n",
    "\n",
    "print(s.isdisjoint(set1))\n",
    "print(s.issubset(set1))\n",
    "print(set1.issuperset(s))\n",
    "\n"
   ]
  },
  {
   "cell_type": "code",
   "execution_count": 106,
   "id": "e0957acd",
   "metadata": {},
   "outputs": [],
   "source": [
    "#del and clear() method removes the set comletely"
   ]
  },
  {
   "cell_type": "markdown",
   "id": "42477246",
   "metadata": {},
   "source": [
    "# 4 Frozenset"
   ]
  },
  {
   "cell_type": "code",
   "execution_count": 118,
   "id": "01003069",
   "metadata": {},
   "outputs": [
    {
     "name": "stdout",
     "output_type": "stream",
     "text": [
      "<class 'frozenset'>\n",
      "frozenset({1, 2, 3, 'apple', 'grapes', 'orange'})\n",
      "frozenset({'banana', 'grapes', 'apple', 'orange'})\n",
      "<class 'frozenset'>\n"
     ]
    }
   ],
   "source": [
    "#Frozenset set is same as set but it is immmutable\n",
    "\n",
    "\n",
    "set3 = {\"apple\",\"banana\",\"grapes\",\"orange\"}\n",
    "m = frozenset({1,2,3,\"apple\",\"grapes\",\"orange\"})\n",
    "\n",
    "print(type(m))\n",
    "\n",
    "print(m)\n",
    "\n",
    "\n",
    "#print(type(set3))\n",
    "n = frozenset(set3)\n",
    "print(n)\n",
    "print(type(n))\n",
    "\n",
    "\n",
    "\n"
   ]
  },
  {
   "cell_type": "code",
   "execution_count": 117,
   "id": "1d76e28a",
   "metadata": {},
   "outputs": [
    {
     "name": "stdout",
     "output_type": "stream",
     "text": [
      "frozenset({'banana', 'grapes', 'apple', 'orange'})\n",
      "<class 'frozenset'>\n",
      "frozenset({'banana', 'grapes', 'apple', 'orange'})\n"
     ]
    }
   ],
   "source": [
    "#supported methods for frozenset\n",
    "#1.copy()\n",
    "\n",
    "print(n)\n",
    "print(type(n))\n",
    "n.copy()\n",
    "print(n)\n"
   ]
  },
  {
   "cell_type": "code",
   "execution_count": 119,
   "id": "c353a9ec",
   "metadata": {},
   "outputs": [
    {
     "name": "stdout",
     "output_type": "stream",
     "text": [
      "frozenset({'banana', 'grapes', 'apple', 'orange'})\n",
      "frozenset({1, 2, 3, 'apple', 'grapes', 'orange'})\n",
      "difference is : frozenset({'banana'})\n"
     ]
    }
   ],
   "source": [
    "#2.difference\n",
    "\n",
    "print(n)\n",
    "print(m)\n",
    "p = n.difference(m)\n",
    "print(\"difference is :\",)"
   ]
  },
  {
   "cell_type": "code",
   "execution_count": 122,
   "id": "0cc44422",
   "metadata": {},
   "outputs": [
    {
     "name": "stdout",
     "output_type": "stream",
     "text": [
      "{'banana', 'grapes', 'apple', 'orange'}\n",
      "<class 'set'>\n",
      "{1, 2, 3, 'apple', 'grapes', 'orange'}\n",
      "<class 'set'>\n",
      "frozenset({'grapes', 'apple', 'orange'})\n",
      "<class 'frozenset'>\n"
     ]
    }
   ],
   "source": [
    "#3.intersection\n",
    "\n",
    "#print(n)\n",
    "#print(m)\n",
    "d=set(n)\n",
    "print(d)\n",
    "print(type(d))\n",
    "\n",
    "e=set(m)\n",
    "print(e)\n",
    "print(type(e))\n",
    "b = d.intersection(e)\n",
    "fr = frozenset(b)\n",
    "print(fr)\n",
    "print(type(fr))"
   ]
  },
  {
   "cell_type": "code",
   "execution_count": 123,
   "id": "ee0789f1",
   "metadata": {},
   "outputs": [
    {
     "name": "stdout",
     "output_type": "stream",
     "text": [
      "frozenset({1, 2, 3, 'apple', 'grapes', 'orange'})\n",
      "frozenset({'banana', 'grapes', 'apple', 'orange'})\n",
      "False\n"
     ]
    }
   ],
   "source": [
    "#4.isdisjoint\n",
    "\n",
    "print(m)\n",
    "print(n)\n",
    "l=n.isdisjoint(m)\n",
    "print(l)"
   ]
  },
  {
   "cell_type": "code",
   "execution_count": 124,
   "id": "76d962a7",
   "metadata": {},
   "outputs": [
    {
     "name": "stdout",
     "output_type": "stream",
     "text": [
      "frozenset({1, 2, 3, 'apple', 'grapes', 'orange'})\n",
      "frozenset({'banana', 'grapes', 'apple', 'orange'})\n",
      "False\n"
     ]
    }
   ],
   "source": [
    "#5.issubset\n",
    "\n",
    "print(m)\n",
    "print(n)\n",
    "l=n.issubset(m)\n",
    "print(l)"
   ]
  },
  {
   "cell_type": "code",
   "execution_count": 125,
   "id": "60c7ed77",
   "metadata": {},
   "outputs": [
    {
     "name": "stdout",
     "output_type": "stream",
     "text": [
      "frozenset({1, 2, 3, 'apple', 'grapes', 'orange'})\n",
      "frozenset({'banana', 'grapes', 'apple', 'orange'})\n",
      "False\n"
     ]
    }
   ],
   "source": [
    "print(m)\n",
    "print(n)\n",
    "l=m.issubset(n)\n",
    "print(l)"
   ]
  },
  {
   "cell_type": "code",
   "execution_count": 126,
   "id": "0f125c55",
   "metadata": {},
   "outputs": [
    {
     "name": "stdout",
     "output_type": "stream",
     "text": [
      "frozenset({1, 2, 3, 'apple', 'grapes', 'orange'})\n",
      "frozenset({'banana', 'grapes', 'apple', 'orange'})\n",
      "False\n"
     ]
    }
   ],
   "source": [
    "#6.issuperset\n",
    "\n",
    "print(m)\n",
    "print(n)\n",
    "l=n.issuperset(m)\n",
    "print(l)"
   ]
  },
  {
   "cell_type": "code",
   "execution_count": 127,
   "id": "3aee98d9",
   "metadata": {},
   "outputs": [
    {
     "name": "stdout",
     "output_type": "stream",
     "text": [
      "frozenset({1, 2, 3, 'apple', 'grapes', 'orange'})\n",
      "frozenset({'banana', 'grapes', 'apple', 'orange'})\n",
      "False\n"
     ]
    }
   ],
   "source": [
    "print(m)\n",
    "print(n)\n",
    "l=m.issubset(n)\n",
    "print(l)"
   ]
  },
  {
   "cell_type": "code",
   "execution_count": 134,
   "id": "52407122",
   "metadata": {},
   "outputs": [
    {
     "name": "stdout",
     "output_type": "stream",
     "text": [
      "{'banana', 'grapes', 'apple', 'orange'}\n",
      "<class 'set'>\n",
      "{1, 2, 3, 'apple', 'grapes', 'orange'}\n",
      "<class 'set'>\n",
      "frozenset({1, 2, 3, 'banana'})\n",
      "symmetric difference: frozenset({1, 2, 3, 'banana'})\n",
      "<class 'frozenset'>\n"
     ]
    }
   ],
   "source": [
    "#7.symmetric_difference\n",
    "\n",
    "#print(m)\n",
    "#print(n)\n",
    "d=set(n)\n",
    "print(d)\n",
    "print(type(d))\n",
    "\n",
    "e=set(m)\n",
    "print(e)\n",
    "print(type(e))\n",
    "\n",
    "l=d.symmetric_difference(e)\n",
    "\n",
    "fr = frozenset(l)\n",
    "print(fr)\n",
    "print(\"symmetric difference:\",fr)\n",
    "print(type(fr))"
   ]
  },
  {
   "cell_type": "code",
   "execution_count": 135,
   "id": "810b893a",
   "metadata": {},
   "outputs": [
    {
     "name": "stdout",
     "output_type": "stream",
     "text": [
      "frozenset({1, 2, 3, 'apple', 'grapes', 'orange'})\n",
      "frozenset({'banana', 'grapes', 'apple', 'orange'})\n",
      "frozenset({1, 2, 3, 'apple', 'grapes', 'orange', 'banana'})\n"
     ]
    }
   ],
   "source": [
    "#8.union\n",
    "print(m)\n",
    "print(n)\n",
    "k=m.union(n)\n",
    "print(k)"
   ]
  },
  {
   "cell_type": "code",
   "execution_count": null,
   "id": "d38dcf24",
   "metadata": {},
   "outputs": [],
   "source": []
  }
 ],
 "metadata": {
  "kernelspec": {
   "display_name": "Python 3",
   "language": "python",
   "name": "python3"
  },
  "language_info": {
   "codemirror_mode": {
    "name": "ipython",
    "version": 3
   },
   "file_extension": ".py",
   "mimetype": "text/x-python",
   "name": "python",
   "nbconvert_exporter": "python",
   "pygments_lexer": "ipython3",
   "version": "3.6.9"
  }
 },
 "nbformat": 4,
 "nbformat_minor": 5
}
