{
 "cells": [
  {
   "cell_type": "markdown",
   "id": "c4ac2dae",
   "metadata": {},
   "source": [
    "\n",
    "# Typecasting"
   ]
  },
  {
   "cell_type": "raw",
   "id": "1f7df32e",
   "metadata": {},
   "source": [
    "There are three numeric types in python\n",
    "1] int\n",
    "2] float\n",
    "3] complex"
   ]
  },
  {
   "cell_type": "code",
   "execution_count": 1,
   "id": "b362eb8f",
   "metadata": {},
   "outputs": [
    {
     "name": "stdout",
     "output_type": "stream",
     "text": [
      "int to string:\n",
      "10\n",
      "<class 'int'>\n",
      "10\n",
      "<class 'str'>\n",
      "float to string:\n",
      "20.4\n",
      "<class 'float'>\n",
      "20.4\n",
      "<class 'str'>\n"
     ]
    }
   ],
   "source": [
    "#print(\"int, float to string:\")\n",
    "\n",
    "\n",
    "print(\"int to string:\")\n",
    "a=10\n",
    "var=20.4\n",
    "print(a)\n",
    "print(type(a))\n",
    "var1=str(a)\n",
    "print(var1)\n",
    "print(type(var1))\n",
    "\n",
    "\n",
    "print(\"float to string:\")\n",
    "print(var)\n",
    "print(type(var))\n",
    "var2=str(var)\n",
    "print(var2)\n",
    "print(type(var2))\n"
   ]
  },
  {
   "cell_type": "code",
   "execution_count": 2,
   "id": "74988b7e",
   "metadata": {},
   "outputs": [
    {
     "name": "stdout",
     "output_type": "stream",
     "text": [
      "int to float:\n",
      "10\n",
      "<class 'int'>\n",
      "10.0\n",
      "<class 'float'>\n",
      "string to float:\n",
      "100.5\n",
      "<class 'str'>\n",
      "100.5\n",
      "<class 'float'>\n",
      "nitin\n",
      "<class 'str'>\n"
     ]
    },
    {
     "ename": "ValueError",
     "evalue": "could not convert string to float: 'nitin'",
     "output_type": "error",
     "traceback": [
      "\u001b[0;31m---------------------------------------------------------------------------\u001b[0m",
      "\u001b[0;31mValueError\u001b[0m                                Traceback (most recent call last)",
      "\u001b[0;32m<ipython-input-2-8a0ed3c29d45>\u001b[0m in \u001b[0;36m<module>\u001b[0;34m\u001b[0m\n\u001b[1;32m     23\u001b[0m \u001b[0mprint\u001b[0m\u001b[0;34m(\u001b[0m\u001b[0mstr2\u001b[0m\u001b[0;34m)\u001b[0m\u001b[0;34m\u001b[0m\u001b[0;34m\u001b[0m\u001b[0m\n\u001b[1;32m     24\u001b[0m \u001b[0mprint\u001b[0m\u001b[0;34m(\u001b[0m\u001b[0mtype\u001b[0m\u001b[0;34m(\u001b[0m\u001b[0mstr2\u001b[0m\u001b[0;34m)\u001b[0m\u001b[0;34m)\u001b[0m\u001b[0;34m\u001b[0m\u001b[0;34m\u001b[0m\u001b[0m\n\u001b[0;32m---> 25\u001b[0;31m \u001b[0mvar3\u001b[0m\u001b[0;34m=\u001b[0m\u001b[0mfloat\u001b[0m\u001b[0;34m(\u001b[0m\u001b[0mstr2\u001b[0m\u001b[0;34m)\u001b[0m\u001b[0;34m\u001b[0m\u001b[0;34m\u001b[0m\u001b[0m\n\u001b[0m\u001b[1;32m     26\u001b[0m \u001b[0mprint\u001b[0m\u001b[0;34m(\u001b[0m\u001b[0mvar3\u001b[0m\u001b[0;34m)\u001b[0m\u001b[0;34m\u001b[0m\u001b[0;34m\u001b[0m\u001b[0m\n\u001b[1;32m     27\u001b[0m \u001b[0mprint\u001b[0m\u001b[0;34m(\u001b[0m\u001b[0mtype\u001b[0m\u001b[0;34m(\u001b[0m\u001b[0mvar3\u001b[0m\u001b[0;34m)\u001b[0m\u001b[0;34m)\u001b[0m\u001b[0;34m\u001b[0m\u001b[0;34m\u001b[0m\u001b[0m\n",
      "\u001b[0;31mValueError\u001b[0m: could not convert string to float: 'nitin'"
     ]
    }
   ],
   "source": [
    "#print(\"int, string to float\")\n",
    "a=10\n",
    "str1=\"100.5\"\n",
    "str2=\"nitin\"\n",
    "\n",
    "print(\"int to float:\")\n",
    "\n",
    "\n",
    "print(a)\n",
    "print(type(a))\n",
    "var1=float(a)\n",
    "print(var1)\n",
    "print(type(var1))\n",
    "\n",
    "print(\"string to float:\")\n",
    "\n",
    "print(str1)\n",
    "print(type(str1))\n",
    "var2=float(str1)\n",
    "print(var2)\n",
    "print(type(var2))\n",
    "\n",
    "print(str2)\n",
    "print(type(str2))\n",
    "var3=float(str2)\n",
    "print(var3)\n",
    "print(type(var3))\n",
    "\n"
   ]
  },
  {
   "cell_type": "code",
   "execution_count": null,
   "id": "65a2ac13",
   "metadata": {},
   "outputs": [],
   "source": [
    "#print(\"float,string to int\")\n",
    "var=20.5\n",
    "str1=\"100\"\n",
    "str2=\"nitin\"\n",
    "\n",
    "print(\"float to int:\")\n",
    "print(var)\n",
    "print (type(var))\n",
    "var1=int(var)\n",
    "print(var1)\n",
    "print(type(var1))\n",
    "\n",
    "print(\"string to int:\")\n",
    "print(str1)\n",
    "print(type(str1))\n",
    "var2=int(str1)\n",
    "print(var2)\n",
    "print(type(var2))\n",
    "\n",
    "print(str2)\n",
    "print(type(str2))\n",
    "var3=int(str2)\n",
    "print(var3)\n",
    "print(type(var3))"
   ]
  },
  {
   "cell_type": "raw",
   "id": "7c70472e",
   "metadata": {},
   "source": []
  },
  {
   "cell_type": "raw",
   "id": "e5e2dc72",
   "metadata": {},
   "source": [
    "complex number"
   ]
  },
  {
   "cell_type": "code",
   "execution_count": null,
   "id": "813b291e",
   "metadata": {},
   "outputs": [],
   "source": [
    "print(\"complex to string:\")\n",
    "comp=3+5j\n",
    "print(comp)\n",
    "print(type(comp))\n",
    "var=str(comp)\n",
    "print(var)\n",
    "print(type(var))\n"
   ]
  },
  {
   "cell_type": "raw",
   "id": "84e708c3",
   "metadata": {},
   "source": [
    "Now we do string to complex"
   ]
  },
  {
   "cell_type": "code",
   "execution_count": null,
   "id": "e9652307",
   "metadata": {},
   "outputs": [],
   "source": [
    "str1=\"3+5j\"\n",
    "str2=\"nitin\"\n",
    "print(str1)\n",
    "print(type(str1))\n",
    "var1=complex(str1)\n",
    "print(var1)\n",
    "print(type(var1))\n",
    "\n",
    "print(str2)\n",
    "print(type(str2))\n",
    "var2=complex(str2)\n",
    "print(var2)\n",
    "print(type(var2))"
   ]
  },
  {
   "cell_type": "markdown",
   "id": "517567e2",
   "metadata": {},
   "source": [
    "# Other types to complex conersion"
   ]
  },
  {
   "cell_type": "code",
   "execution_count": null,
   "id": "7e99deb3",
   "metadata": {},
   "outputs": [],
   "source": [
    "var=20\n",
    "print(var)\n",
    "print(type(var))\n",
    "var1=complex(var)\n",
    "print(var1)\n",
    "print(type(var1))\n",
    "\n",
    "\n",
    "var2=10.5\n",
    "print(var2)\n",
    "print(type(var2))\n",
    "var3=complex(var2)\n",
    "print(var3)\n",
    "print(type(var3))\n",
    "\n",
    "\n",
    "\n",
    "var4=\"20.6\"\n",
    "print(complex(var4))\n",
    "\n",
    "\n"
   ]
  },
  {
   "cell_type": "code",
   "execution_count": null,
   "id": "924d18ee",
   "metadata": {},
   "outputs": [],
   "source": [
    "print(complex(5,2))\n",
    "print(complex(20.5,4))\n",
    "\n",
    "print(complex(True,False))"
   ]
  },
  {
   "cell_type": "markdown",
   "id": "e2b7ec93",
   "metadata": {},
   "source": [
    "# Boolean\n"
   ]
  },
  {
   "cell_type": "raw",
   "id": "2c494b6d",
   "metadata": {},
   "source": [
    "Bool()"
   ]
  },
  {
   "cell_type": "code",
   "execution_count": null,
   "id": "7822b1ae",
   "metadata": {},
   "outputs": [],
   "source": [
    "print(int(True))"
   ]
  },
  {
   "cell_type": "code",
   "execution_count": 3,
   "id": "15226f0c",
   "metadata": {},
   "outputs": [
    {
     "name": "stdout",
     "output_type": "stream",
     "text": [
      "0\n"
     ]
    }
   ],
   "source": [
    "print(int(False))"
   ]
  },
  {
   "cell_type": "code",
   "execution_count": 4,
   "id": "b62c3f78",
   "metadata": {},
   "outputs": [
    {
     "name": "stdout",
     "output_type": "stream",
     "text": [
      "1.0\n"
     ]
    }
   ],
   "source": [
    "print(float(True))"
   ]
  },
  {
   "cell_type": "code",
   "execution_count": 5,
   "id": "74064543",
   "metadata": {},
   "outputs": [
    {
     "name": "stdout",
     "output_type": "stream",
     "text": [
      "0.0\n"
     ]
    }
   ],
   "source": [
    "print(float(False))\n"
   ]
  },
  {
   "cell_type": "code",
   "execution_count": 6,
   "id": "0cf27c42",
   "metadata": {},
   "outputs": [
    {
     "name": "stdout",
     "output_type": "stream",
     "text": [
      "(1+0j)\n"
     ]
    }
   ],
   "source": [
    "print(complex(True))"
   ]
  },
  {
   "cell_type": "code",
   "execution_count": 7,
   "id": "037c76dd",
   "metadata": {},
   "outputs": [
    {
     "name": "stdout",
     "output_type": "stream",
     "text": [
      "0j\n",
      "0j\n"
     ]
    }
   ],
   "source": [
    "print(complex(False))\n",
    "\n",
    "a=0+0j\n",
    "print(a)"
   ]
  },
  {
   "cell_type": "code",
   "execution_count": 8,
   "id": "aff49a12",
   "metadata": {},
   "outputs": [
    {
     "name": "stdout",
     "output_type": "stream",
     "text": [
      "True\n"
     ]
    }
   ],
   "source": [
    "print(str(True))"
   ]
  },
  {
   "cell_type": "code",
   "execution_count": 9,
   "id": "7381f57e",
   "metadata": {},
   "outputs": [
    {
     "name": "stdout",
     "output_type": "stream",
     "text": [
      "False\n"
     ]
    }
   ],
   "source": [
    "print(str(False))"
   ]
  },
  {
   "cell_type": "code",
   "execution_count": 10,
   "id": "0cff1453",
   "metadata": {},
   "outputs": [
    {
     "name": "stdout",
     "output_type": "stream",
     "text": [
      "True\n",
      "False\n"
     ]
    }
   ],
   "source": [
    "print(bool(3.2))\n",
    "print(bool(0.0))"
   ]
  },
  {
   "cell_type": "code",
   "execution_count": 11,
   "id": "7a17c540",
   "metadata": {},
   "outputs": [
    {
     "name": "stdout",
     "output_type": "stream",
     "text": [
      "True\n",
      "False\n"
     ]
    }
   ],
   "source": [
    "print(bool(1))\n",
    "print(bool(0))"
   ]
  },
  {
   "cell_type": "code",
   "execution_count": 12,
   "id": "d591eaa5",
   "metadata": {},
   "outputs": [
    {
     "name": "stdout",
     "output_type": "stream",
     "text": [
      "False\n",
      "False\n",
      "True\n",
      "True\n"
     ]
    }
   ],
   "source": [
    "print(bool(\"\"))\n",
    "print(bool())\n",
    "print(bool(45))\n",
    "print (bool(\"n\"))"
   ]
  },
  {
   "cell_type": "code",
   "execution_count": 13,
   "id": "003da2c3",
   "metadata": {},
   "outputs": [
    {
     "name": "stdout",
     "output_type": "stream",
     "text": [
      "True\n",
      "True\n",
      "True\n",
      "False\n"
     ]
    }
   ],
   "source": [
    "print(bool(2+3j))\n",
    "print(bool(2+0j))\n",
    "print(bool(0+3j))\n",
    "print (bool(0+0j))"
   ]
  },
  {
   "cell_type": "markdown",
   "id": "7e6f4d92",
   "metadata": {},
   "source": [
    "# String Slicing"
   ]
  },
  {
   "cell_type": "markdown",
   "id": "ab232f74",
   "metadata": {},
   "source": [
    "#Slicing is making pieces of some separator\n",
    "\n",
    "#[] is a slice operator\n"
   ]
  },
  {
   "cell_type": "code",
   "execution_count": 14,
   "id": "81f832cb",
   "metadata": {},
   "outputs": [
    {
     "data": {
      "text/plain": [
       "'T'"
      ]
     },
     "execution_count": 14,
     "metadata": {},
     "output_type": "execute_result"
    }
   ],
   "source": [
    "str1=\"This tutorial is basically designed for beginers\"\n",
    "\n",
    "str1[0]"
   ]
  },
  {
   "cell_type": "code",
   "execution_count": 15,
   "id": "e5874985",
   "metadata": {},
   "outputs": [
    {
     "data": {
      "text/plain": [
       "'a'"
      ]
     },
     "execution_count": 15,
     "metadata": {},
     "output_type": "execute_result"
    }
   ],
   "source": [
    "str1[11]"
   ]
  },
  {
   "cell_type": "code",
   "execution_count": 16,
   "id": "116c3b2f",
   "metadata": {},
   "outputs": [
    {
     "data": {
      "text/plain": [
       "'This tutorial is basically designed for beginers'"
      ]
     },
     "execution_count": 16,
     "metadata": {},
     "output_type": "execute_result"
    }
   ],
   "source": [
    "str1[0:]"
   ]
  },
  {
   "cell_type": "code",
   "execution_count": 17,
   "id": "962b8362",
   "metadata": {},
   "outputs": [
    {
     "data": {
      "text/plain": [
       "''"
      ]
     },
     "execution_count": 17,
     "metadata": {},
     "output_type": "execute_result"
    }
   ],
   "source": [
    "str1[:0]"
   ]
  },
  {
   "cell_type": "code",
   "execution_count": 18,
   "id": "f54473a3",
   "metadata": {},
   "outputs": [
    {
     "data": {
      "text/plain": [
       "' tutorial i'"
      ]
     },
     "execution_count": 18,
     "metadata": {},
     "output_type": "execute_result"
    }
   ],
   "source": [
    "str1[4:15]"
   ]
  },
  {
   "cell_type": "code",
   "execution_count": 19,
   "id": "b359af46",
   "metadata": {},
   "outputs": [
    {
     "data": {
      "text/plain": [
       "'This tutorial is basically designed for beginers'"
      ]
     },
     "execution_count": 19,
     "metadata": {},
     "output_type": "execute_result"
    }
   ],
   "source": [
    "str1"
   ]
  },
  {
   "cell_type": "code",
   "execution_count": 20,
   "id": "10e80748",
   "metadata": {},
   "outputs": [
    {
     "data": {
      "text/plain": [
       "'This tutorial is basicall'"
      ]
     },
     "execution_count": 20,
     "metadata": {},
     "output_type": "execute_result"
    }
   ],
   "source": [
    "str1[:25]"
   ]
  },
  {
   "cell_type": "code",
   "execution_count": 21,
   "id": "3646388a",
   "metadata": {},
   "outputs": [
    {
     "data": {
      "text/plain": [
       "str"
      ]
     },
     "execution_count": 21,
     "metadata": {},
     "output_type": "execute_result"
    }
   ],
   "source": [
    "type(str1)"
   ]
  },
  {
   "cell_type": "code",
   "execution_count": 22,
   "id": "c87ca4ed",
   "metadata": {},
   "outputs": [
    {
     "data": {
      "text/plain": [
       "'s'"
      ]
     },
     "execution_count": 22,
     "metadata": {},
     "output_type": "execute_result"
    }
   ],
   "source": [
    "str1[-1]"
   ]
  },
  {
   "cell_type": "code",
   "execution_count": 23,
   "id": "a2ca3a5f",
   "metadata": {},
   "outputs": [
    {
     "data": {
      "text/plain": [
       "'signed for beginers'"
      ]
     },
     "execution_count": 23,
     "metadata": {},
     "output_type": "execute_result"
    }
   ],
   "source": [
    "str1[-19:]"
   ]
  },
  {
   "cell_type": "code",
   "execution_count": 24,
   "id": "69dd2abd",
   "metadata": {},
   "outputs": [
    {
     "data": {
      "text/plain": [
       "' for begine'"
      ]
     },
     "execution_count": 24,
     "metadata": {},
     "output_type": "execute_result"
    }
   ],
   "source": [
    "str1[-13:-2]"
   ]
  },
  {
   "cell_type": "code",
   "execution_count": 25,
   "id": "e5d9652d",
   "metadata": {},
   "outputs": [
    {
     "data": {
      "text/plain": [
       "'s'"
      ]
     },
     "execution_count": 25,
     "metadata": {},
     "output_type": "execute_result"
    }
   ],
   "source": [
    "str1[-1:]"
   ]
  },
  {
   "cell_type": "code",
   "execution_count": 26,
   "id": "aa1c28e6",
   "metadata": {},
   "outputs": [
    {
     "data": {
      "text/plain": [
       "'This tutorial This tutorial This tutorial '"
      ]
     },
     "execution_count": 26,
     "metadata": {},
     "output_type": "execute_result"
    }
   ],
   "source": [
    "str3=str1[:14]\n",
    "str3*3"
   ]
  },
  {
   "cell_type": "code",
   "execution_count": 27,
   "id": "3b0591f9",
   "metadata": {},
   "outputs": [
    {
     "data": {
      "text/plain": [
       "'This tutorial is basically designed for beginer'"
      ]
     },
     "execution_count": 27,
     "metadata": {},
     "output_type": "execute_result"
    }
   ],
   "source": [
    "str1[:-1]"
   ]
  },
  {
   "cell_type": "code",
   "execution_count": 28,
   "id": "7a53d555",
   "metadata": {},
   "outputs": [
    {
     "data": {
      "text/plain": [
       "'This tutorial is basically desig'"
      ]
     },
     "execution_count": 28,
     "metadata": {},
     "output_type": "execute_result"
    }
   ],
   "source": [
    "str1[:-16]"
   ]
  },
  {
   "cell_type": "code",
   "execution_count": 29,
   "id": "81605d92",
   "metadata": {},
   "outputs": [
    {
     "data": {
      "text/plain": [
       "'This tutorial is basically dThis tutorial is basically dThis tutorial is basically d'"
      ]
     },
     "execution_count": 29,
     "metadata": {},
     "output_type": "execute_result"
    }
   ],
   "source": [
    "str3=str1[:-20]\n",
    "str3*3"
   ]
  },
  {
   "cell_type": "code",
   "execution_count": 30,
   "id": "8cac1058",
   "metadata": {},
   "outputs": [
    {
     "data": {
      "text/plain": [
       "'l is basically designed for beginersl is basically designed for beginersl is basically designed for beginers'"
      ]
     },
     "execution_count": 30,
     "metadata": {},
     "output_type": "execute_result"
    }
   ],
   "source": [
    "str3=str1[12:]\n",
    "str3*3"
   ]
  },
  {
   "cell_type": "code",
   "execution_count": 31,
   "id": "f4707c4d",
   "metadata": {},
   "outputs": [
    {
     "data": {
      "text/plain": [
       "'is tutorial is basicais tutorial is basica'"
      ]
     },
     "execution_count": 31,
     "metadata": {},
     "output_type": "execute_result"
    }
   ],
   "source": [
    "str4=str1[2:23]\n",
    "str4*2"
   ]
  },
  {
   "cell_type": "markdown",
   "id": "6f8a3791",
   "metadata": {},
   "source": [
    "# Immutability\n",
    "\n",
    "\n"
   ]
  },
  {
   "cell_type": "markdown",
   "id": "d028bdb6",
   "metadata": {},
   "source": [
    "#In python once an object is created ,we are not allowed to change\n",
    "\n",
    "#The content,if you want to change  the content PVM will create a new object for it "
   ]
  },
  {
   "cell_type": "code",
   "execution_count": 32,
   "id": "31274abf",
   "metadata": {},
   "outputs": [
    {
     "name": "stdout",
     "output_type": "stream",
     "text": [
      "10920864\n",
      "and \n",
      " 10920864\n",
      "True\n"
     ]
    }
   ],
   "source": [
    "var=200\n",
    "var1=var\n",
    "print(id(var))\n",
    "print(\"and \\n\",id(var1))\n",
    "print(var is var1)\n"
   ]
  },
  {
   "cell_type": "code",
   "execution_count": 33,
   "id": "d9caf9ed",
   "metadata": {},
   "outputs": [
    {
     "name": "stdout",
     "output_type": "stream",
     "text": [
      "False\n",
      "140374980278640\n",
      "and \n",
      " 140374980278448\n"
     ]
    }
   ],
   "source": [
    "var= 2+3j\n",
    "var1=2+3j\n",
    "print(var is var1)\n",
    "print(id(var))\n",
    "print(\"and \\n\",id(var1))  #id is different\n"
   ]
  },
  {
   "cell_type": "raw",
   "id": "a44d30e1",
   "metadata": {},
   "source": [
    "assignment :Try same string and boolean types"
   ]
  },
  {
   "cell_type": "code",
   "execution_count": 34,
   "id": "909e1385",
   "metadata": {},
   "outputs": [
    {
     "name": "stdout",
     "output_type": "stream",
     "text": [
      "140375041668464\n",
      "and \n",
      " 140375041668464\n",
      "True\n"
     ]
    }
   ],
   "source": [
    "#for string\n",
    "\n",
    "\n",
    "var=\"nitin\"\n",
    "var1=var\n",
    "print(id(var))\n",
    "print(\"and \\n\",id(var1))\n",
    "print(var is var1)"
   ]
  },
  {
   "cell_type": "code",
   "execution_count": 35,
   "id": "a3efd646",
   "metadata": {},
   "outputs": [
    {
     "name": "stdout",
     "output_type": "stream",
     "text": [
      "True\n",
      "140374971508248\n",
      "and \n",
      " 140374971508248\n"
     ]
    }
   ],
   "source": [
    "var=\"khot\"\n",
    "var1=\"khot\"\n",
    "print(var is var1)\n",
    "print(id(var))\n",
    "print(\"and \\n\",id(var1))\n"
   ]
  },
  {
   "cell_type": "code",
   "execution_count": 36,
   "id": "b5c37880",
   "metadata": {},
   "outputs": [
    {
     "name": "stdout",
     "output_type": "stream",
     "text": [
      "True\n",
      "10302848\n",
      "and \n",
      " 10302848\n"
     ]
    }
   ],
   "source": [
    "#for boolean\n",
    "\n",
    "var=True\n",
    "var1=var\n",
    "print(var is var1)\n",
    "print(id(var))\n",
    "print(\"and \\n\",id(var1))\n"
   ]
  },
  {
   "cell_type": "code",
   "execution_count": 37,
   "id": "307a3305",
   "metadata": {},
   "outputs": [
    {
     "name": "stdout",
     "output_type": "stream",
     "text": [
      "True\n",
      "10302848\n",
      "and \n",
      " 10302848\n"
     ]
    }
   ],
   "source": [
    "var=True\n",
    "var1=True\n",
    "print(var is var1)\n",
    "print(id(var))\n",
    "print(\"and \\n\",id(var1))\n"
   ]
  },
  {
   "cell_type": "code",
   "execution_count": 38,
   "id": "b5af7ebd",
   "metadata": {},
   "outputs": [
    {
     "name": "stdout",
     "output_type": "stream",
     "text": [
      "False\n",
      "10302848\n",
      "and \n",
      " 10300256\n"
     ]
    }
   ],
   "source": [
    "var=True\n",
    "var1=False\n",
    "print(var is var1)\n",
    "print(id(var))\n",
    "print(\"and \\n\",id(var1))\n"
   ]
  },
  {
   "cell_type": "code",
   "execution_count": 39,
   "id": "fc18e034",
   "metadata": {},
   "outputs": [
    {
     "name": "stdout",
     "output_type": "stream",
     "text": [
      "True\n",
      "10300256\n",
      "and \n",
      " 10300256\n"
     ]
    }
   ],
   "source": [
    "var=False\n",
    "var1=False\n",
    "print(var is var1)\n",
    "print(id(var))\n",
    "print(\"and \\n\",id(var1))\n"
   ]
  },
  {
   "cell_type": "markdown",
   "id": "6962d1d2",
   "metadata": {},
   "source": [
    "# Bytes and Bytearray Data Type"
   ]
  },
  {
   "cell_type": "code",
   "execution_count": 40,
   "id": "938a8bca",
   "metadata": {},
   "outputs": [
    {
     "name": "stdout",
     "output_type": "stream",
     "text": [
      "<class 'list'>\n",
      "<class 'bytes'>\n",
      "10\n",
      "20\n",
      "30\n",
      "40\n",
      "50\n",
      "60\n",
      "70\n",
      "80\n"
     ]
    }
   ],
   "source": [
    "#bytes can hold the values  from 0 to 256\n",
    "#You cant change the value of bytes once itis created\n",
    "\n",
    "\n",
    "a = [10,20,30,40,50,60,70,80]\n",
    "print(type(a))\n",
    "\n",
    "b = bytes(a)  #b[2]=90\n",
    "              #it will raise error\n",
    "             #bytes object doe not support item assignment\n",
    "\n",
    "print(type(b))\n",
    "\n",
    "for i in b:\n",
    "    print(i)\n"
   ]
  },
  {
   "cell_type": "code",
   "execution_count": 41,
   "id": "707b499b",
   "metadata": {},
   "outputs": [
    {
     "name": "stdout",
     "output_type": "stream",
     "text": [
      "<class 'list'>\n",
      "<class 'bytearray'>\n",
      "10\n",
      "20\n",
      "30\n",
      "40\n",
      "50\n",
      "New List:\n",
      "10\n",
      "20\n",
      "200\n",
      "40\n",
      "50\n",
      "This is Difference\n"
     ]
    }
   ],
   "source": [
    "#Bytearray\n",
    "#You can change the value of bytearray after creation also \n",
    "\n",
    "\n",
    "a=[10,20,30,40,50]\n",
    "print (type(a))\n",
    "\n",
    "b = bytearray(a)\n",
    "\n",
    "print(type(b))\n",
    "for i in b:\n",
    "        print(i)\n",
    "        \n",
    "b[2]= 200\n",
    "print(\"New List:\")\n",
    "for i in b:\n",
    "    print(i)\n",
    "print(\"This is Difference\")    \n"
   ]
  },
  {
   "cell_type": "markdown",
   "id": "c5df9292",
   "metadata": {},
   "source": [
    "# Data Types"
   ]
  },
  {
   "cell_type": "raw",
   "id": "f0a1a09e",
   "metadata": {},
   "source": [
    "Text type = str\n",
    "Numeric types = int,float,complex\n",
    "Sequence types = list, tuple,range\n",
    "Mapping type = dict\n",
    "Set types = set, frozenset\n",
    "Boolean type = bool\n",
    "Binary types = bytes bytearray,memoryview"
   ]
  },
  {
   "cell_type": "markdown",
   "id": "976b67f2",
   "metadata": {},
   "source": [
    "# 1.List"
   ]
  },
  {
   "cell_type": "code",
   "execution_count": 42,
   "id": "f40b6c31",
   "metadata": {
    "scrolled": true
   },
   "outputs": [
    {
     "name": "stdout",
     "output_type": "stream",
     "text": [
      "[10, 20, 30, 40, 50]\n",
      "[10.1, 20.2, 30.3, 40.4, 50.5]\n",
      "['Nitin', 'Rahul', 'Datta', 'Ajay']\n",
      "[20, 10.1, 'Nitin']\n"
     ]
    }
   ],
   "source": [
    "#Example\n",
    "\n",
    "list1 = [10,20,30,40,50]\n",
    "list2 = [10.1,20.2,30.3,40.4,50.5]\n",
    "list3 = ['Nitin','Rahul','Datta','Ajay']\n",
    "list4 = [20,10.1,'Nitin']\n",
    "\n",
    "print(list1)\n",
    "print(list2)\n",
    "print(list3)\n",
    "print(list4)\n",
    "\n"
   ]
  },
  {
   "cell_type": "code",
   "execution_count": 43,
   "id": "5cfc6d1f",
   "metadata": {},
   "outputs": [
    {
     "name": "stdout",
     "output_type": "stream",
     "text": [
      "<class 'list'>\n"
     ]
    }
   ],
   "source": [
    "print(type(list1))"
   ]
  },
  {
   "cell_type": "code",
   "execution_count": 44,
   "id": "fa711370",
   "metadata": {},
   "outputs": [
    {
     "name": "stdout",
     "output_type": "stream",
     "text": [
      "30\n",
      "10.1\n",
      "Nitin\n",
      "[10, 20, 30, 40, 50]\n",
      "[10.1, 20.2, 30.3, 40.4, 50.5]\n",
      "['Nitin', 'Rahul', 'Datta', 'Ajay']\n",
      "[20, 10.1, 'Nitin']\n"
     ]
    }
   ],
   "source": [
    "print(list1[2])\n",
    "print(list2[0])\n",
    "print(list3[0])\n",
    "print(list1)\n",
    "print(list2)\n",
    "print(list3)\n",
    "print(list4)"
   ]
  },
  {
   "cell_type": "code",
   "execution_count": 45,
   "id": "6f4b1194",
   "metadata": {},
   "outputs": [
    {
     "data": {
      "text/plain": [
       "[10, 20, 30, 40]"
      ]
     },
     "execution_count": 45,
     "metadata": {},
     "output_type": "execute_result"
    }
   ],
   "source": [
    "list1[0:4]"
   ]
  },
  {
   "cell_type": "code",
   "execution_count": 46,
   "id": "1a082fc4",
   "metadata": {},
   "outputs": [
    {
     "data": {
      "text/plain": [
       "[10.1, 20.2]"
      ]
     },
     "execution_count": 46,
     "metadata": {},
     "output_type": "execute_result"
    }
   ],
   "source": [
    "list2[:-3]"
   ]
  },
  {
   "cell_type": "code",
   "execution_count": 47,
   "id": "1f0b0676",
   "metadata": {},
   "outputs": [
    {
     "name": "stdout",
     "output_type": "stream",
     "text": [
      "length of list1\n",
      "5\n"
     ]
    }
   ],
   "source": [
    "print(\"length of list1\")\n",
    "print(len(list1))"
   ]
  },
  {
   "cell_type": "code",
   "execution_count": 48,
   "id": "54603cbc",
   "metadata": {},
   "outputs": [
    {
     "name": "stdout",
     "output_type": "stream",
     "text": [
      "[10, 20, 30, 40, 50]\n",
      "[10, 20, 30, 40, 50, 'Nitin']\n"
     ]
    }
   ],
   "source": [
    "print(list1)\n",
    "list1.append('Nitin')\n",
    "print(list1)"
   ]
  },
  {
   "cell_type": "code",
   "execution_count": 49,
   "id": "11452955",
   "metadata": {},
   "outputs": [
    {
     "name": "stdout",
     "output_type": "stream",
     "text": [
      "[10, 20, 30, 40, 50, 'Nitin']\n",
      "[10, 20, 30, 40, 50]\n"
     ]
    }
   ],
   "source": [
    "print(list1)\n",
    "list1.remove('Nitin')\n",
    "print(list1)"
   ]
  },
  {
   "cell_type": "code",
   "execution_count": 50,
   "id": "6b841d96",
   "metadata": {},
   "outputs": [
    {
     "name": "stdout",
     "output_type": "stream",
     "text": [
      "[10, 20, 30, 40, 50]\n",
      "[10, 30, 40, 50]\n"
     ]
    }
   ],
   "source": [
    "print(list1)\n",
    "list1.remove(20)\n",
    "print(list1)"
   ]
  },
  {
   "cell_type": "raw",
   "id": "587e20dd",
   "metadata": {},
   "source": [
    "#assignment\n",
    "1.append\n",
    "2.copy \n",
    "3.count \n",
    "4.insert \n",
    "5.index \n",
    "6.pop \n",
    "7.remove \n",
    "8.reverse \n",
    "9.extend\n",
    "10.sort \n",
    "11.clear\n"
   ]
  },
  {
   "cell_type": "code",
   "execution_count": 51,
   "id": "f14892c2",
   "metadata": {},
   "outputs": [
    {
     "name": "stdout",
     "output_type": "stream",
     "text": [
      "[10, 20, 30, 40, 50]\n",
      "[10, 20, 30, 40, 50, 60]\n"
     ]
    }
   ],
   "source": [
    "list1 = [10,20,30,40,50]\n",
    "\n",
    "#append\n",
    "\n",
    "print(list1)\n",
    "list1.append(60)\n",
    "print(list1)"
   ]
  },
  {
   "cell_type": "code",
   "execution_count": 52,
   "id": "31072b30",
   "metadata": {},
   "outputs": [
    {
     "name": "stdout",
     "output_type": "stream",
     "text": [
      "[10, 20, 30, 40, 50, 60]\n",
      "[10, 20, 30, 40, 50, 60]\n"
     ]
    }
   ],
   "source": [
    "#copy\n",
    "\n",
    "print(list1)\n",
    "list1.copy \n",
    "print(list1)"
   ]
  },
  {
   "cell_type": "code",
   "execution_count": 53,
   "id": "7a36f1e7",
   "metadata": {},
   "outputs": [
    {
     "name": "stdout",
     "output_type": "stream",
     "text": [
      "[10, 20, 30, 40, 50, 60]\n",
      "1\n"
     ]
    }
   ],
   "source": [
    "#count\n",
    "\n",
    "print(list1)\n",
    "cnt=list1.count(20)\n",
    "print(cnt)\n"
   ]
  },
  {
   "cell_type": "code",
   "execution_count": 54,
   "id": "cc4a609c",
   "metadata": {},
   "outputs": [
    {
     "name": "stdout",
     "output_type": "stream",
     "text": [
      "[10, 20, 30, 40, 50, 60]\n",
      "[10, 20, 30, 55, 40, 50, 60]\n"
     ]
    }
   ],
   "source": [
    "#insert\n",
    "\n",
    "print(list1)\n",
    "list1.insert(3,55)\n",
    "print(list1)"
   ]
  },
  {
   "cell_type": "code",
   "execution_count": 55,
   "id": "b032ed6e",
   "metadata": {},
   "outputs": [
    {
     "name": "stdout",
     "output_type": "stream",
     "text": [
      "[10, 20, 30, 55, 40, 50, 60]\n",
      "2\n"
     ]
    }
   ],
   "source": [
    "#index\n",
    "\n",
    "print(list1)\n",
    "loc = list1.index(30)\n",
    "print(loc)"
   ]
  },
  {
   "cell_type": "code",
   "execution_count": 56,
   "id": "34af88eb",
   "metadata": {},
   "outputs": [
    {
     "name": "stdout",
     "output_type": "stream",
     "text": [
      "[10, 20, 30, 55, 40, 50, 60]\n",
      "[10, 20, 55, 40, 50, 60]\n"
     ]
    }
   ],
   "source": [
    "#pop\n",
    "\n",
    "print(list1)\n",
    "list1.pop(2)\n",
    "print(list1)\n",
    "\n"
   ]
  },
  {
   "cell_type": "code",
   "execution_count": 57,
   "id": "576d672b",
   "metadata": {},
   "outputs": [
    {
     "name": "stdout",
     "output_type": "stream",
     "text": [
      "[10, 20, 55, 40, 50, 60]\n",
      "[10, 20, 55, 40, 60]\n"
     ]
    }
   ],
   "source": [
    "#remove\n",
    "\n",
    "print(list1)\n",
    "list1.remove(50)\n",
    "print(list1)"
   ]
  },
  {
   "cell_type": "code",
   "execution_count": 58,
   "id": "e382678b",
   "metadata": {},
   "outputs": [
    {
     "name": "stdout",
     "output_type": "stream",
     "text": [
      "[10, 20, 55, 40, 60]\n",
      "[60, 40, 55, 20, 10]\n"
     ]
    }
   ],
   "source": [
    "#reverse\n",
    "\n",
    "print(list1)\n",
    "list1.reverse()\n",
    "print(list1)"
   ]
  },
  {
   "cell_type": "code",
   "execution_count": 59,
   "id": "78689edd",
   "metadata": {},
   "outputs": [
    {
     "name": "stdout",
     "output_type": "stream",
     "text": [
      "[60, 40, 55, 20, 10]\n",
      "[10, 20, 40, 55, 60]\n"
     ]
    }
   ],
   "source": [
    "#sort\n",
    "\n",
    "print(list1)\n",
    "list1.sort()\n",
    "print(list1)"
   ]
  },
  {
   "cell_type": "code",
   "execution_count": 60,
   "id": "3ae0bf72",
   "metadata": {},
   "outputs": [
    {
     "name": "stdout",
     "output_type": "stream",
     "text": [
      "[10, 20, 40, 55, 60]\n",
      "[10, 20, 40, 55, 60, 100]\n"
     ]
    }
   ],
   "source": [
    "#extend\n",
    "\n",
    "print(list1)\n",
    "l=[100]\n",
    "list1.extend(l)\n",
    "print(list1)"
   ]
  },
  {
   "cell_type": "code",
   "execution_count": 61,
   "id": "7cc8ad35",
   "metadata": {},
   "outputs": [
    {
     "name": "stdout",
     "output_type": "stream",
     "text": [
      "[10, 20, 40, 55, 60, 100]\n",
      "[]\n"
     ]
    }
   ],
   "source": [
    "#clear\n",
    "\n",
    "print(list1)\n",
    "list1.clear()\n",
    "print(list1)"
   ]
  },
  {
   "cell_type": "code",
   "execution_count": 62,
   "id": "54800579",
   "metadata": {},
   "outputs": [],
   "source": [
    "list2 = [10.4,50.4,30.6,20.5,40.1]   #Float"
   ]
  },
  {
   "cell_type": "code",
   "execution_count": 63,
   "id": "515164aa",
   "metadata": {},
   "outputs": [
    {
     "name": "stdout",
     "output_type": "stream",
     "text": [
      "[10.4, 50.4, 30.6, 20.5, 40.1]\n",
      "[10.4, 50.4, 30.6, 20.5, 40.1, 60.7]\n"
     ]
    }
   ],
   "source": [
    "#append\n",
    "\n",
    "print(list2)\n",
    "list2.append(60.7)\n",
    "print(list2)"
   ]
  },
  {
   "cell_type": "code",
   "execution_count": 64,
   "id": "d2f5c684",
   "metadata": {},
   "outputs": [
    {
     "name": "stdout",
     "output_type": "stream",
     "text": [
      "[10.4, 50.4, 30.6, 20.5, 40.1, 60.7]\n",
      "[10.4, 50.4, 30.6, 20.5, 40.1, 60.7]\n"
     ]
    }
   ],
   "source": [
    "#copy\n",
    "\n",
    "print(list2)\n",
    "list2.copy\n",
    "print(list2)"
   ]
  },
  {
   "cell_type": "code",
   "execution_count": 65,
   "id": "e78049bb",
   "metadata": {},
   "outputs": [
    {
     "name": "stdout",
     "output_type": "stream",
     "text": [
      "[10.4, 50.4, 30.6, 20.5, 40.1, 60.7]\n",
      "1\n"
     ]
    }
   ],
   "source": [
    "#count\n",
    "\n",
    "print(list2)\n",
    "list2.count(20.5)\n",
    "print(list2.count(20.5))"
   ]
  },
  {
   "cell_type": "code",
   "execution_count": 66,
   "id": "2e072005",
   "metadata": {},
   "outputs": [
    {
     "name": "stdout",
     "output_type": "stream",
     "text": [
      "[10.4, 50.4, 30.6, 20.5, 40.1, 60.7]\n",
      "[10.4, 50.4, 30.6, 34.4, 20.5, 40.1, 60.7]\n"
     ]
    }
   ],
   "source": [
    "#insert\n",
    "\n",
    "print(list2)\n",
    "list2.insert(3,34.4)\n",
    "print(list2)"
   ]
  },
  {
   "cell_type": "code",
   "execution_count": 67,
   "id": "45d3514d",
   "metadata": {},
   "outputs": [
    {
     "name": "stdout",
     "output_type": "stream",
     "text": [
      "[10.4, 50.4, 30.6, 34.4, 20.5, 40.1, 60.7]\n",
      "3\n"
     ]
    }
   ],
   "source": [
    "#index\n",
    "\n",
    "print(list2)\n",
    "loc=list2.index(34.4)\n",
    "print(loc)"
   ]
  },
  {
   "cell_type": "code",
   "execution_count": 68,
   "id": "0c7910e3",
   "metadata": {},
   "outputs": [
    {
     "name": "stdout",
     "output_type": "stream",
     "text": [
      "[10.4, 50.4, 30.6, 34.4, 20.5, 40.1, 60.7]\n",
      "[10.4, 50.4, 30.6, 20.5, 40.1, 60.7]\n"
     ]
    }
   ],
   "source": [
    "#pop\n",
    "\n",
    "\n",
    "print(list2)\n",
    "list2.pop(3)\n",
    "print(list2)"
   ]
  },
  {
   "cell_type": "code",
   "execution_count": 69,
   "id": "af6eba73",
   "metadata": {},
   "outputs": [
    {
     "name": "stdout",
     "output_type": "stream",
     "text": [
      "[10.4, 50.4, 30.6, 20.5, 40.1, 60.7]\n",
      "[10.4, 50.4, 30.6, 20.5, 60.7]\n"
     ]
    }
   ],
   "source": [
    "#remove\n",
    "\n",
    "print(list2)\n",
    "list2.remove(40.1)\n",
    "print(list2)"
   ]
  },
  {
   "cell_type": "code",
   "execution_count": 70,
   "id": "592715c1",
   "metadata": {},
   "outputs": [
    {
     "name": "stdout",
     "output_type": "stream",
     "text": [
      "[10.4, 50.4, 30.6, 20.5, 60.7]\n",
      "[60.7, 20.5, 30.6, 50.4, 10.4]\n"
     ]
    }
   ],
   "source": [
    "#reverse\n",
    "\n",
    "print(list2)\n",
    "list2.reverse()\n",
    "print(list2)"
   ]
  },
  {
   "cell_type": "code",
   "execution_count": 71,
   "id": "3925c60b",
   "metadata": {},
   "outputs": [
    {
     "name": "stdout",
     "output_type": "stream",
     "text": [
      "[60.7, 20.5, 30.6, 50.4, 10.4]\n",
      "[10.4, 20.5, 30.6, 50.4, 60.7]\n"
     ]
    }
   ],
   "source": [
    "#sort\n",
    "\n",
    "print(list2)\n",
    "list2.sort()  #ascending order\n",
    "print(list2)"
   ]
  },
  {
   "cell_type": "code",
   "execution_count": 72,
   "id": "fe38302e",
   "metadata": {},
   "outputs": [
    {
     "name": "stdout",
     "output_type": "stream",
     "text": [
      "[10.4, 20.5, 30.6, 50.4, 60.7]\n",
      "[60.7, 50.4, 30.6, 20.5, 10.4]\n"
     ]
    }
   ],
   "source": [
    "print(list2)\n",
    "list2.sort(reverse=True) #descnding order\n",
    "print(list2)"
   ]
  },
  {
   "cell_type": "code",
   "execution_count": 73,
   "id": "3faba862",
   "metadata": {},
   "outputs": [
    {
     "name": "stdout",
     "output_type": "stream",
     "text": [
      "[60.7, 50.4, 30.6, 20.5, 10.4]\n",
      "[60.7, 50.4, 30.6, 20.5, 10.4, 60.7, 50.4, 30.6, 20.5, 10.4]\n"
     ]
    }
   ],
   "source": [
    "#Extend\n",
    "\n",
    "\n",
    "print(list2)\n",
    "list2.extend(list2)\n",
    "print(list2)\n"
   ]
  },
  {
   "cell_type": "code",
   "execution_count": 74,
   "id": "76d742bc",
   "metadata": {},
   "outputs": [],
   "source": [
    "#print(list2)\n",
    "#list2.extend(7) #'int' object is not iterable\n",
    "                #here list,tuple,string are the iterable\n",
    "#print(list2)"
   ]
  },
  {
   "cell_type": "code",
   "execution_count": 75,
   "id": "f6962e2e",
   "metadata": {},
   "outputs": [
    {
     "name": "stdout",
     "output_type": "stream",
     "text": [
      "[60.7, 50.4, 30.6, 20.5, 10.4, 60.7, 50.4, 30.6, 20.5, 10.4]\n",
      "[60.7, 50.4, 30.6, 20.5, 10.4, 60.7, 50.4, 30.6, 20.5, 10.4]\n"
     ]
    }
   ],
   "source": [
    "#Clear\n",
    "\n",
    "print(list2)\n",
    "list2.clear  \n",
    "print(list2)"
   ]
  },
  {
   "cell_type": "code",
   "execution_count": 76,
   "id": "1fab1257",
   "metadata": {},
   "outputs": [],
   "source": [
    "list3 = ['Nitin', 'Rahul', 'Datta', 'Ajay']\n"
   ]
  },
  {
   "cell_type": "code",
   "execution_count": 77,
   "id": "f20819af",
   "metadata": {},
   "outputs": [
    {
     "name": "stdout",
     "output_type": "stream",
     "text": [
      "['Nitin', 'Rahul', 'Datta', 'Ajay']\n",
      "['Nitin', 'Rahul', 'Datta', 'Ajay', 'Nitin']\n"
     ]
    }
   ],
   "source": [
    "#append\n",
    "\n",
    "print(list3)\n",
    "list3.append('Nitin')  \n",
    "print(list3)"
   ]
  },
  {
   "cell_type": "code",
   "execution_count": 78,
   "id": "21a6fa24",
   "metadata": {},
   "outputs": [
    {
     "name": "stdout",
     "output_type": "stream",
     "text": [
      "['Nitin', 'Rahul', 'Datta', 'Ajay', 'Nitin']\n",
      "['Nitin', 'Rahul', 'Datta', 'Ajay', 'Nitin']\n"
     ]
    }
   ],
   "source": [
    "#copy\n",
    "\n",
    "\n",
    "print(list3)\n",
    "list3.copy\n",
    "print(list3)"
   ]
  },
  {
   "cell_type": "code",
   "execution_count": 79,
   "id": "26ca51d4",
   "metadata": {},
   "outputs": [
    {
     "name": "stdout",
     "output_type": "stream",
     "text": [
      "['Nitin', 'Rahul', 'Datta', 'Ajay', 'Nitin']\n",
      "2\n"
     ]
    }
   ],
   "source": [
    "#count\n",
    "\n",
    "print(list3)\n",
    "count=list3.count('Nitin')\n",
    "print(count)"
   ]
  },
  {
   "cell_type": "code",
   "execution_count": 80,
   "id": "03040162",
   "metadata": {},
   "outputs": [
    {
     "name": "stdout",
     "output_type": "stream",
     "text": [
      "['Nitin', 'Rahul', 'Datta', 'Ajay', 'Nitin']\n",
      "['Nitin', 'Rahul', 'Sagar', 'Datta', 'Ajay', 'Nitin']\n"
     ]
    }
   ],
   "source": [
    "#insert\n",
    "\n",
    "print(list3)\n",
    "list3.insert(2,'Sagar')  \n",
    "print(list3)"
   ]
  },
  {
   "cell_type": "code",
   "execution_count": 81,
   "id": "600cbd95",
   "metadata": {},
   "outputs": [
    {
     "name": "stdout",
     "output_type": "stream",
     "text": [
      "['Nitin', 'Rahul', 'Sagar', 'Datta', 'Ajay', 'Nitin']\n",
      "5\n"
     ]
    }
   ],
   "source": [
    "#index\n",
    "\n",
    "print(list3)\n",
    "loc=list3.index('Nitin',2) \n",
    "print(loc)"
   ]
  },
  {
   "cell_type": "code",
   "execution_count": 82,
   "id": "e91bdd98",
   "metadata": {},
   "outputs": [
    {
     "name": "stdout",
     "output_type": "stream",
     "text": [
      "['Nitin', 'Rahul', 'Sagar', 'Datta', 'Ajay', 'Nitin']\n",
      "['Nitin', 'Rahul', 'Sagar', 'Datta', 'Ajay']\n"
     ]
    }
   ],
   "source": [
    "#pop\n",
    "\n",
    "print(list3)\n",
    "list3.pop(5)\n",
    "print(list3)"
   ]
  },
  {
   "cell_type": "code",
   "execution_count": 83,
   "id": "d12920aa",
   "metadata": {},
   "outputs": [
    {
     "name": "stdout",
     "output_type": "stream",
     "text": [
      "['Nitin', 'Rahul', 'Sagar', 'Datta', 'Ajay']\n",
      "['Nitin', 'Rahul', 'Sagar', 'Datta']\n"
     ]
    }
   ],
   "source": [
    "#remove\n",
    "\n",
    "print(list3)\n",
    "list3.remove('Ajay')\n",
    "print(list3)"
   ]
  },
  {
   "cell_type": "code",
   "execution_count": 84,
   "id": "b3cd5532",
   "metadata": {},
   "outputs": [
    {
     "name": "stdout",
     "output_type": "stream",
     "text": [
      "['Nitin', 'Rahul', 'Sagar', 'Datta']\n",
      "['Datta', 'Sagar', 'Rahul', 'Nitin']\n"
     ]
    }
   ],
   "source": [
    "#reverse\n",
    "\n",
    "print(list3)\n",
    "list3.reverse()\n",
    "print(list3)"
   ]
  },
  {
   "cell_type": "code",
   "execution_count": 85,
   "id": "a73a4a87",
   "metadata": {},
   "outputs": [
    {
     "name": "stdout",
     "output_type": "stream",
     "text": [
      "['Datta', 'Sagar', 'Rahul', 'Nitin']\n",
      "['Datta', 'Nitin', 'Rahul', 'Sagar']\n"
     ]
    }
   ],
   "source": [
    "#sort\n",
    "\n",
    "print(list3)\n",
    "list3.sort() #ascending \n",
    "print(list3)"
   ]
  },
  {
   "cell_type": "code",
   "execution_count": 86,
   "id": "ffacfc2b",
   "metadata": {},
   "outputs": [
    {
     "name": "stdout",
     "output_type": "stream",
     "text": [
      "['Datta', 'Nitin', 'Rahul', 'Sagar']\n",
      "['Sagar', 'Rahul', 'Nitin', 'Datta']\n"
     ]
    }
   ],
   "source": [
    "#print(list3)\n",
    "print(list3)\n",
    "list3.sort(reverse=True)\n",
    "print(list3)"
   ]
  },
  {
   "cell_type": "code",
   "execution_count": 87,
   "id": "234f87e8",
   "metadata": {},
   "outputs": [
    {
     "name": "stdout",
     "output_type": "stream",
     "text": [
      "['Sagar', 'Rahul', 'Nitin', 'Datta']\n",
      "['Sagar', 'Rahul', 'Nitin', 'Datta', 'a']\n"
     ]
    }
   ],
   "source": [
    "#Extend\n",
    "\n",
    "print(list3)\n",
    "list3.extend(\"a\")\n",
    "print(list3)"
   ]
  },
  {
   "cell_type": "code",
   "execution_count": 88,
   "id": "6366ea61",
   "metadata": {},
   "outputs": [
    {
     "name": "stdout",
     "output_type": "stream",
     "text": [
      "['Sagar', 'Rahul', 'Nitin', 'Datta', 'a']\n",
      "[]\n"
     ]
    }
   ],
   "source": [
    "#clear\n",
    "\n",
    "print(list3)\n",
    "list3.clear()\n",
    "print(list3)"
   ]
  },
  {
   "cell_type": "markdown",
   "id": "fb7ae2a4",
   "metadata": {},
   "source": [
    "# 2 Tuple"
   ]
  },
  {
   "cell_type": "raw",
   "id": "b12ae5a7",
   "metadata": {},
   "source": [
    "1.Tuple is ordered and unchangable\n",
    "2.Immutable (you cant change the elements or cant added in tuple)\n",
    "3.()are used to represent the tuple\n",
    "4.Allow Duplicates\n",
    "5.Tuples are read only version of your list except list is growable"
   ]
  },
  {
   "cell_type": "code",
   "execution_count": 89,
   "id": "db6fb00f",
   "metadata": {},
   "outputs": [
    {
     "name": "stdout",
     "output_type": "stream",
     "text": [
      "('blue', 'red', 'green', 'yellow', 'black', 'white')\n"
     ]
    }
   ],
   "source": [
    "tup = (\"blue\",\"red\",\"green\",\"yellow\",\"black\",\"white\")\n",
    "\n",
    "print(tup)"
   ]
  },
  {
   "cell_type": "code",
   "execution_count": 90,
   "id": "5703ddd4",
   "metadata": {},
   "outputs": [
    {
     "data": {
      "text/plain": [
       "6"
      ]
     },
     "execution_count": 90,
     "metadata": {},
     "output_type": "execute_result"
    }
   ],
   "source": [
    "len(tup)"
   ]
  },
  {
   "cell_type": "code",
   "execution_count": 91,
   "id": "6faaf7fb",
   "metadata": {},
   "outputs": [
    {
     "name": "stdout",
     "output_type": "stream",
     "text": [
      "<class 'str'>\n",
      "<class 'tuple'>\n"
     ]
    }
   ],
   "source": [
    "tup1 = (\"blue\")\n",
    "print(type(tup1))\n",
    "\n",
    "tup1 = (\"blue\",)\n",
    "print(type(tup1))"
   ]
  },
  {
   "cell_type": "code",
   "execution_count": 92,
   "id": "b5b2ff4e",
   "metadata": {},
   "outputs": [
    {
     "name": "stdout",
     "output_type": "stream",
     "text": [
      "('potato', 10, 'n', 45)\n"
     ]
    }
   ],
   "source": [
    "tup2 = (\"potato\",10,\"n\",45)\n",
    "print(tup2)"
   ]
  },
  {
   "cell_type": "code",
   "execution_count": 93,
   "id": "135cca2c",
   "metadata": {},
   "outputs": [
    {
     "name": "stdout",
     "output_type": "stream",
     "text": [
      "(10, 20, 30)\n"
     ]
    }
   ],
   "source": [
    "tup3 =tuple((10,20,30))  #tuple () is constructor\n",
    "print(tup3)"
   ]
  },
  {
   "cell_type": "code",
   "execution_count": 94,
   "id": "4e101619",
   "metadata": {},
   "outputs": [
    {
     "name": "stdout",
     "output_type": "stream",
     "text": [
      "('blue', 'red', 'green', 'yellow', 'black', 'white')\n"
     ]
    },
    {
     "data": {
      "text/plain": [
       "'red'"
      ]
     },
     "execution_count": 94,
     "metadata": {},
     "output_type": "execute_result"
    }
   ],
   "source": [
    "#access\n",
    "print(tup)\n",
    "tup[1]"
   ]
  },
  {
   "cell_type": "code",
   "execution_count": 95,
   "id": "3c6d100b",
   "metadata": {},
   "outputs": [
    {
     "name": "stdout",
     "output_type": "stream",
     "text": [
      "('blue', 'red', 'green', 'yellow', 'black', 'white')\n"
     ]
    },
    {
     "data": {
      "text/plain": [
       "'yellow'"
      ]
     },
     "execution_count": 95,
     "metadata": {},
     "output_type": "execute_result"
    }
   ],
   "source": [
    "print(tup)\n",
    "tup[-3]"
   ]
  },
  {
   "cell_type": "code",
   "execution_count": 96,
   "id": "4db3e8c4",
   "metadata": {},
   "outputs": [
    {
     "data": {
      "text/plain": [
       "('red', 'green', 'yellow')"
      ]
     },
     "execution_count": 96,
     "metadata": {},
     "output_type": "execute_result"
    }
   ],
   "source": [
    "#range of items\n",
    "tup[1:4]"
   ]
  },
  {
   "cell_type": "code",
   "execution_count": 97,
   "id": "83f7c1c9",
   "metadata": {},
   "outputs": [
    {
     "name": "stdout",
     "output_type": "stream",
     "text": [
      "('blue', 'red', 'green', 'yellow', 'black', 'white')\n",
      "<class 'tuple'>\n",
      "['blue', 'red', 'green', 'yellow', 'black', 'white']\n",
      "<class 'list'>\n",
      "['blue', 'red', 'orange', 'yellow', 'black', 'white']\n",
      "<class 'tuple'>\n",
      "('blue', 'red', 'orange', 'yellow', 'black', 'white')\n"
     ]
    }
   ],
   "source": [
    "#Change tuple vlue using list\n",
    "print(tup)\n",
    "print(type(tup))\n",
    "var=list(tup)\n",
    "print(var)\n",
    "print(type(var))\n",
    "\n",
    "#change value\n",
    "\n",
    "var[2]='orange'\n",
    "print(var)\n",
    "\n",
    "#convert back to tuple\n",
    "\n",
    "tup= tuple(var)\n",
    "print(type(tup))\n",
    "print(tup)"
   ]
  },
  {
   "cell_type": "code",
   "execution_count": 98,
   "id": "b4914ec5",
   "metadata": {},
   "outputs": [
    {
     "name": "stdout",
     "output_type": "stream",
     "text": [
      "('blue', 'red', 'orange', 'yellow', 'black', 'white')\n",
      "<class 'tuple'>\n",
      "['blue', 'red', 'orange', 'yellow', 'black', 'white']\n",
      "<class 'list'>\n",
      "['blue', 'red', 'orange', 'pink', 'yellow', 'black', 'white']\n",
      "<class 'tuple'>\n",
      "('blue', 'red', 'orange', 'pink', 'yellow', 'black', 'white')\n"
     ]
    }
   ],
   "source": [
    "#add items\n",
    "\n",
    "print(tup)\n",
    "print(type(tup))\n",
    "var=list(tup)\n",
    "print(var)\n",
    "print(type(var))\n",
    "\n",
    "var.insert(3,'pink')\n",
    "\n",
    "print(var)\n",
    "\n",
    "#convert back to tuple\n",
    "\n",
    "tup= tuple(var)\n",
    "print(type(tup))\n",
    "print(tup)"
   ]
  },
  {
   "cell_type": "code",
   "execution_count": 99,
   "id": "e441b1aa",
   "metadata": {},
   "outputs": [
    {
     "name": "stdout",
     "output_type": "stream",
     "text": [
      "(10, 20, 30)\n",
      "('d', 'b', 'c')\n",
      "The concat is : (10, 20, 30, 'd', 'b', 'c')\n"
     ]
    }
   ],
   "source": [
    "#tuple concat +\n",
    "a_tup3 = (10,20,30)\n",
    "a_tup4 = ('d','b','c')\n",
    "print(a_tup3)\n",
    "print(a_tup4)\n",
    "#concat\n",
    "\n",
    "var1 = a_tup3 + a_tup4\n",
    "\n",
    "print(\"The concat is :\",var1)"
   ]
  },
  {
   "cell_type": "code",
   "execution_count": 100,
   "id": "8e487993",
   "metadata": {},
   "outputs": [
    {
     "name": "stdout",
     "output_type": "stream",
     "text": [
      "('blue', 'red', 'orange', 'pink', 'yellow', 'black', 'white')\n",
      "<class 'tuple'>\n",
      "<class 'list'>\n",
      "['blue', 'red', 'orange', 'pink', 'yellow', 'black', 'white']\n",
      "('blue', 'red', 'orange', 'yellow', 'black', 'white')\n",
      "<class 'tuple'>\n"
     ]
    }
   ],
   "source": [
    "#remove items using list\n",
    "\n",
    "print(tup)\n",
    "print(type(tup))\n",
    "\n",
    "var = list(tup)\n",
    "print(type(var))\n",
    "print(var)\n",
    "\n",
    "var.remove('pink')\n",
    "\n",
    "tup= tuple(var)\n",
    "print(tup)\n",
    "print(type(tup))"
   ]
  },
  {
   "cell_type": "code",
   "execution_count": 101,
   "id": "5fce1f58",
   "metadata": {},
   "outputs": [
    {
     "name": "stdout",
     "output_type": "stream",
     "text": [
      "('a', 'b', 'c', 'd')\n"
     ]
    },
    {
     "ename": "NameError",
     "evalue": "name 'tup5' is not defined",
     "output_type": "error",
     "traceback": [
      "\u001b[0;31m---------------------------------------------------------------------------\u001b[0m",
      "\u001b[0;31mNameError\u001b[0m                                 Traceback (most recent call last)",
      "\u001b[0;32m<ipython-input-101-3d750afd51b3>\u001b[0m in \u001b[0;36m<module>\u001b[0;34m\u001b[0m\n\u001b[1;32m      4\u001b[0m \u001b[0mprint\u001b[0m\u001b[0;34m(\u001b[0m\u001b[0mtup5\u001b[0m\u001b[0;34m)\u001b[0m\u001b[0;34m\u001b[0m\u001b[0;34m\u001b[0m\u001b[0m\n\u001b[1;32m      5\u001b[0m \u001b[0;32mdel\u001b[0m \u001b[0mtup5\u001b[0m      \u001b[0;31m#here delete complete tuple\u001b[0m\u001b[0;34m\u001b[0m\u001b[0;34m\u001b[0m\u001b[0m\n\u001b[0;32m----> 6\u001b[0;31m \u001b[0mprint\u001b[0m\u001b[0;34m(\u001b[0m\u001b[0mtup5\u001b[0m\u001b[0;34m)\u001b[0m  \u001b[0;31m# name 'tup5' is not defined\u001b[0m\u001b[0;34m\u001b[0m\u001b[0;34m\u001b[0m\u001b[0m\n\u001b[0m",
      "\u001b[0;31mNameError\u001b[0m: name 'tup5' is not defined"
     ]
    }
   ],
   "source": [
    "#complete deletion of tuple using del tuple_name\n",
    "\n",
    "tup5 = ('a','b','c','d')\n",
    "print(tup5)\n",
    "del tup5      #here delete complete tuple\n",
    "print(tup5)  # name 'tup5' is not defined"
   ]
  },
  {
   "cell_type": "code",
   "execution_count": 102,
   "id": "1cf4d1f6",
   "metadata": {},
   "outputs": [
    {
     "name": "stdout",
     "output_type": "stream",
     "text": [
      "blue\n",
      "['red', 'orange', 'yellow', 'black']\n",
      "white\n"
     ]
    }
   ],
   "source": [
    "#use asterisk\n",
    "\n",
    "colours = ('blue', 'red', 'orange', 'yellow', 'black', 'white')\n",
    "\n",
    "(apple,*banana,mango) = colours\n",
    "\n",
    "print(apple)\n",
    "print(banana)\n",
    "print(mango)"
   ]
  },
  {
   "cell_type": "code",
   "execution_count": 103,
   "id": "b2b59298",
   "metadata": {},
   "outputs": [
    {
     "name": "stdout",
     "output_type": "stream",
     "text": [
      "blue\n",
      "red\n",
      "['orange', 'yellow', 'black', 'white']\n"
     ]
    }
   ],
   "source": [
    "colours = ('blue', 'red', 'orange', 'yellow', 'black', 'white')\n",
    "\n",
    "(apple,banana,*mango) = colours\n",
    "\n",
    "print(apple)\n",
    "print(banana)\n",
    "print(mango)"
   ]
  },
  {
   "cell_type": "code",
   "execution_count": 104,
   "id": "788fc729",
   "metadata": {},
   "outputs": [
    {
     "name": "stdout",
     "output_type": "stream",
     "text": [
      "('blue', 'red', 'orange', 'yellow', 'black', 'white')\n",
      "1\n"
     ]
    }
   ],
   "source": [
    "#count() and index()\n",
    "print(tup)\n",
    "cnt=tup.count('red')\n",
    "print(cnt)"
   ]
  },
  {
   "cell_type": "code",
   "execution_count": 105,
   "id": "8dcced3d",
   "metadata": {},
   "outputs": [
    {
     "name": "stdout",
     "output_type": "stream",
     "text": [
      "('blue', 'red', 'orange', 'yellow', 'black', 'white')\n",
      "3\n"
     ]
    }
   ],
   "source": [
    "print(tup)\n",
    "loc = tup.index('yellow')\n",
    "print(loc)"
   ]
  },
  {
   "cell_type": "markdown",
   "id": "412d223f",
   "metadata": {},
   "source": [
    "# 3 Set"
   ]
  },
  {
   "cell_type": "raw",
   "id": "9b8e4c59",
   "metadata": {},
   "source": [
    "1.Set is unordered collection of elements\n",
    "2.It is mutable\n",
    "3.It is growable\n",
    "4.set items are unchangeable\n",
    "5.{}are used represent set\n",
    "6.Index concept is not applicable\n",
    "7.duplicates are not allowed\n"
   ]
  },
  {
   "cell_type": "code",
   "execution_count": 106,
   "id": "f7cce99e",
   "metadata": {},
   "outputs": [
    {
     "name": "stdout",
     "output_type": "stream",
     "text": [
      "{1, 2, 'pear', 'nitin'}\n"
     ]
    }
   ],
   "source": [
    "s = {1,2,\"nitin\",\"pear\"}\n",
    "print(s)"
   ]
  },
  {
   "cell_type": "code",
   "execution_count": 107,
   "id": "ccf9bd58",
   "metadata": {},
   "outputs": [
    {
     "name": "stdout",
     "output_type": "stream",
     "text": [
      "4\n"
     ]
    }
   ],
   "source": [
    "print(len(s))"
   ]
  },
  {
   "cell_type": "code",
   "execution_count": 108,
   "id": "f2f8fbc9",
   "metadata": {},
   "outputs": [
    {
     "name": "stdout",
     "output_type": "stream",
     "text": [
      "{'green', 'blue', 'red'}\n",
      "<class 'set'>\n"
     ]
    }
   ],
   "source": [
    "#set() constructor\n",
    "set1 = set((\"red\",\"blue\",\"green\"))\n",
    "print(set1)\n",
    "print(type(set1))"
   ]
  },
  {
   "cell_type": "code",
   "execution_count": 109,
   "id": "0402a8a5",
   "metadata": {},
   "outputs": [
    {
     "name": "stdout",
     "output_type": "stream",
     "text": [
      "False\n",
      "True\n"
     ]
    }
   ],
   "source": [
    "#accessing set\n",
    "\n",
    "var = \"red\" in s\n",
    "\n",
    "print(var)\n",
    "\n",
    "print(1 in s)"
   ]
  },
  {
   "cell_type": "code",
   "execution_count": 110,
   "id": "abbac69b",
   "metadata": {},
   "outputs": [
    {
     "name": "stdout",
     "output_type": "stream",
     "text": [
      "{'green', 'blue', 'red'}\n",
      "{1, 'green', 'blue', 'red'}\n"
     ]
    }
   ],
   "source": [
    "#once st is created you cant change elements value\n",
    "#but you can add the values\n",
    "\n",
    "print(set1)\n",
    "set1.add(1)\n",
    "print(set1)"
   ]
  },
  {
   "cell_type": "code",
   "execution_count": 111,
   "id": "518e629f",
   "metadata": {},
   "outputs": [
    {
     "name": "stdout",
     "output_type": "stream",
     "text": [
      "{'apple', 'banana', 'mango'}\n",
      "(10, 20, 30)\n",
      "{'apple', 1, 'banana', 'green', 'mango', 'red', 'blue'}\n",
      "{1, 10, 20, 'mango', 30, 'banana', 'green', 'blue', 'apple', 'red'}\n"
     ]
    }
   ],
   "source": [
    "#using update you can add any iterable items like set, list, tuple, dict-keys\n",
    "set2 = {\"apple\",\"banana\",\"mango\"}\n",
    "print(set2)\n",
    "tup = (10,20,30)\n",
    "print(tup)\n",
    "set1.update(set2)\n",
    "print(set1)\n",
    "set1.update(tup)\n",
    "print(set1)"
   ]
  },
  {
   "cell_type": "code",
   "execution_count": 112,
   "id": "ea7cc997",
   "metadata": {},
   "outputs": [
    {
     "name": "stdout",
     "output_type": "stream",
     "text": [
      "Remove using remove:\n",
      " {1, 10, 20, 'mango', 30, 'banana', 'green', 'blue', 'apple', 'red'}\n",
      "{1, 10, 20, 'mango', 30, 'banana', 'green', 'apple', 'red'}\n",
      "Remove using discard:\n",
      " {1, 10, 20, 'mango', 30, 'banana', 'green', 'apple', 'red'}\n",
      "{10, 20, 'mango', 30, 'banana', 'green', 'apple', 'red'}\n",
      "Remove using pop:\n",
      " {10, 20, 'mango', 30, 'banana', 'green', 'apple', 'red'}\n",
      "{20, 'mango', 30, 'banana', 'green', 'apple', 'red'}\n"
     ]
    }
   ],
   "source": [
    "#remove(),  discard(), pop()\n",
    "\n",
    "print(\"Remove using remove:\\n\",set1)\n",
    "set1.remove(\"blue\")\n",
    "print(set1)\n",
    "\n",
    "print(\"Remove using discard:\\n\",set1)\n",
    "set1.discard(1)\n",
    "print(set1)\n",
    "\n",
    "print(\"Remove using pop:\\n\",set1)\n",
    "set1.pop()\n",
    "print(set1)"
   ]
  },
  {
   "cell_type": "code",
   "execution_count": null,
   "id": "fae89208",
   "metadata": {},
   "outputs": [],
   "source": []
  },
  {
   "cell_type": "code",
   "execution_count": 113,
   "id": "2368cef9",
   "metadata": {},
   "outputs": [
    {
     "name": "stdout",
     "output_type": "stream",
     "text": [
      "{1, 2, 'pear', 'nitin'}\n",
      "\n",
      "{1, 2, 'banana', 'green', 'pear', 'apple', 20, 'mango', 'red', 'nitin', 30}\n"
     ]
    }
   ],
   "source": [
    "#union\n",
    "\n",
    "#adds elements of two sets and create new sets\n",
    "\n",
    "print(s)\n",
    "print()\n",
    "s = s.union(set1)\n",
    "print(s)"
   ]
  },
  {
   "cell_type": "code",
   "execution_count": 114,
   "id": "0a54769d",
   "metadata": {},
   "outputs": [
    {
     "name": "stdout",
     "output_type": "stream",
     "text": [
      "{1, 2, 'banana', 'green', 'pear', 'apple', 20, 'mango', 'red', 'nitin', 30}\n",
      "{20, 'mango', 30, 'banana', 'green', 'apple', 'red'}\n",
      "intersection is: {'banana', 'green', 'apple', 20, 'mango', 'red', 30}\n",
      "intersection update  : {'banana', 'green', 'apple', 20, 'mango', 'red', 30}\n"
     ]
    }
   ],
   "source": [
    "#intersection\n",
    "\n",
    "print(s)\n",
    "print(set1)\n",
    "i = s.intersection(set1)\n",
    "print(\"intersection is:\",i)\n",
    "\n",
    "#keeps duplicates in set1\n",
    "s.intersection_update(set1)\n",
    "print(\"intersection update  :\",s)"
   ]
  },
  {
   "cell_type": "code",
   "execution_count": 115,
   "id": "7959ecd9",
   "metadata": {},
   "outputs": [
    {
     "name": "stdout",
     "output_type": "stream",
     "text": [
      "{'banana', 'green', 'apple', 20, 'mango', 'red', 30}\n",
      "{20, 'mango', 30, 'banana', 'green', 'apple', 'red'}\n",
      "symmetric difference update is : set()\n",
      "symmetric difference: {1, 2, 6, 7}\n",
      " difference: {1, 2}\n"
     ]
    }
   ],
   "source": [
    "#keeps elements which are not present in other set\n",
    "\n",
    "s_1 = {1,2,3,4,5}\n",
    "s_2 = {3,4,5,6,7}\n",
    "\n",
    "\n",
    "print(s)\n",
    "print(set1)\n",
    "s.symmetric_difference_update(set1)\n",
    "print(\"symmetric difference update is :\",s)\n",
    "\n",
    "\n",
    "k = s_1.symmetric_difference(s_2)\n",
    "\n",
    "v=s_1.difference(s_2)\n",
    "print('symmetric difference:',k)\n",
    "print(' difference:',v)\n",
    "\n"
   ]
  },
  {
   "cell_type": "code",
   "execution_count": 116,
   "id": "3d9cd418",
   "metadata": {},
   "outputs": [
    {
     "name": "stdout",
     "output_type": "stream",
     "text": [
      "True\n",
      "True\n",
      "True\n"
     ]
    }
   ],
   "source": [
    "#isdisjoint()returns whether two sets are intersection or not\n",
    "#issubset()returns whether another set contains this set are not\n",
    "#issuperset()returns whether this set contains another set are not\n",
    "\n",
    "print(s.isdisjoint(set1))\n",
    "print(s.issubset(set1))\n",
    "print(set1.issuperset(s))\n",
    "\n"
   ]
  },
  {
   "cell_type": "code",
   "execution_count": 117,
   "id": "e0957acd",
   "metadata": {},
   "outputs": [],
   "source": [
    "#del and clear() method removes the set comletely"
   ]
  },
  {
   "cell_type": "markdown",
   "id": "42477246",
   "metadata": {},
   "source": [
    "# 4 Frozenset"
   ]
  },
  {
   "cell_type": "code",
   "execution_count": 118,
   "id": "01003069",
   "metadata": {},
   "outputs": [
    {
     "name": "stdout",
     "output_type": "stream",
     "text": [
      "<class 'frozenset'>\n",
      "frozenset({'apple', 1, 2, 3, 'grapes', 'orange'})\n",
      "frozenset({'apple', 'banana', 'orange', 'grapes'})\n",
      "<class 'frozenset'>\n"
     ]
    }
   ],
   "source": [
    "#Frozenset set is same as set but it is immmutable\n",
    "\n",
    "\n",
    "set3 = {\"apple\",\"banana\",\"grapes\",\"orange\"}\n",
    "m = frozenset({1,2,3,\"apple\",\"grapes\",\"orange\"})\n",
    "\n",
    "print(type(m))\n",
    "\n",
    "print(m)\n",
    "\n",
    "\n",
    "#print(type(set3))\n",
    "n = frozenset(set3)\n",
    "print(n)\n",
    "print(type(n))\n",
    "\n",
    "\n",
    "\n"
   ]
  },
  {
   "cell_type": "code",
   "execution_count": 119,
   "id": "1d76e28a",
   "metadata": {},
   "outputs": [
    {
     "name": "stdout",
     "output_type": "stream",
     "text": [
      "frozenset({'apple', 'banana', 'orange', 'grapes'})\n",
      "<class 'frozenset'>\n",
      "frozenset({'apple', 'banana', 'orange', 'grapes'})\n"
     ]
    }
   ],
   "source": [
    "#supported methods for frozenset\n",
    "#1.copy()\n",
    "\n",
    "print(n)\n",
    "print(type(n))\n",
    "n.copy()\n",
    "print(n)\n"
   ]
  },
  {
   "cell_type": "code",
   "execution_count": 120,
   "id": "c353a9ec",
   "metadata": {},
   "outputs": [
    {
     "name": "stdout",
     "output_type": "stream",
     "text": [
      "frozenset({'apple', 'banana', 'orange', 'grapes'})\n",
      "frozenset({'apple', 1, 2, 3, 'grapes', 'orange'})\n",
      "difference is : frozenset({'banana'})\n"
     ]
    }
   ],
   "source": [
    "#2.difference\n",
    "\n",
    "print(n)\n",
    "print(m)\n",
    "p = n.difference(m)\n",
    "print(\"difference is :\",p)"
   ]
  },
  {
   "cell_type": "code",
   "execution_count": 121,
   "id": "0cc44422",
   "metadata": {},
   "outputs": [
    {
     "name": "stdout",
     "output_type": "stream",
     "text": [
      "{'apple', 'banana', 'orange', 'grapes'}\n",
      "<class 'set'>\n",
      "{'apple', 1, 2, 3, 'grapes', 'orange'}\n",
      "<class 'set'>\n",
      "frozenset({'apple', 'grapes', 'orange'})\n",
      "<class 'frozenset'>\n"
     ]
    }
   ],
   "source": [
    "#3.intersection\n",
    "\n",
    "#print(n)\n",
    "#print(m)\n",
    "d=set(n)\n",
    "print(d)\n",
    "print(type(d))\n",
    "\n",
    "e=set(m)\n",
    "print(e)\n",
    "print(type(e))\n",
    "b = d.intersection(e)\n",
    "fr = frozenset(b)\n",
    "print(fr)\n",
    "print(type(fr))"
   ]
  },
  {
   "cell_type": "code",
   "execution_count": 122,
   "id": "ee0789f1",
   "metadata": {},
   "outputs": [
    {
     "name": "stdout",
     "output_type": "stream",
     "text": [
      "frozenset({'apple', 1, 2, 3, 'grapes', 'orange'})\n",
      "frozenset({'apple', 'banana', 'orange', 'grapes'})\n",
      "False\n"
     ]
    }
   ],
   "source": [
    "#4.isdisjoint\n",
    "\n",
    "print(m)\n",
    "print(n)\n",
    "l=n.isdisjoint(m)\n",
    "print(l)"
   ]
  },
  {
   "cell_type": "code",
   "execution_count": 123,
   "id": "76d962a7",
   "metadata": {},
   "outputs": [
    {
     "name": "stdout",
     "output_type": "stream",
     "text": [
      "frozenset({'apple', 1, 2, 3, 'grapes', 'orange'})\n",
      "frozenset({'apple', 'banana', 'orange', 'grapes'})\n",
      "False\n"
     ]
    }
   ],
   "source": [
    "#5.issubset\n",
    "\n",
    "print(m)\n",
    "print(n)\n",
    "l=n.issubset(m)\n",
    "print(l)"
   ]
  },
  {
   "cell_type": "code",
   "execution_count": 124,
   "id": "60c7ed77",
   "metadata": {},
   "outputs": [
    {
     "name": "stdout",
     "output_type": "stream",
     "text": [
      "frozenset({'apple', 1, 2, 3, 'grapes', 'orange'})\n",
      "frozenset({'apple', 'banana', 'orange', 'grapes'})\n",
      "False\n"
     ]
    }
   ],
   "source": [
    "print(m)\n",
    "print(n)\n",
    "l=m.issubset(n)\n",
    "print(l)"
   ]
  },
  {
   "cell_type": "code",
   "execution_count": 125,
   "id": "0f125c55",
   "metadata": {},
   "outputs": [
    {
     "name": "stdout",
     "output_type": "stream",
     "text": [
      "frozenset({'apple', 1, 2, 3, 'grapes', 'orange'})\n",
      "frozenset({'apple', 'banana', 'orange', 'grapes'})\n",
      "False\n"
     ]
    }
   ],
   "source": [
    "#6.issuperset\n",
    "\n",
    "print(m)\n",
    "print(n)\n",
    "l=n.issuperset(m)\n",
    "print(l)"
   ]
  },
  {
   "cell_type": "code",
   "execution_count": 126,
   "id": "3aee98d9",
   "metadata": {},
   "outputs": [
    {
     "name": "stdout",
     "output_type": "stream",
     "text": [
      "frozenset({'apple', 1, 2, 3, 'grapes', 'orange'})\n",
      "frozenset({'apple', 'banana', 'orange', 'grapes'})\n",
      "False\n"
     ]
    }
   ],
   "source": [
    "print(m)\n",
    "print(n)\n",
    "l=m.issuperset(n)\n",
    "print(l)"
   ]
  },
  {
   "cell_type": "code",
   "execution_count": 127,
   "id": "52407122",
   "metadata": {},
   "outputs": [
    {
     "name": "stdout",
     "output_type": "stream",
     "text": [
      "{'apple', 'banana', 'orange', 'grapes'}\n",
      "<class 'set'>\n",
      "{'apple', 1, 2, 3, 'grapes', 'orange'}\n",
      "<class 'set'>\n",
      "frozenset({1, 2, 3, 'banana'})\n",
      "symmetric difference: frozenset({1, 2, 3, 'banana'})\n",
      "<class 'frozenset'>\n"
     ]
    }
   ],
   "source": [
    "#7.symmetric_difference\n",
    "\n",
    "#print(m)\n",
    "#print(n)\n",
    "d=set(n)\n",
    "print(d)\n",
    "print(type(d))\n",
    "\n",
    "e=set(m)\n",
    "print(e)\n",
    "print(type(e))\n",
    "\n",
    "l=d.symmetric_difference(e)\n",
    "\n",
    "fr = frozenset(l)\n",
    "print(fr)\n",
    "print(\"symmetric difference:\",fr)\n",
    "print(type(fr))"
   ]
  },
  {
   "cell_type": "code",
   "execution_count": 128,
   "id": "810b893a",
   "metadata": {},
   "outputs": [
    {
     "name": "stdout",
     "output_type": "stream",
     "text": [
      "frozenset({'apple', 1, 2, 3, 'grapes', 'orange'})\n",
      "frozenset({'apple', 'banana', 'orange', 'grapes'})\n",
      "frozenset({1, 2, 3, 'banana', 'grapes', 'orange', 'apple'})\n"
     ]
    }
   ],
   "source": [
    "#8.union\n",
    "print(m)\n",
    "print(n)\n",
    "k=m.union(n)\n",
    "print(k)"
   ]
  },
  {
   "cell_type": "markdown",
   "id": "a3cf89a9",
   "metadata": {},
   "source": [
    "\n",
    "# 5 Dictionary"
   ]
  },
  {
   "cell_type": "raw",
   "id": "4957e3f8",
   "metadata": {},
   "source": [
    "1. stores data in key value:value pair\n",
    "2.It is ordered,changeable and does not allow duplicates\n",
    "3.{} are used to write dictionaries\n",
    "4.Items are reffered using key\n",
    "5.from python version 3.7,dictionaries are ordered"
   ]
  },
  {
   "cell_type": "code",
   "execution_count": 129,
   "id": "9a4f9495",
   "metadata": {},
   "outputs": [
    {
     "name": "stdout",
     "output_type": "stream",
     "text": [
      "{'name': 'Nitin', 'mobile': 9503596355, 'address': 'jath', 'job': 'data', 'salary': 40000}\n"
     ]
    }
   ],
   "source": [
    "dict1 = {\n",
    "        'name' :'Nitin',\n",
    "        'mobile' : 9503596355,\n",
    "        'address' : 'jath',\n",
    "        'job' :'data',\n",
    "        'salary' : 40000\n",
    "}\n",
    "print(dict1)"
   ]
  },
  {
   "cell_type": "code",
   "execution_count": 130,
   "id": "636410fc",
   "metadata": {},
   "outputs": [
    {
     "name": "stdout",
     "output_type": "stream",
     "text": [
      "Nitin\n"
     ]
    }
   ],
   "source": [
    "print(dict1['name'])"
   ]
  },
  {
   "cell_type": "code",
   "execution_count": 131,
   "id": "2f15a534",
   "metadata": {},
   "outputs": [
    {
     "name": "stdout",
     "output_type": "stream",
     "text": [
      "5\n"
     ]
    }
   ],
   "source": [
    "print(len(dict1))"
   ]
  },
  {
   "cell_type": "code",
   "execution_count": 132,
   "id": "3d9a8260",
   "metadata": {},
   "outputs": [
    {
     "name": "stdout",
     "output_type": "stream",
     "text": [
      "<class 'dict'>\n"
     ]
    }
   ],
   "source": [
    "print(type(dict1))"
   ]
  },
  {
   "cell_type": "code",
   "execution_count": 133,
   "id": "c2c911cd",
   "metadata": {},
   "outputs": [
    {
     "name": "stdout",
     "output_type": "stream",
     "text": [
      "40000\n",
      "data\n"
     ]
    }
   ],
   "source": [
    "#accessing elements\n",
    "print(dict1['salary'])\n",
    "n = dict1.get('job')\n",
    "\n",
    "print(n)"
   ]
  },
  {
   "cell_type": "code",
   "execution_count": 134,
   "id": "0770d230",
   "metadata": {},
   "outputs": [
    {
     "name": "stdout",
     "output_type": "stream",
     "text": [
      "dict_keys(['name', 'mobile', 'address', 'job', 'salary'])\n"
     ]
    }
   ],
   "source": [
    "print(dict1.keys())"
   ]
  },
  {
   "cell_type": "code",
   "execution_count": 135,
   "id": "1602096e",
   "metadata": {},
   "outputs": [
    {
     "name": "stdout",
     "output_type": "stream",
     "text": [
      "dict_keys(['name', 'mobile', 'address', 'job', 'salary', 'c_address'])\n"
     ]
    }
   ],
   "source": [
    "#add new item\n",
    "dict1['c_address'] = 'pune'\n",
    "print(dict1.keys())"
   ]
  },
  {
   "cell_type": "code",
   "execution_count": 136,
   "id": "b86f1f4e",
   "metadata": {},
   "outputs": [
    {
     "name": "stdout",
     "output_type": "stream",
     "text": [
      "dict_values(['Nitin', 9503596355, 'jath', 'data', 40000, 'pune'])\n"
     ]
    }
   ],
   "source": [
    "#values\n",
    "print(dict1.values())"
   ]
  },
  {
   "cell_type": "code",
   "execution_count": 137,
   "id": "e52d2510",
   "metadata": {},
   "outputs": [
    {
     "name": "stdout",
     "output_type": "stream",
     "text": [
      "dict_items([('name', 'Nitin'), ('mobile', 9503596355), ('address', 'jath'), ('job', 'data'), ('salary', 40000), ('c_address', 'pune')])\n",
      "{'name': 'Nitin', 'mobile': 9503596355, 'address': 'jath', 'job': 'data', 'salary': 40000, 'c_address': 'pune'}\n"
     ]
    }
   ],
   "source": [
    "print(dict1.items())\n",
    "print(dict1)"
   ]
  },
  {
   "cell_type": "code",
   "execution_count": 138,
   "id": "a2f863a9",
   "metadata": {},
   "outputs": [
    {
     "name": "stdout",
     "output_type": "stream",
     "text": [
      "True\n"
     ]
    }
   ],
   "source": [
    "print('name' in dict1)"
   ]
  },
  {
   "cell_type": "code",
   "execution_count": 139,
   "id": "bf9e9342",
   "metadata": {},
   "outputs": [
    {
     "name": "stdout",
     "output_type": "stream",
     "text": [
      "{'name': 'Nitin', 'mobile': 9503596355, 'address': 'jath', 'job': 'data', 'salary': 40000, 'c_address': 'pune'}\n",
      "{'name': 'Nitin', 'mobile': 9503596355, 'address': 'jath', 'job': 'data', 'salary': 40000, 'c_address': 'pune', 'height': 170}\n"
     ]
    }
   ],
   "source": [
    "#change value\n",
    "print(dict1)\n",
    "dict1['height'] = 170\n",
    "print(dict1)"
   ]
  },
  {
   "cell_type": "code",
   "execution_count": 140,
   "id": "ab22a799",
   "metadata": {},
   "outputs": [
    {
     "name": "stdout",
     "output_type": "stream",
     "text": [
      "{'name': 'Nitin', 'mobile': 9503596355, 'address': 'jath', 'job': 'data', 'salary': 40000, 'c_address': 'pune', 'height': 170}\n",
      "{'name': 'Nitin', 'mobile': 9503596355, 'address': 'jath', 'job': 'data', 'salary': 40000, 'c_address': 'pune', 'height': 170, 'friend': 'rahul'}\n"
     ]
    }
   ],
   "source": [
    "print(dict1)\n",
    "dict1.update({'friend' :'rahul'})\n",
    "print(dict1)"
   ]
  },
  {
   "cell_type": "code",
   "execution_count": 141,
   "id": "f8187a82",
   "metadata": {},
   "outputs": [
    {
     "name": "stdout",
     "output_type": "stream",
     "text": [
      "<class 'dict'>\n"
     ]
    }
   ],
   "source": [
    "print(type(dict1))"
   ]
  },
  {
   "cell_type": "code",
   "execution_count": 142,
   "id": "462da558",
   "metadata": {},
   "outputs": [
    {
     "name": "stdout",
     "output_type": "stream",
     "text": [
      "{'name': 'Nitin', 'mobile': 9503596355, 'address': 'jath', 'job': 'data', 'salary': 40000, 'c_address': 'pune', 'height': 170, 'friend': 'rahul'}\n"
     ]
    },
    {
     "data": {
      "text/plain": [
       "'pune'"
      ]
     },
     "execution_count": 142,
     "metadata": {},
     "output_type": "execute_result"
    }
   ],
   "source": [
    "#remove item\n",
    "print(dict1)\n",
    "dict1.pop('c_address')\n"
   ]
  },
  {
   "cell_type": "code",
   "execution_count": 143,
   "id": "11113a72",
   "metadata": {},
   "outputs": [
    {
     "name": "stdout",
     "output_type": "stream",
     "text": [
      "{'name': 'Nitin', 'mobile': 9503596355, 'address': 'jath', 'job': 'data', 'salary': 40000, 'height': 170, 'friend': 'rahul'}\n"
     ]
    },
    {
     "data": {
      "text/plain": [
       "('friend', 'rahul')"
      ]
     },
     "execution_count": 143,
     "metadata": {},
     "output_type": "execute_result"
    }
   ],
   "source": [
    "print(dict1)\n",
    "dict1.popitem()"
   ]
  },
  {
   "cell_type": "code",
   "execution_count": 144,
   "id": "85921ddf",
   "metadata": {},
   "outputs": [
    {
     "name": "stdout",
     "output_type": "stream",
     "text": [
      "{'name': 'Nitin', 'mobile': 9503596355, 'address': 'jath', 'job': 'data', 'salary': 40000, 'height': 170}\n",
      "{'name': 'Nitin', 'mobile': 9503596355, 'address': 'jath', 'salary': 40000, 'height': 170}\n"
     ]
    }
   ],
   "source": [
    "#del can remove items as well as removes the dictionary\n",
    "print(dict1)\n",
    "del dict1['job']\n",
    "print(dict1)\n",
    "#del dict1"
   ]
  },
  {
   "cell_type": "code",
   "execution_count": 145,
   "id": "cfc4dbbc",
   "metadata": {},
   "outputs": [],
   "source": [
    "#clear method and del keyword are used to romove and the dict"
   ]
  },
  {
   "cell_type": "code",
   "execution_count": 146,
   "id": "0b5e5ddd",
   "metadata": {},
   "outputs": [
    {
     "name": "stdout",
     "output_type": "stream",
     "text": [
      "{'name': 'Nitin', 'mobile': 9503596355, 'address': 'jath', 'salary': 40000, 'height': 170}\n",
      "{'name': 'Nitin', 'mobile': 9503596355, 'address': 'jath', 'salary': 40000, 'height': 170}\n",
      "{'name': 'Nitin', 'mobile': 9503596355, 'address': 'jath', 'salary': 40000, 'height': 170}\n"
     ]
    }
   ],
   "source": [
    "#copy dictionary\n",
    "dict_1 = dict1 #this is reference to your dict not copy of dict1\n",
    "print(dict1)\n",
    "print(dict_1)\n",
    "\n",
    "dict_1['mobile'] = 9503596355\n",
    "#added to dict_1 , same reflected in dict1\n",
    "print(dict1)"
   ]
  },
  {
   "cell_type": "code",
   "execution_count": 147,
   "id": "7742e524",
   "metadata": {},
   "outputs": [
    {
     "name": "stdout",
     "output_type": "stream",
     "text": [
      "{'name': 'Nitin', 'mobile': 9503596355, 'address': 'jath', 'salary': 40000, 'height': 170}\n",
      "{'name': 'Nitin', 'mobile': 9503596355, 'address': 'jath', 'salary': 40000, 'height': 170, 'random': 'val'}\n",
      "{'name': 'Nitin', 'mobile': 9503596355, 'address': 'jath', 'salary': 40000, 'height': 170}\n"
     ]
    }
   ],
   "source": [
    "#copy() method\n",
    "print(dict1)\n",
    "dict2 = dict1.copy()\n",
    "dict2['random'] = 'val'\n",
    "print(dict2) #random added\n",
    "print(dict1) #not reflected in dict1"
   ]
  },
  {
   "cell_type": "code",
   "execution_count": 148,
   "id": "2e63135f",
   "metadata": {},
   "outputs": [
    {
     "name": "stdout",
     "output_type": "stream",
     "text": [
      "{'name': 'Nitin', 'mobile': 9503596355, 'address': 'jath', 'salary': 40000, 'height': 170}\n"
     ]
    }
   ],
   "source": [
    "#dict(for copy\n",
    "\n",
    "dict3 =dict(dict1)\n",
    "print(dict3)"
   ]
  },
  {
   "cell_type": "code",
   "execution_count": 149,
   "id": "bff6087e",
   "metadata": {},
   "outputs": [
    {
     "name": "stdout",
     "output_type": "stream",
     "text": [
      "{'f_Key': {'p_key': {'s_key': {'g_key': 'Grand_son_name'}, 's_name': 'Son_name'}, 'p_name': 'Parent_name'}}\n"
     ]
    }
   ],
   "source": [
    "\n",
    "grandson = {\n",
    "    \"g_key\": \"Grand_son_name\"\n",
    "\n",
    "}\n",
    "\n",
    "\n",
    "son = {\n",
    "    \"s_key\": grandson,\n",
    "    \"s_name\": \"Son_name\",\n",
    "\n",
    "}\n",
    "\n",
    "\n",
    "parent = {\n",
    "    'p_key': son,\n",
    "    'p_name': \"Parent_name\",\n",
    "        }\n",
    "\n",
    "\n",
    "\n",
    "family = {\n",
    "    \"f_Key\": parent,\n",
    "}\n",
    "print(family)"
   ]
  },
  {
   "cell_type": "code",
   "execution_count": 150,
   "id": "33763a3b",
   "metadata": {},
   "outputs": [
    {
     "data": {
      "text/plain": [
       "{'f_Key': {'p_key': {'s_key': {'g_key': 'Grand_son_name'},\n",
       "   's_name': 'Son_name'},\n",
       "  'p_name': 'Parent_name'}}"
      ]
     },
     "execution_count": 150,
     "metadata": {},
     "output_type": "execute_result"
    }
   ],
   "source": [
    "family"
   ]
  },
  {
   "cell_type": "markdown",
   "id": "e7b91e34",
   "metadata": {},
   "source": [
    "# Operators"
   ]
  },
  {
   "cell_type": "markdown",
   "id": "e9a27690",
   "metadata": {},
   "source": [
    "python operators \n",
    "1.Arithmetic operaters\n",
    "2.Assignment operators\n",
    "3.Comparison operaters\n",
    "4.Logical operators\n",
    "5.Identity operaters\n",
    "6.Membership operaters\n",
    "7.Bitwise operaters\n"
   ]
  },
  {
   "cell_type": "raw",
   "id": "4545311e",
   "metadata": {},
   "source": [
    "#Arithmetic operators\n",
    "1.+Addition x+y\n",
    "2.-Substraction x-y\n",
    "3.*Multiplication x*y\n",
    "4./Division x/y\n",
    "5.%Modulus x%y\n",
    "6.**Expontiation x**y\n",
    "7.//Floor division x//y"
   ]
  },
  {
   "cell_type": "code",
   "execution_count": 151,
   "id": "87d2ecdb",
   "metadata": {},
   "outputs": [
    {
     "name": "stdout",
     "output_type": "stream",
     "text": [
      "***Addition***\n",
      "Addition is :\t 15.5\n"
     ]
    }
   ],
   "source": [
    "#Addition\n",
    "print(\"***Addition***\")\n",
    "x = 10.5\n",
    "y = 5\n",
    "res = x+y\n",
    "print(\"Addition is :\\t\", res)"
   ]
  },
  {
   "cell_type": "code",
   "execution_count": 152,
   "id": "3fbe88b6",
   "metadata": {},
   "outputs": [
    {
     "name": "stdout",
     "output_type": "stream",
     "text": [
      "***Substraction***\n",
      "Substraction is :\t 5.5\n"
     ]
    }
   ],
   "source": [
    "#Substrction\n",
    "print(\"***Substraction***\")\n",
    "x = 10.5\n",
    "y = 5\n",
    "res = x-y\n",
    "print(\"Substraction is :\\t\",res)"
   ]
  },
  {
   "cell_type": "code",
   "execution_count": 153,
   "id": "a6a6e1f1",
   "metadata": {},
   "outputs": [
    {
     "name": "stdout",
     "output_type": "stream",
     "text": [
      "***Multiplication***\n",
      "Multiplication is :\t 52.5\n"
     ]
    }
   ],
   "source": [
    "#Multiplication\n",
    "print(\"***Multiplication***\")\n",
    "x = 10.5\n",
    "y = 5\n",
    "res = x*y\n",
    "print(\"Multiplication is :\\t\",res)"
   ]
  },
  {
   "cell_type": "code",
   "execution_count": 154,
   "id": "4fab2f08",
   "metadata": {},
   "outputs": [
    {
     "name": "stdout",
     "output_type": "stream",
     "text": [
      "***Division***\n",
      "division is:\t 2.0\n"
     ]
    }
   ],
   "source": [
    "#Division\n",
    "print(\"***Division***\")\n",
    "x = 10\n",
    "y = 5\n",
    "res = x/y\n",
    "print(\"division is:\\t\",res)"
   ]
  },
  {
   "cell_type": "code",
   "execution_count": 155,
   "id": "e769f4e0",
   "metadata": {},
   "outputs": [
    {
     "name": "stdout",
     "output_type": "stream",
     "text": [
      "***modulus***\n",
      "Modulus is :\t 0\n"
     ]
    }
   ],
   "source": [
    "#modulus\n",
    "print(\"***modulus***\")\n",
    "x = 10\n",
    "y = 5\n",
    "res = 10%5\n",
    "print(\"Modulus is :\\t\",res)"
   ]
  },
  {
   "cell_type": "code",
   "execution_count": 156,
   "id": "3bfa4dca",
   "metadata": {},
   "outputs": [
    {
     "name": "stdout",
     "output_type": "stream",
     "text": [
      "***Expontiation***\n",
      "Expontiation is :\t 100000\n"
     ]
    }
   ],
   "source": [
    "#Expontiation\n",
    "print(\"***Expontiation***\")\n",
    "x = 10\n",
    "y = 5\n",
    "res =10**5\n",
    "print(\"Expontiation is :\\t\",res)"
   ]
  },
  {
   "cell_type": "code",
   "execution_count": 157,
   "id": "33df21db",
   "metadata": {},
   "outputs": [
    {
     "name": "stdout",
     "output_type": "stream",
     "text": [
      "***Floor division***\n",
      "expontiation is  :\t 2\n"
     ]
    }
   ],
   "source": [
    "#Floor division\n",
    "print(\"***Floor division***\")\n",
    "x = 10\n",
    "y = 5\n",
    "res = 10//5\n",
    "print(\"expontiation is  :\\t\",res)"
   ]
  },
  {
   "cell_type": "raw",
   "id": "cf27161a",
   "metadata": {},
   "source": [
    "#Assignment operators\n",
    "1.=    x=5     5 =x\n",
    "2.+=   x+=3    x = x+3\n",
    "3.-=   x-=2    x =x-2\n",
    "4.*=   x*=4    x = x*4\n",
    "5./=   x/=5    x =x/5\n",
    "6.%=   x%=3    x = x%3\n",
    "7.//=  x//=4   x = x//4\n",
    "8.**=  x**=5   x = x**5\n",
    "9.&=   x&=3    X = x&3\n",
    "10.|=  x|=2    x = x|2\n",
    "11.^=  x^=1    x = x^1\n",
    "12.>>= x>>=2   x = x>>2\n",
    "13.<<= x<<=3   x = x<<3\n"
   ]
  },
  {
   "cell_type": "code",
   "execution_count": 158,
   "id": "e8f299da",
   "metadata": {},
   "outputs": [
    {
     "name": "stdout",
     "output_type": "stream",
     "text": [
      "the value of x is: 13\n"
     ]
    }
   ],
   "source": [
    "#=\n",
    "x= 13\n",
    "print(\"the value of x is:\",x)"
   ]
  },
  {
   "cell_type": "code",
   "execution_count": 159,
   "id": "d45cf1dc",
   "metadata": {},
   "outputs": [
    {
     "name": "stdout",
     "output_type": "stream",
     "text": [
      "prior x is: 13\n",
      "post x is : 23\n"
     ]
    }
   ],
   "source": [
    "#+=\n",
    "\n",
    "print(\"prior x is:\",x)\n",
    "x+=10\n",
    "print(\"post x is :\",x)\n",
    "\n"
   ]
  },
  {
   "cell_type": "code",
   "execution_count": 160,
   "id": "feba0f78",
   "metadata": {},
   "outputs": [
    {
     "name": "stdout",
     "output_type": "stream",
     "text": [
      "prior x is: 23\n",
      "post x is: 13\n"
     ]
    }
   ],
   "source": [
    "#-=\n",
    "print(\"prior x is:\",x)\n",
    "\n",
    "x-=10\n",
    "print(\"post x is:\",x)\n"
   ]
  },
  {
   "cell_type": "code",
   "execution_count": 161,
   "id": "d78c5b39",
   "metadata": {},
   "outputs": [
    {
     "name": "stdout",
     "output_type": "stream",
     "text": [
      "prior x is: 13\n",
      "post x is: 26\n"
     ]
    }
   ],
   "source": [
    "#*=\n",
    "print(\"prior x is:\",x)\n",
    "x*=2\n",
    "print(\"post x is:\",x)"
   ]
  },
  {
   "cell_type": "code",
   "execution_count": 162,
   "id": "c2ce0d5c",
   "metadata": {},
   "outputs": [
    {
     "name": "stdout",
     "output_type": "stream",
     "text": [
      "prior x is: 26\n",
      "post x is: 8.666666666666666\n"
     ]
    }
   ],
   "source": [
    "#/=\n",
    "print(\"prior x is:\",x)\n",
    "x/=3\n",
    "print(\"post x is:\",x)"
   ]
  },
  {
   "cell_type": "code",
   "execution_count": 163,
   "id": "dcc043ee",
   "metadata": {},
   "outputs": [
    {
     "name": "stdout",
     "output_type": "stream",
     "text": [
      "prior x is: 8.666666666666666\n",
      "post x is: 2.666666666666666\n"
     ]
    }
   ],
   "source": [
    "#%=\n",
    "print(\"prior x is:\",x)\n",
    "x%=3\n",
    "print(\"post x is:\",x)"
   ]
  },
  {
   "cell_type": "code",
   "execution_count": 164,
   "id": "ff655cc7",
   "metadata": {},
   "outputs": [
    {
     "name": "stdout",
     "output_type": "stream",
     "text": [
      "prior x is: 4\n",
      "post x is: 16\n"
     ]
    }
   ],
   "source": [
    "#**\n",
    "x=4\n",
    "print(\"prior x is:\",x)\n",
    "x =x**2\n",
    "print(\"post x is:\",x)"
   ]
  },
  {
   "cell_type": "code",
   "execution_count": 165,
   "id": "a7886967",
   "metadata": {},
   "outputs": [
    {
     "name": "stdout",
     "output_type": "stream",
     "text": [
      "prior x is: 16\n",
      "post x is: 5\n"
     ]
    }
   ],
   "source": [
    "#//\n",
    "print(\"prior x is:\",x)\n",
    "x=x//3\n",
    "print(\"post x is:\",x)"
   ]
  },
  {
   "cell_type": "code",
   "execution_count": 166,
   "id": "8dd7d171",
   "metadata": {},
   "outputs": [
    {
     "name": "stdout",
     "output_type": "stream",
     "text": [
      "0\n"
     ]
    }
   ],
   "source": [
    "#&\n",
    "x=2       #   0 1 0\n",
    "x = x&5    #  1 0 1\n",
    "print(x)   #  0 0 0"
   ]
  },
  {
   "cell_type": "code",
   "execution_count": 167,
   "id": "4446e10c",
   "metadata": {},
   "outputs": [
    {
     "name": "stdout",
     "output_type": "stream",
     "text": [
      "17\n"
     ]
    }
   ],
   "source": [
    "#|\n",
    "x =17    #returns if  any one is  x or y true\n",
    "#y =10\n",
    "x= x | 17\n",
    "print(x)"
   ]
  },
  {
   "cell_type": "code",
   "execution_count": 168,
   "id": "1eb47fb5",
   "metadata": {},
   "outputs": [
    {
     "name": "stdout",
     "output_type": "stream",
     "text": [
      "1\n"
     ]
    }
   ],
   "source": [
    "#^\n",
    "x =11    #returns if  only one is  x or y true\n",
    "y =10\n",
    "z= 11^10\n",
    "print(z)"
   ]
  },
  {
   "cell_type": "code",
   "execution_count": 169,
   "id": "eb54fb4f",
   "metadata": {},
   "outputs": [
    {
     "name": "stdout",
     "output_type": "stream",
     "text": [
      "0\n",
      "0\n"
     ]
    }
   ],
   "source": [
    "#>>\n",
    "x =2\n",
    "#y = 3\n",
    "x =x>>4\n",
    "print(x)\n",
    "x =1\n",
    "y =3\n",
    "z =x>>y\n",
    "print(z)"
   ]
  },
  {
   "cell_type": "code",
   "execution_count": 170,
   "id": "0de21439",
   "metadata": {},
   "outputs": [
    {
     "name": "stdout",
     "output_type": "stream",
     "text": [
      "16\n"
     ]
    }
   ],
   "source": [
    "#<<\n",
    "x=2\n",
    "x =x<<3\n",
    "print(x)"
   ]
  },
  {
   "cell_type": "raw",
   "id": "25ed6edc",
   "metadata": {},
   "source": [
    "3.comparision operators"
   ]
  },
  {
   "cell_type": "code",
   "execution_count": 171,
   "id": "77f606d5",
   "metadata": {},
   "outputs": [
    {
     "name": "stdout",
     "output_type": "stream",
     "text": [
      "False\n",
      "True\n",
      "True\n",
      "False\n",
      "True\n",
      "False\n"
     ]
    }
   ],
   "source": [
    "a = 10\n",
    "b = 20\n",
    "\n",
    "\n",
    "print(a == b)\n",
    "\n",
    "print(a != b)\n",
    "\n",
    "print(a < b)\n",
    "\n",
    "print(a > b)\n",
    "\n",
    "print(a <= b)\n",
    "\n",
    "print(a >= b)\n"
   ]
  },
  {
   "cell_type": "raw",
   "id": "9dc4176f",
   "metadata": {},
   "source": [
    "4. Logical operators"
   ]
  },
  {
   "cell_type": "code",
   "execution_count": 172,
   "id": "61befadf",
   "metadata": {},
   "outputs": [
    {
     "name": "stdout",
     "output_type": "stream",
     "text": [
      "and operator:\n",
      "\n",
      "\n",
      "distinction:\n",
      "False\n",
      "First class:\n",
      "True\n",
      "second class:\n",
      "False\n",
      "or operator:\n",
      "False\n"
     ]
    }
   ],
   "source": [
    "#distinction -above 75%,  1st -above 65% to less than equal to 75%\n",
    "\n",
    "print(\"and operator:\\n\\n\")\n",
    "\n",
    "\n",
    "score =67\n",
    "print(\"distinction:\")\n",
    "print(score >75)\n",
    "\n",
    "print(\"First class:\")\n",
    "print(score >65 and score <=75)\n",
    "\n",
    "print(\"second class:\")\n",
    "print(score > 55 and score<=65)\n",
    "\n",
    "\n",
    "print(\"or operator:\")\n",
    "var1 = 10\n",
    "var2 = 20\n",
    "print(var1>20 or var2 <10)"
   ]
  },
  {
   "cell_type": "raw",
   "id": "edc27751",
   "metadata": {},
   "source": [
    "5.Identity oprators\n",
    "1) is \n",
    "2)is not"
   ]
  },
  {
   "cell_type": "code",
   "execution_count": 173,
   "id": "d541cd54",
   "metadata": {},
   "outputs": [
    {
     "name": "stdout",
     "output_type": "stream",
     "text": [
      "a id is: 10914784\n",
      "b id is: 10915104\n",
      "False\n",
      "a id is: 140375107288352\n",
      "b id is: 140374971158936\n",
      "True\n"
     ]
    }
   ],
   "source": [
    "a = 10 \n",
    "b = 20\n",
    "\n",
    "print(\"a id is:\",id(a))\n",
    "print(\"b id is:\",id(b))\n",
    "print(a is b)\n",
    "\n",
    "\n",
    "a = 1.2\n",
    "b =1.2\n",
    "print(\"a id is:\",id(a))\n",
    "print(\"b id is:\",id(b))\n",
    "print(a is not b)"
   ]
  },
  {
   "cell_type": "raw",
   "id": "8e5ddd5d",
   "metadata": {},
   "source": [
    "# 6.Membership operators\n",
    "1)in\n",
    "2)not in"
   ]
  },
  {
   "cell_type": "code",
   "execution_count": 174,
   "id": "7fae60d4",
   "metadata": {},
   "outputs": [
    {
     "name": "stdout",
     "output_type": "stream",
     "text": [
      "True\n",
      "True\n",
      "False\n",
      "False\n"
     ]
    }
   ],
   "source": [
    "rollno = [1,2,3,4,5,6]\n",
    "\n",
    "print(1 in rollno)\n",
    "\n",
    "print(7 not in rollno)\n",
    "\n",
    "print(8 in rollno)\n",
    "\n",
    "print(2 not in rollno)"
   ]
  },
  {
   "cell_type": "raw",
   "id": "ef0113e8",
   "metadata": {},
   "source": [
    "# 7.Bitwise operator"
   ]
  },
  {
   "cell_type": "code",
   "execution_count": 175,
   "id": "16f220da",
   "metadata": {},
   "outputs": [
    {
     "name": "stdout",
     "output_type": "stream",
     "text": [
      "Bitwise and:\n",
      "2\n",
      "Bitwise or:\n",
      "5\n",
      "Left shift:\n",
      "\n",
      "10\n",
      "Right shift:\n",
      "\n",
      "2\n",
      "\n",
      " 0o5\n",
      "\n",
      " 0x5\n"
     ]
    }
   ],
   "source": [
    "#\"and\"\n",
    "\n",
    "\n",
    "x = 2   # 0 1 0\n",
    "y =3    # 0 1 1\n",
    "z = x & y\n",
    "print(\"Bitwise and:\")\n",
    "print(z)\n",
    "\n",
    "#\"or\"\n",
    "\n",
    "x = 4    # 1 0 0\n",
    "y = 5    # 1 0 1\n",
    "z = x | y\n",
    "print(\"Bitwise or:\")\n",
    "print(z)\n",
    "\n",
    "#\"<<\"\n",
    "x = 5\n",
    "z = x << 1\n",
    "print(\"Left shift:\\n\")\n",
    "print(z)\n",
    "\n",
    "\n",
    "#\">>\"\n",
    "x = 5\n",
    "z = x >> 1\n",
    "print(\"Right shift:\\n\")\n",
    "print(z)\n",
    "\n",
    "print(\"\\n\",oct(x))\n",
    "print(\"\\n\",hex(x))"
   ]
  },
  {
   "cell_type": "markdown",
   "id": "8cda6ec4",
   "metadata": {},
   "source": [
    "# Conditional Statements and Loops\n"
   ]
  },
  {
   "cell_type": "code",
   "execution_count": 176,
   "id": "d0cab287",
   "metadata": {},
   "outputs": [
    {
     "name": "stdout",
     "output_type": "stream",
     "text": [
      "False\n",
      "largest element is : 20\n"
     ]
    }
   ],
   "source": [
    "# a > b\n",
    "x = 10\n",
    "y = 20\n",
    "\n",
    "#Find largest number\n",
    "\n",
    "print(x>y)\n",
    "\n",
    "if x>y:\n",
    "    print(\"largest element is :\",x)\n",
    "else:\n",
    "    print(\"largest element is :\",y)"
   ]
  },
  {
   "cell_type": "code",
   "execution_count": 177,
   "id": "fefe4f4c",
   "metadata": {},
   "outputs": [
    {
     "name": "stdout",
     "output_type": "stream",
     "text": [
      "the lareger element is y:\n"
     ]
    }
   ],
   "source": [
    "# a>b, a==b, a<b\n",
    "\n",
    "x = 10\n",
    "y = 20\n",
    "\n",
    "if x > y:\n",
    "    print(\"the larger element is x:\")\n",
    "elif x==y:\n",
    "    print(\"both x and y elements are equal:\")\n",
    "else:\n",
    "    print(\"the lareger element is y:\")"
   ]
  },
  {
   "cell_type": "code",
   "execution_count": 178,
   "id": "3e87a6b9",
   "metadata": {},
   "outputs": [
    {
     "name": "stdout",
     "output_type": "stream",
     "text": [
      "x is greater than y\n"
     ]
    }
   ],
   "source": [
    "# short hand if a>b : print(\"a is greater than b\")\n",
    "\n",
    "x = 20\n",
    "y = 10\n",
    "\n",
    "if x>y: print(\"x is greater than y\")"
   ]
  },
  {
   "cell_type": "code",
   "execution_count": 179,
   "id": "a8c841c5",
   "metadata": {},
   "outputs": [
    {
     "name": "stdout",
     "output_type": "stream",
     "text": [
      "the greater element is : 20\n"
     ]
    }
   ],
   "source": [
    "# short hand if else print(\"A\")if a > b else print(\"B\")\n",
    "\n",
    "x = 20 \n",
    "y = 10\n",
    "\n",
    "print(\"the greater element is :\",x) if x>y else print(\"the greater element is :\",y)"
   ]
  },
  {
   "cell_type": "code",
   "execution_count": 180,
   "id": "67415809",
   "metadata": {},
   "outputs": [
    {
     "name": "stdout",
     "output_type": "stream",
     "text": [
      "Enter the marks\n"
     ]
    },
    {
     "ename": "ValueError",
     "evalue": "could not convert string to float: ",
     "output_type": "error",
     "traceback": [
      "\u001b[0;31m---------------------------------------------------------------------------\u001b[0m",
      "\u001b[0;31mValueError\u001b[0m                                Traceback (most recent call last)",
      "\u001b[0;32m<ipython-input-180-2b18ba7d7fa0>\u001b[0m in \u001b[0;36m<module>\u001b[0;34m\u001b[0m\n\u001b[1;32m      1\u001b[0m \u001b[0;31m# write more than one condition using and and or\u001b[0m\u001b[0;34m\u001b[0m\u001b[0;34m\u001b[0m\u001b[0;34m\u001b[0m\u001b[0m\n\u001b[1;32m      2\u001b[0m \u001b[0;31m#1)and\u001b[0m\u001b[0;34m\u001b[0m\u001b[0;34m\u001b[0m\u001b[0;34m\u001b[0m\u001b[0m\n\u001b[0;32m----> 3\u001b[0;31m \u001b[0ma\u001b[0m \u001b[0;34m=\u001b[0m\u001b[0mfloat\u001b[0m\u001b[0;34m(\u001b[0m\u001b[0minput\u001b[0m\u001b[0;34m(\u001b[0m\u001b[0;34m'Enter the marks'\u001b[0m\u001b[0;34m)\u001b[0m\u001b[0;34m)\u001b[0m\u001b[0;34m\u001b[0m\u001b[0;34m\u001b[0m\u001b[0m\n\u001b[0m\u001b[1;32m      4\u001b[0m \u001b[0;34m\u001b[0m\u001b[0m\n\u001b[1;32m      5\u001b[0m \u001b[0ma\u001b[0m\u001b[0;34m<=\u001b[0m\u001b[0;36m100\u001b[0m\u001b[0;34m\u001b[0m\u001b[0;34m\u001b[0m\u001b[0m\n",
      "\u001b[0;31mValueError\u001b[0m: could not convert string to float: "
     ]
    }
   ],
   "source": [
    "# write more than one condition using and and or\n",
    "#1)and\n",
    "a =float(input('Enter the marks'))\n",
    "    \n",
    "a<=100\n",
    "\n",
    "if (a>=40) and (a<60):\n",
    "    print(\"Second Class\")\n",
    "elif (a>=60) and (a<75):\n",
    "    print(\"First class\")\n",
    "elif (a>=75) and (a<=100):\n",
    "    print('distinction')\n",
    "\n",
    "else:\n",
    "    pass\n"
   ]
  },
  {
   "cell_type": "code",
   "execution_count": null,
   "id": "412d846f",
   "metadata": {},
   "outputs": [],
   "source": [
    "# OR\n",
    "var =str(input('Enter the alphabet:'))\n",
    "\n",
    "if (var=='W' or var=='w'):\n",
    "    print(\"no\")\n",
    "elif (var=='D' or var=='d'):\n",
    "    print(\"yes\")\n",
    "else :\n",
    "    print(\"invalid input\")"
   ]
  },
  {
   "cell_type": "code",
   "execution_count": null,
   "id": "8af40f91",
   "metadata": {},
   "outputs": [],
   "source": [
    "# nested if else...\n",
    "\n",
    "x = 300\n",
    "\n",
    "if x>100:\n",
    "    if x>200:\n",
    "        print(\"the number is greater than 100 and 200\")\n",
    "    elif x==200:\n",
    "        print(\"the number is equal to 200\")\n",
    "    else:\n",
    "        print(\"the number is greater than 100 and less than 200\")\n",
    "else:\n",
    "    print(\"the number is less than 100\")"
   ]
  },
  {
   "cell_type": "code",
   "execution_count": 181,
   "id": "5adbc47f",
   "metadata": {},
   "outputs": [],
   "source": [
    "#pass statment\n",
    "x= 10\n",
    "y= 12\n",
    "\n",
    "if x>y:\n",
    "    pass"
   ]
  },
  {
   "cell_type": "markdown",
   "id": "49f798e4",
   "metadata": {},
   "source": [
    "# While Loop"
   ]
  },
  {
   "cell_type": "code",
   "execution_count": 182,
   "id": "3c5b283c",
   "metadata": {},
   "outputs": [
    {
     "name": "stdout",
     "output_type": "stream",
     "text": [
      "1\n",
      "2\n",
      "3\n",
      "4\n",
      "5\n",
      "6\n",
      "7\n",
      "8\n",
      "9\n",
      "10\n",
      "11\n",
      "12\n",
      "13\n",
      "14\n",
      "15\n",
      "16\n",
      "17\n",
      "18\n",
      "19\n",
      "20\n",
      "21\n",
      "22\n",
      "23\n",
      "24\n",
      "25\n",
      "26\n",
      "27\n",
      "28\n",
      "29\n",
      "30\n",
      "31\n",
      "32\n",
      "33\n",
      "34\n",
      "35\n",
      "36\n",
      "37\n",
      "38\n",
      "39\n",
      "40\n",
      "41\n",
      "42\n",
      "43\n",
      "44\n",
      "45\n",
      "46\n",
      "47\n",
      "48\n",
      "49\n",
      "50\n",
      "51\n",
      "52\n",
      "53\n",
      "54\n",
      "55\n",
      "56\n",
      "57\n",
      "58\n",
      "59\n",
      "60\n",
      "61\n",
      "62\n",
      "63\n",
      "64\n",
      "65\n",
      "66\n",
      "67\n",
      "68\n",
      "69\n",
      "70\n",
      "71\n",
      "72\n",
      "73\n",
      "74\n",
      "75\n",
      "76\n",
      "77\n",
      "78\n",
      "79\n",
      "80\n",
      "81\n",
      "82\n",
      "83\n",
      "84\n",
      "85\n",
      "86\n",
      "87\n",
      "88\n",
      "89\n",
      "90\n",
      "91\n",
      "92\n",
      "93\n",
      "94\n",
      "95\n",
      "96\n",
      "97\n",
      "98\n",
      "99\n",
      "100\n"
     ]
    }
   ],
   "source": [
    "#print series of numbers\n",
    "x = 1 \n",
    "while x<=100:\n",
    "    print(x)\n",
    "    x = x+1"
   ]
  },
  {
   "cell_type": "code",
   "execution_count": 183,
   "id": "65291ae7",
   "metadata": {},
   "outputs": [
    {
     "name": "stdout",
     "output_type": "stream",
     "text": [
      "0\n",
      "1\n",
      "2\n",
      "3\n",
      "4\n",
      "5\n",
      "6\n",
      "7\n",
      "8\n",
      "9\n",
      "10\n",
      "11\n",
      "12\n",
      "13\n",
      "14\n",
      "15\n",
      "16\n",
      "17\n",
      "18\n",
      "19\n",
      "20\n",
      "21\n",
      "22\n",
      "23\n",
      "24\n",
      "25\n",
      "26\n",
      "27\n",
      "28\n",
      "29\n",
      "30\n",
      "31\n",
      "32\n",
      "33\n",
      "34\n",
      "35\n",
      "36\n",
      "37\n",
      "38\n",
      "39\n",
      "40\n",
      "41\n",
      "42\n",
      "43\n",
      "44\n",
      "45\n",
      "46\n",
      "47\n",
      "48\n",
      "49\n",
      "50\n"
     ]
    }
   ],
   "source": [
    "#break statement\n",
    "\n",
    "x = 0\n",
    "while x<100:\n",
    "    print(x)\n",
    "    if x== 50:\n",
    "        break\n",
    "    x = x+1    \n"
   ]
  },
  {
   "cell_type": "code",
   "execution_count": 184,
   "id": "61e577bd",
   "metadata": {},
   "outputs": [
    {
     "name": "stdout",
     "output_type": "stream",
     "text": [
      "0\n",
      "1\n",
      "2\n",
      "3\n",
      "4\n",
      "5\n",
      "6\n",
      "7\n",
      "8\n",
      "9\n",
      "10\n",
      "11\n",
      "12\n",
      "13\n",
      "14\n",
      "15\n",
      "16\n",
      "17\n",
      "18\n",
      "19\n",
      "20\n",
      "21\n",
      "22\n",
      "23\n",
      "24\n",
      "25\n",
      "26\n",
      "27\n",
      "28\n",
      "29\n",
      "30\n",
      "31\n",
      "32\n",
      "33\n",
      "34\n",
      "35\n",
      "36\n",
      "37\n",
      "38\n",
      "39\n",
      "40\n",
      "41\n",
      "42\n",
      "43\n",
      "44\n",
      "45\n",
      "46\n",
      "47\n",
      "48\n",
      "49\n",
      "51\n",
      "52\n",
      "53\n",
      "54\n",
      "55\n",
      "56\n",
      "57\n",
      "58\n",
      "59\n",
      "60\n",
      "61\n",
      "62\n",
      "63\n",
      "64\n",
      "65\n",
      "66\n",
      "67\n",
      "68\n",
      "69\n",
      "70\n",
      "71\n",
      "72\n",
      "73\n",
      "74\n",
      "75\n",
      "76\n",
      "77\n",
      "78\n",
      "79\n",
      "80\n",
      "81\n",
      "82\n",
      "83\n",
      "84\n",
      "85\n",
      "86\n",
      "87\n",
      "88\n",
      "89\n",
      "90\n",
      "91\n",
      "92\n",
      "93\n",
      "94\n",
      "95\n",
      "96\n",
      "97\n",
      "98\n"
     ]
    }
   ],
   "source": [
    "#Continue Statement\n",
    "x = 0\n",
    "while x <100:\n",
    "    \n",
    "    if x==50 or x==99:\n",
    "      \n",
    "        x+=1\n",
    "        continue\n",
    "    print(x)    \n",
    "    x+=1\n",
    "    "
   ]
  },
  {
   "cell_type": "code",
   "execution_count": 185,
   "id": "55b9bc09",
   "metadata": {},
   "outputs": [
    {
     "name": "stdout",
     "output_type": "stream",
     "text": [
      "0\n",
      "1\n",
      "2\n",
      "3\n",
      "4\n",
      "5\n",
      "6\n",
      "7\n",
      "8\n",
      "9\n",
      "10\n",
      "11\n",
      "12\n",
      "13\n",
      "14\n",
      "15\n",
      "16\n",
      "17\n",
      "18\n",
      "19\n",
      "20\n",
      "21\n",
      "22\n",
      "23\n",
      "24\n",
      "25\n",
      "26\n",
      "27\n",
      "28\n",
      "29\n",
      "30\n",
      "31\n",
      "32\n",
      "33\n",
      "34\n",
      "35\n",
      "36\n",
      "37\n",
      "38\n",
      "39\n",
      "40\n",
      "41\n",
      "42\n",
      "43\n",
      "44\n",
      "45\n",
      "46\n",
      "47\n",
      "48\n",
      "49\n",
      "51\n",
      "52\n",
      "53\n",
      "54\n",
      "55\n",
      "56\n",
      "57\n",
      "58\n",
      "59\n",
      "60\n",
      "61\n",
      "62\n",
      "63\n",
      "64\n",
      "65\n",
      "66\n",
      "67\n",
      "68\n",
      "69\n",
      "70\n",
      "71\n",
      "72\n",
      "73\n",
      "74\n",
      "75\n",
      "76\n",
      "77\n",
      "78\n",
      "79\n",
      "80\n",
      "81\n",
      "82\n",
      "83\n",
      "84\n",
      "85\n",
      "86\n",
      "87\n",
      "88\n",
      "89\n",
      "90\n",
      "91\n",
      "92\n",
      "93\n",
      "94\n",
      "95\n",
      "96\n",
      "97\n",
      "98\n",
      "99\n",
      "There is no more statement to execute\n"
     ]
    }
   ],
   "source": [
    "#else below while\n",
    "x = 0\n",
    "while x <100:\n",
    "    \n",
    "    if x==50:\n",
    "      \n",
    "        x+=1\n",
    "        continue\n",
    "    print(x)    \n",
    "    x+=1\n",
    "else:\n",
    "    print(\"There is no more statement to execute\")"
   ]
  },
  {
   "cell_type": "code",
   "execution_count": 186,
   "id": "f56fe05c",
   "metadata": {},
   "outputs": [
    {
     "name": "stdout",
     "output_type": "stream",
     "text": [
      "['red', 'blue', 'orange', 'green', 'yellow', 'black']\n",
      "while on List:-\n",
      "red\n",
      "blue\n",
      "orange\n",
      "green\n",
      "yellow\n",
      "black\n"
     ]
    }
   ],
   "source": [
    "#while on list and tuple\n",
    "list1 = [\"red\",\"blue\",\"orange\",\"green\",\"yellow\",\"black\"]\n",
    "print(list1)\n",
    "\n",
    "print(\"while on List:-\")\n",
    "\n",
    "x = 0\n",
    "while x<len(list1):\n",
    "    print(list1[x])\n",
    "    x+=1"
   ]
  },
  {
   "cell_type": "code",
   "execution_count": 187,
   "id": "968abe29",
   "metadata": {},
   "outputs": [
    {
     "name": "stdout",
     "output_type": "stream",
     "text": [
      "tup\n",
      "while on tup:-\n",
      "red\n",
      "blue\n",
      "orange\n",
      "green\n",
      "yellow\n",
      "black\n"
     ]
    }
   ],
   "source": [
    "#tuple\n",
    "\n",
    "tup = (\"red\",\"blue\",\"orange\",\"green\",\"yellow\",\"black\")\n",
    "print(\"tup\")\n",
    "print (\"while on tup:-\")\n",
    "\n",
    "x = 0\n",
    "while x<len(tup):\n",
    "    print(tup[x])\n",
    "    x+=1"
   ]
  },
  {
   "cell_type": "markdown",
   "id": "0855d768",
   "metadata": {},
   "source": [
    "# For Loop\n",
    "\n",
    "For iterators over list, tuple, dictionary and string"
   ]
  },
  {
   "cell_type": "code",
   "execution_count": 188,
   "id": "ac1530a0",
   "metadata": {},
   "outputs": [
    {
     "name": "stdout",
     "output_type": "stream",
     "text": [
      "['red', 'blue', 'orange', 'green', 'yellow', 'black']\n",
      "For on List:-\n",
      "red\n",
      "blue\n",
      "orange\n",
      "green\n",
      "yellow\n",
      "black\n"
     ]
    }
   ],
   "source": [
    "#list\n",
    "\n",
    "list1 = [\"red\",\"blue\",\"orange\",\"green\",\"yellow\",\"black\"]\n",
    "print(list1)\n",
    "\n",
    "print(\"For on List:-\")\n",
    "\n",
    "for x in list1:\n",
    "    print(x)\n"
   ]
  },
  {
   "cell_type": "code",
   "execution_count": 189,
   "id": "28cb53e1",
   "metadata": {},
   "outputs": [
    {
     "name": "stdout",
     "output_type": "stream",
     "text": [
      "('red', 'blue', 'orange', 'green', 'yellow', 'black')\n",
      "For on tuple:-\n",
      "red\n",
      "blue\n",
      "orange\n",
      "green\n",
      "yellow\n",
      "black\n"
     ]
    }
   ],
   "source": [
    "#tuple\n",
    "tup = (\"red\",\"blue\",\"orange\",\"green\",\"yellow\",\"black\")\n",
    "print(tup)\n",
    "\n",
    "print(\"For on tuple:-\")\n",
    "\n",
    "for x in tup:\n",
    "    print(x)\n"
   ]
  },
  {
   "cell_type": "code",
   "execution_count": 190,
   "id": "87f86abf",
   "metadata": {},
   "outputs": [
    {
     "name": "stdout",
     "output_type": "stream",
     "text": [
      "this is python\n",
      "For on string:-\n",
      "t\n",
      "h\n",
      "i\n",
      "s\n",
      " \n",
      "i\n",
      "s\n",
      " \n",
      "p\n",
      "y\n",
      "t\n",
      "h\n",
      "o\n",
      "n\n"
     ]
    }
   ],
   "source": [
    "# string\n",
    "str1 = \"this is python\"\n",
    "print(str1)\n",
    "\n",
    "print('For on string:-')\n",
    "\n",
    "for x in str1:\n",
    "    print(x)"
   ]
  },
  {
   "cell_type": "code",
   "execution_count": 191,
   "id": "9d235f8c",
   "metadata": {},
   "outputs": [
    {
     "name": "stdout",
     "output_type": "stream",
     "text": [
      "{'name': 'Nitin', 'mobile': 9359682576, 'city': 'pune', 'job': 'data science', 'salary': 100000}\n",
      "For on dictionary:-\n",
      "name\n",
      "mobile\n",
      "city\n",
      "job\n",
      "salary\n",
      "for on dict printing keys:-\n",
      "name\n",
      "mobile\n",
      "city\n",
      "job\n",
      "salary\n",
      "for on dict printing values:-\n",
      "Nitin\n",
      "9359682576\n",
      "pune\n",
      "data science\n",
      "100000\n",
      "for on dict printing items:-\n",
      "( name  Nitin )\n",
      "( mobile  9359682576 )\n",
      "( city  pune )\n",
      "( job  data science )\n",
      "( salary  100000 )\n"
     ]
    }
   ],
   "source": [
    "#Dictionary\n",
    "dict1 = {\n",
    "    'name' :'Nitin',\n",
    "    'mobile'  : 9359682576,\n",
    "    'city'  :'pune',\n",
    "    'job'  :'data science',\n",
    "    'salary':  100000  \n",
    "}\n",
    "\n",
    "print(dict1)\n",
    "\n",
    "print(\"For on dictionary:-\")\n",
    "for x in dict1:\n",
    "    print(x)\n",
    "    \n",
    "print(\"for on dict printing keys:-\")    \n",
    "for x in dict1.keys():\n",
    "    print(x)\n",
    "     \n",
    "    \n",
    "print(\"for on dict printing values:-\")    \n",
    "for x in dict1.values():\n",
    "    print(x)\n",
    "\n",
    "\n",
    "print(\"for on dict printing items:-\")    \n",
    "for x,y in dict1.items():\n",
    "    print(\"(\",x,\"\",y,\")\")\n",
    "         "
   ]
  },
  {
   "cell_type": "code",
   "execution_count": 192,
   "id": "e8d779c0",
   "metadata": {},
   "outputs": [
    {
     "name": "stdout",
     "output_type": "stream",
     "text": [
      "{'green', 'black', 'orange', 'blue', 'red', 'yellow'}\n",
      "For on set:-\n",
      "green\n",
      "black\n",
      "orange\n",
      "blue\n",
      "red\n",
      "yellow\n"
     ]
    }
   ],
   "source": [
    "#set\n",
    "\n",
    "set1 = {\"red\",\"blue\",\"orange\",\"green\",\"yellow\",\"black\"}\n",
    "print(set1)\n",
    "\n",
    "print(\"For on set:-\")\n",
    "\n",
    "for x in set1:\n",
    "    print(x)\n"
   ]
  },
  {
   "cell_type": "markdown",
   "id": "0748b5c2",
   "metadata": {},
   "source": [
    "#  Range"
   ]
  },
  {
   "cell_type": "code",
   "execution_count": 193,
   "id": "8a0d5a51",
   "metadata": {},
   "outputs": [
    {
     "name": "stdout",
     "output_type": "stream",
     "text": [
      "0\n",
      "1\n",
      "2\n",
      "3\n",
      "4\n",
      "5\n",
      "6\n",
      "7\n",
      "8\n",
      "9\n"
     ]
    }
   ],
   "source": [
    "# for i in range (10)\n",
    "\n",
    "for i in range(10):\n",
    "    print(i)"
   ]
  },
  {
   "cell_type": "code",
   "execution_count": 194,
   "id": "fb9f476a",
   "metadata": {},
   "outputs": [
    {
     "name": "stdout",
     "output_type": "stream",
     "text": [
      "10\n",
      "11\n",
      "12\n",
      "13\n",
      "14\n",
      "15\n",
      "16\n",
      "17\n",
      "18\n",
      "19\n"
     ]
    }
   ],
   "source": [
    "#for i in range(10,20)\n",
    "\n",
    "for i in range(10,20):\n",
    "    print(i)"
   ]
  },
  {
   "cell_type": "code",
   "execution_count": 195,
   "id": "08313484",
   "metadata": {},
   "outputs": [
    {
     "name": "stdout",
     "output_type": "stream",
     "text": [
      "10\n",
      "12\n",
      "14\n",
      "16\n",
      "18\n"
     ]
    }
   ],
   "source": [
    "#for i in range (10,20,2)\n",
    "\n",
    "for i in range(10,20,2):\n",
    "    print(i)"
   ]
  },
  {
   "cell_type": "code",
   "execution_count": 196,
   "id": "0af301db",
   "metadata": {},
   "outputs": [
    {
     "name": "stdout",
     "output_type": "stream",
     "text": [
      "10\n",
      "12\n",
      "14\n",
      "16\n",
      "18\n",
      "There is nothing to print now\n"
     ]
    }
   ],
   "source": [
    "#else in for\n",
    "for i in range(10,20,2):\n",
    "    \n",
    "    print(i)\n",
    "else:\n",
    "    print(\"There is nothing to print now\")"
   ]
  },
  {
   "cell_type": "code",
   "execution_count": 197,
   "id": "682c695e",
   "metadata": {},
   "outputs": [
    {
     "name": "stdout",
     "output_type": "stream",
     "text": [
      "1\n",
      "2\n",
      "3\n",
      "4\n",
      "5\n",
      "red\n",
      "1\n",
      "2\n",
      "3\n",
      "4\n",
      "5\n",
      "blue\n",
      "1\n",
      "2\n",
      "3\n",
      "4\n",
      "5\n",
      "yellow\n",
      "1\n",
      "2\n",
      "3\n",
      "4\n",
      "5\n",
      "orange\n",
      "1\n",
      "2\n",
      "3\n",
      "4\n",
      "5\n",
      "green\n"
     ]
    }
   ],
   "source": [
    "#Take two list or tuples and use nested for loop\n",
    "\n",
    "list1 = ['red','blue','yellow','orange','green']\n",
    "list2 = [1,2,3,4,5]\n",
    "\n",
    "for i in list1:\n",
    "    for x in list2:\n",
    "        print(x)\n",
    "    print(i)        "
   ]
  },
  {
   "cell_type": "code",
   "execution_count": 198,
   "id": "88a66588",
   "metadata": {},
   "outputs": [
    {
     "name": "stdout",
     "output_type": "stream",
     "text": [
      "list is: [10, 20, 30, 40, 50, 60, 70, 80, 90]\n",
      "10\n",
      "20\n",
      "30\n",
      "40\n",
      "50\n",
      "60\n",
      "70\n",
      "80\n",
      "90\n"
     ]
    }
   ],
   "source": [
    "#printing and removing every third element from list\n",
    "\n",
    "list1 = [10,20,30,40,50,60,70,80,90]\n",
    "\n",
    "print(\"list is:\",list1)\n",
    "index = 0\n",
    "pos = 3-1\n",
    "l = len(list1)\n",
    "while l>0:\n",
    "    index = (pos + index)% 1\n",
    "    print(list1.pop(index))\n",
    "    l = l-1\n"
   ]
  },
  {
   "cell_type": "markdown",
   "id": "91b7c514",
   "metadata": {},
   "source": [
    "# Function"
   ]
  },
  {
   "cell_type": "code",
   "execution_count": 199,
   "id": "eb4d9fee",
   "metadata": {},
   "outputs": [
    {
     "name": "stdout",
     "output_type": "stream",
     "text": [
      "Here this normal  execution  block\n",
      "Calling my function\n",
      "Iam inside the function ..\n",
      "Function execution is over\n"
     ]
    }
   ],
   "source": [
    "print(\"Here this normal  execution  block\")\n",
    "\n",
    "def Myfun():\n",
    "    print(\"Iam inside the function ..\")\n",
    "    \n",
    "print(\"Calling my function\")\n",
    "Myfun()\n",
    "print(\"Function execution is over\")\n"
   ]
  },
  {
   "cell_type": "code",
   "execution_count": 200,
   "id": "99c31e7f",
   "metadata": {},
   "outputs": [
    {
     "name": "stdout",
     "output_type": "stream",
     "text": [
      "Nitin Khot\n"
     ]
    }
   ],
   "source": [
    "# Arguments\n",
    "\n",
    "def Myname(val):\n",
    "    print(val)\n",
    "    \n",
    "val = 'Nitin Khot'\n",
    "Myname(val)"
   ]
  },
  {
   "cell_type": "code",
   "execution_count": 201,
   "id": "2a81f66e",
   "metadata": {},
   "outputs": [
    {
     "name": "stdout",
     "output_type": "stream",
     "text": [
      "Do addition using function:\n",
      "Addition is : 300\n"
     ]
    }
   ],
   "source": [
    "# return values\n",
    "\n",
    "def Add(x,y):\n",
    "    ad = x + y\n",
    "    return ad\n",
    "\n",
    "print(\"Do addition using function:\")\n",
    "a =100\n",
    "b=200\n",
    "\n",
    "result = Add(a,b)\n",
    "\n",
    "print(\"Addition is :\",result)"
   ]
  },
  {
   "cell_type": "code",
   "execution_count": 202,
   "id": "c1b318db",
   "metadata": {},
   "outputs": [
    {
     "name": "stdout",
     "output_type": "stream",
     "text": [
      "Do multiplication:\n",
      "the multiplixcation is : 36\n"
     ]
    }
   ],
   "source": [
    "def multiply(x,y):\n",
    "    m = x*y\n",
    "    return m\n",
    "print(\"Do multiplication:\")\n",
    "\n",
    "x=12\n",
    "y=3\n",
    "\n",
    "res = multiply(x,y)\n",
    "\n",
    "print(\"the multiplixcation is :\",res)"
   ]
  },
  {
   "cell_type": "code",
   "execution_count": 203,
   "id": "526f310e",
   "metadata": {},
   "outputs": [
    {
     "name": "stdout",
     "output_type": "stream",
     "text": [
      "The letter at 2nd loc is : ('a', 'b', 'c', 'd')\n"
     ]
    }
   ],
   "source": [
    "# Unknown Parameters\n",
    "\n",
    "def my_function(*letter):\n",
    "    print(\"The letter at 2nd loc is :\",letter)\n",
    "    \n",
    "my_function(\"a\",\"b\",\"c\",\"d\")    "
   ]
  },
  {
   "cell_type": "code",
   "execution_count": 204,
   "id": "0ec52230",
   "metadata": {},
   "outputs": [
    {
     "name": "stdout",
     "output_type": "stream",
     "text": [
      "The youngest child is : mac\n"
     ]
    }
   ],
   "source": [
    "# argument as key value pair where order does not matter\n",
    "\n",
    "\n",
    "def my_function(child2,child1,child3):\n",
    "    print(\"The youngest child is :\",child1)\n",
    "    \n",
    "my_function(child2  = \"sam\",child1= \"mac\", child3 = \"kat\")    "
   ]
  },
  {
   "cell_type": "code",
   "execution_count": 205,
   "id": "b2d8a302",
   "metadata": {},
   "outputs": [
    {
     "name": "stdout",
     "output_type": "stream",
     "text": [
      "His first name is: Nitin\n"
     ]
    }
   ],
   "source": [
    "# if dont know number of para then add  ** before identifire\n",
    "\n",
    "def my_function(**name):\n",
    "    print(\"His first name is:\",name['fname'])\n",
    "    \n",
    "my_function(fname = \"Nitin\", lname = \"khot\")    "
   ]
  },
  {
   "cell_type": "code",
   "execution_count": 206,
   "id": "c40f61fc",
   "metadata": {},
   "outputs": [
    {
     "name": "stdout",
     "output_type": "stream",
     "text": [
      "The alternate email of student is: \n",
      "The alternate email is : xyz@gmail.com\n",
      "The alternate email is : abc@gmail.com\n",
      "The alternate email is : default@mai.com\n"
     ]
    }
   ],
   "source": [
    "def AltEmail(email = \"default@mai.com\"):\n",
    "    print('The alternate email is :',email)\n",
    "    \n",
    "    \n",
    "print(\"The alternate email of student is: \")\n",
    "\n",
    "AltEmail(\"xyz@gmail.com\")\n",
    "AltEmail(\"abc@gmail.com\")\n",
    "AltEmail()"
   ]
  },
  {
   "cell_type": "markdown",
   "id": "83dd07f8",
   "metadata": {},
   "source": [
    "# Lambda Function"
   ]
  },
  {
   "cell_type": "code",
   "execution_count": 207,
   "id": "6081970f",
   "metadata": {},
   "outputs": [
    {
     "name": "stdout",
     "output_type": "stream",
     "text": [
      "square of 4 is :\n",
      "16\n",
      "square of 10 is:\n"
     ]
    },
    {
     "data": {
      "text/plain": [
       "100"
      ]
     },
     "execution_count": 207,
     "metadata": {},
     "output_type": "execute_result"
    }
   ],
   "source": [
    "# A lamda function which takes an arguments and returns a square of that number\n",
    "\n",
    "square = lambda a: a**2\n",
    "\n",
    "print(\"square of 4 is :\")\n",
    "\n",
    "square(4)\n",
    "print(square(4))\n",
    "print(\"square of 10 is:\")\n",
    "square(10)\n"
   ]
  },
  {
   "cell_type": "code",
   "execution_count": 208,
   "id": "9372fca3",
   "metadata": {},
   "outputs": [
    {
     "name": "stdout",
     "output_type": "stream",
     "text": [
      "The sum of four numbers is:\n"
     ]
    },
    {
     "data": {
      "text/plain": [
       "10"
      ]
     },
     "execution_count": 208,
     "metadata": {},
     "output_type": "execute_result"
    }
   ],
   "source": [
    "# Any number of argument\n",
    "\n",
    "add = lambda a,b,c,d : a+b+c+d\n",
    "\n",
    "print(\"The sum of four numbers is:\")\n",
    "\n",
    "add(1,2,3,4)"
   ]
  },
  {
   "cell_type": "code",
   "execution_count": 209,
   "id": "03d2a45e",
   "metadata": {},
   "outputs": [
    {
     "name": "stdout",
     "output_type": "stream",
     "text": [
      "value of N is: 5\n",
      "100\n"
     ]
    }
   ],
   "source": [
    "# why lambda is powerfull ?\n",
    "# Use it lambda inside another function\n",
    "# Lets understand that it is added with some other unkown  number\n",
    "\n",
    "def my_function(n):\n",
    "    print(\"value of N is:\",n)\n",
    "    return (lambda a: a*n)\n",
    "\n",
    "otherfun = my_function(5)\n",
    "print(otherfun(20))"
   ]
  },
  {
   "cell_type": "code",
   "execution_count": 210,
   "id": "3173844e",
   "metadata": {},
   "outputs": [
    {
     "name": "stdout",
     "output_type": "stream",
     "text": [
      "value of N is: 10\n",
      "200\n"
     ]
    }
   ],
   "source": [
    "otherfun_1 = my_function(10)\n",
    "print(otherfun_1(20))"
   ]
  },
  {
   "cell_type": "markdown",
   "id": "cfdaabb6",
   "metadata": {},
   "source": [
    "# Python Class"
   ]
  },
  {
   "cell_type": "code",
   "execution_count": 211,
   "id": "e9ee0f30",
   "metadata": {},
   "outputs": [],
   "source": [
    "# create a class student\n",
    "\n",
    "class stud:\n",
    "    name = \"Nitin\"    \n",
    "    "
   ]
  },
  {
   "cell_type": "code",
   "execution_count": 212,
   "id": "794e1755",
   "metadata": {},
   "outputs": [
    {
     "name": "stdout",
     "output_type": "stream",
     "text": [
      "Nitin\n",
      "Nitin\n"
     ]
    }
   ],
   "source": [
    "# create object of class student\n",
    "s1 = stud()\n",
    "\n",
    "s = stud()\n",
    "\n",
    "print(s1.name)\n",
    "\n",
    "print(s.name)"
   ]
  },
  {
   "cell_type": "code",
   "execution_count": 213,
   "id": "b42408a1",
   "metadata": {},
   "outputs": [
    {
     "name": "stdout",
     "output_type": "stream",
     "text": [
      "Nitin  BE-Comp  27\n",
      "Rahul  BE-Comp  17\n",
      "datta  BE-Comp  37\n"
     ]
    }
   ],
   "source": [
    "# How the real class works\n",
    "\n",
    "#__init__() function\n",
    "\n",
    "# 1. All classes will have a method called __init__()\n",
    "\n",
    "#2. This function gets called when an object being created.\n",
    "\n",
    "#3. This function is to assign the values to properties of the class.\n",
    "\n",
    "#4. It means that, we can do all operations which are neccessary to do at the time of the object creation.\n",
    "\n",
    "#5. __init__() method get called automatically when an object is initiated .\n",
    "\n",
    "\n",
    "\n",
    "class student :\n",
    "    def __init__(self,name,clas,rollno):\n",
    "        self.name = name\n",
    "        self.clas = clas\n",
    "        self.rollno = rollno\n",
    "        \n",
    "r = student(\"Nitin\", \"BE-Comp\",27) #object creation\n",
    "v =  student(\"Rahul\", \"BE-Comp\",17)\n",
    "n =  student(\"datta\", \"BE-Comp\",37)\n",
    "\n",
    "\n",
    "print(r.name,\"\",r.clas,\"\",r.rollno)\n",
    "\n",
    "print(v.name,\"\",v.clas,\"\",v.rollno)\n",
    "\n",
    "print(n.name,\"\",n.clas,\"\",n.rollno)\n",
    "\n"
   ]
  },
  {
   "cell_type": "code",
   "execution_count": 214,
   "id": "0df9409f",
   "metadata": {},
   "outputs": [
    {
     "name": "stdout",
     "output_type": "stream",
     "text": [
      "name of student is: Rahul\n",
      "clas of student is: BE-Comp\n",
      "rollno of student is: 17\n",
      "Nitin Detail:\n",
      "name of student is: Nitin\n",
      "clas of student is: BE-Comp\n",
      "rollno of student is: 27\n"
     ]
    }
   ],
   "source": [
    "# methods in class \n",
    "# self:\n",
    "# self is default parameter to be used to access \n",
    "#the values in current object \n",
    "# we can give any name instead of the self but it has to be the 1st parameter\n",
    "\n",
    "\n",
    "\n",
    "class Student:\n",
    "    def __init__(self,name,clas,rollno):\n",
    "        self.name = name\n",
    "        self.clas = clas\n",
    "        self.rollno = rollno\n",
    "    \n",
    "    def Display(self):\n",
    "        print(\"name of student is:\",self.name)\n",
    "        print(\"clas of student is:\",self.clas)\n",
    "        print(\"rollno of student is:\",self.rollno)\n",
    "        \n",
    "        \n",
    "r = Student(\"Nitin\", \"BE-Comp\",27) \n",
    "v =  Student(\"Rahul\", \"BE-Comp\",17) \n",
    "\n",
    "v.Display()\n",
    "print(\"Nitin Detail:\")\n",
    "\n",
    "r.Display()"
   ]
  },
  {
   "cell_type": "code",
   "execution_count": 215,
   "id": "73621498",
   "metadata": {},
   "outputs": [
    {
     "name": "stdout",
     "output_type": "stream",
     "text": [
      "name of student is: Nitin\n",
      "clas of student is: BE-Comp\n",
      "rollno of students is: 27\n",
      "\n",
      "\n",
      "Calling display from changename:\n",
      "name of student is: datta\n",
      "clas of student is: BE-Comp\n",
      "rollno of students is: 27\n"
     ]
    }
   ],
   "source": [
    "# Accessing values and modifying it\n",
    "\n",
    "class Student:\n",
    "    def __init__(self,name,clas,rollno):\n",
    "        self.name = name\n",
    "        self.clas = clas\n",
    "        self.rollno = rollno\n",
    "        \n",
    "    def Display(self):\n",
    "        print(\"name of student is:\",self.name)\n",
    "        print(\"clas of student is:\",self.clas)\n",
    "        print(\"rollno of students is:\",self.rollno)\n",
    "        \n",
    "    def ChangeName(self,ch_name):\n",
    "        self.name = ch_name\n",
    "        \n",
    "        print(\"\\n\")\n",
    "        print(\"Calling display from changename:\")\n",
    "        self.Display()\n",
    "        \n",
    "r =  Student(\"Nitin\", \"BE-Comp\",27)\n",
    "\n",
    "r.Display()\n",
    "\n",
    "na= \"datta\"\n",
    "\n",
    "r.ChangeName(na)\n",
    "\n",
    "        "
   ]
  },
  {
   "cell_type": "code",
   "execution_count": 216,
   "id": "c11ddfea",
   "metadata": {},
   "outputs": [
    {
     "name": "stdout",
     "output_type": "stream",
     "text": [
      "name of student is: Nitin\n",
      "clas of student is: BE-Comp\n",
      "rollno of students is: 27\n",
      "\n",
      "\n",
      "Calling display from changeRollno:\n",
      "name of student is: Nitin\n",
      "clas of student is: BE-Comp\n",
      "rollno of students is: 12\n"
     ]
    }
   ],
   "source": [
    "\n",
    "class Student:\n",
    "    def __init__(self,name,clas,rollno):\n",
    "        self.clas = clas\n",
    "        self.name = name \n",
    "        self.rollno = rollno\n",
    "        \n",
    "    def Display(self):\n",
    "        print(\"name of student is:\",self.name)\n",
    "        print(\"clas of student is:\",self.clas)\n",
    "        print(\"rollno of students is:\",self.rollno)\n",
    "        \n",
    "    def ChangeRollno(self,ch_rollno):\n",
    "       \n",
    "        self.rollno = ch_rollno\n",
    "        print(\"\\n\")\n",
    "        print(\"Calling display from changeRollno:\")\n",
    "        self.Display()\n",
    "        \n",
    "r =  Student(\"Nitin\", \"BE-Comp\",27)\n",
    "\n",
    "r.Display()\n",
    "\n",
    "\n",
    "sa=12\n",
    "\n",
    "r.ChangeRollno(sa)\n",
    "        "
   ]
  },
  {
   "cell_type": "markdown",
   "id": "acac88ee",
   "metadata": {},
   "source": [
    "# Inheritance"
   ]
  },
  {
   "cell_type": "code",
   "execution_count": 217,
   "id": "13fc6bf3",
   "metadata": {},
   "outputs": [
    {
     "name": "stdout",
     "output_type": "stream",
     "text": [
      "First Name : Nitin\n",
      "Last name : Khot\n",
      "Nitin\n",
      "Khot\n"
     ]
    }
   ],
   "source": [
    "# Base class \n",
    "\n",
    "class person:\n",
    "    def __init__ (self,fname,lname):\n",
    "        self.fname = fname\n",
    "        self.lname = lname\n",
    "    \n",
    "    def Display(self):\n",
    "        print(\"First Name :\",self.fname)\n",
    "        print(\"Last name :\",self.lname)\n",
    "        #self.Display()\n",
    "        \n",
    "        \n",
    "a = person(\"Nitin\",\"Khot\")\n",
    "a.Display()   \n",
    "print(a.fname)\n",
    "print(a.lname)"
   ]
  },
  {
   "cell_type": "code",
   "execution_count": 218,
   "id": "a1052786",
   "metadata": {},
   "outputs": [
    {
     "name": "stdout",
     "output_type": "stream",
     "text": [
      "First Name : Ajay\n",
      "Last name : Yadav\n"
     ]
    }
   ],
   "source": [
    "# Child Class\n",
    "\n",
    "class student(person):\n",
    "    pass\n",
    "\n",
    "s = student(\"Ajay\",\"Yadav\")\n",
    "s.Display()"
   ]
  },
  {
   "cell_type": "code",
   "execution_count": 219,
   "id": "467b5206",
   "metadata": {},
   "outputs": [
    {
     "name": "stdout",
     "output_type": "stream",
     "text": [
      "First Name : Nitin\n",
      "Last name : Khot\n"
     ]
    }
   ],
   "source": [
    "# Add init method , How does it overrides the init method of base class \n",
    "# Using class name and super() method\n",
    "# Overriding base class init method\n",
    "\n",
    "class student(person):\n",
    "    def __init__(self, fname,lname,mob):\n",
    "        self.fname = fname\n",
    "        self.lname = lname\n",
    "        self.mob = mob\n",
    "    \n",
    "s1 = student(\"Nitin\",\"Khot\",93596)    \n",
    "\n",
    "s1.Display()"
   ]
  },
  {
   "cell_type": "code",
   "execution_count": 220,
   "id": "a6338e89",
   "metadata": {},
   "outputs": [
    {
     "name": "stdout",
     "output_type": "stream",
     "text": [
      "First Name : Nitin\n",
      "Last name : Khot\n",
      "clas name : BE_Comp\n"
     ]
    }
   ],
   "source": [
    "# Add other properties to child class\n",
    "\n",
    "class student(person):\n",
    "    def __init__(self,fname,lname,clas):\n",
    "        person.__init__(self,fname,lname)\n",
    "        self.clas = clas\n",
    "       # self.fname = fname\n",
    "       # self.lname = lname\n",
    "     \n",
    "    def Display_stud(self):\n",
    "        \n",
    "        print(\"First Name :\",self.fname)\n",
    "        print(\"Last name :\",self.lname)\n",
    "        print(\"clas name :\",self.clas)\n",
    "        #self.Display()\n",
    "        \n",
    "s2 = student(\"Nitin\",\"Khot\",\"BE_Comp\")\n",
    "\n",
    "s2.Display_stud()"
   ]
  },
  {
   "cell_type": "markdown",
   "id": "1d38c8b7",
   "metadata": {},
   "source": [
    "# Iterator in Python "
   ]
  },
  {
   "cell_type": "code",
   "execution_count": 221,
   "id": "7f8f17f2",
   "metadata": {},
   "outputs": [
    {
     "name": "stdout",
     "output_type": "stream",
     "text": [
      "<class 'tuple'>\n",
      "1\n",
      "2\n",
      "3\n",
      "4\n"
     ]
    }
   ],
   "source": [
    "# Example of tuple\n",
    "\n",
    "tup = (1,2,3,4,5,6,7,8)\n",
    "\n",
    "print(type(tup))\n",
    "\n",
    "itr = iter(tup) #create an iterator object\n",
    "\n",
    "print(next(itr))\n",
    "print(next(itr))\n",
    "print(next(itr))\n",
    "print(next(itr))\n",
    " \n"
   ]
  },
  {
   "cell_type": "code",
   "execution_count": 222,
   "id": "fd79cf2f",
   "metadata": {},
   "outputs": [
    {
     "name": "stdout",
     "output_type": "stream",
     "text": [
      "<class 'str'>\n",
      " \n",
      "I\n",
      " \n",
      "a\n",
      "m\n",
      " \n",
      "P\n",
      "y\n",
      "t\n",
      " Iterations Using for loop :\n",
      " \n",
      "I\n",
      " \n",
      "a\n",
      "m\n",
      " \n",
      "P\n",
      "y\n",
      "t\n",
      "h\n",
      "o\n",
      "n\n"
     ]
    }
   ],
   "source": [
    "# Exampleof String\n",
    "\n",
    "str1 = \" I am Python\"\n",
    "\n",
    "print(type(str1))\n",
    "\n",
    "itr = iter(str1)\n",
    "\n",
    "print(next(itr))\n",
    "print(next(itr))\n",
    "print(next(itr))\n",
    "print(next(itr))\n",
    "print(next(itr))\n",
    "print(next(itr))\n",
    "print(next(itr))\n",
    "print(next(itr))\n",
    "print(next(itr))\n",
    "\n",
    "print(\" Iterations Using for loop :\")\n",
    "\n",
    "for x in str1 :\n",
    "    print(x)"
   ]
  },
  {
   "cell_type": "code",
   "execution_count": 223,
   "id": "0f0910a1",
   "metadata": {},
   "outputs": [
    {
     "name": "stdout",
     "output_type": "stream",
     "text": [
      "1\n",
      "2\n",
      "3\n",
      "4\n",
      "5\n",
      "6\n",
      "7\n",
      "8\n",
      "9\n"
     ]
    }
   ],
   "source": [
    "# loop on iterables like list\n",
    "# for loop internally creates an iterator object and then it traverse using that object\n",
    "\n",
    "list1 = [1,2,3,4,5,6,7,8,9]\n",
    "\n",
    "for x in list1:\n",
    "    print(x)"
   ]
  },
  {
   "cell_type": "code",
   "execution_count": 224,
   "id": "b4f6d3fd",
   "metadata": {},
   "outputs": [
    {
     "name": "stdout",
     "output_type": "stream",
     "text": [
      "1\n",
      "2\n",
      "3\n",
      "4\n",
      "5\n",
      "6\n",
      "7\n",
      "8\n",
      "9\n",
      "10\n",
      "11\n",
      "12\n",
      "13\n",
      "14\n",
      "15\n",
      "16\n",
      "17\n",
      "18\n",
      "19\n",
      "20\n",
      "21\n",
      "22\n",
      "23\n",
      "24\n",
      "25\n",
      "26\n",
      "27\n",
      "28\n",
      "29\n",
      "30\n",
      "31\n",
      "32\n",
      "33\n",
      "34\n",
      "35\n",
      "36\n",
      "37\n",
      "38\n",
      "39\n",
      "40\n",
      "41\n",
      "42\n",
      "43\n",
      "44\n",
      "45\n",
      "46\n",
      "47\n",
      "48\n",
      "49\n",
      "50\n",
      "51\n",
      "52\n",
      "53\n",
      "54\n",
      "55\n",
      "56\n",
      "57\n",
      "58\n",
      "59\n",
      "60\n",
      "61\n",
      "62\n",
      "63\n",
      "64\n",
      "65\n",
      "66\n",
      "67\n",
      "68\n",
      "69\n",
      "70\n",
      "71\n",
      "72\n",
      "73\n",
      "74\n",
      "75\n",
      "76\n",
      "77\n",
      "78\n",
      "79\n",
      "80\n",
      "81\n",
      "82\n",
      "83\n",
      "84\n",
      "85\n",
      "86\n",
      "87\n",
      "88\n",
      "89\n",
      "90\n",
      "91\n",
      "92\n",
      "93\n",
      "94\n",
      "95\n",
      "96\n",
      "97\n",
      "98\n",
      "99\n",
      "100\n"
     ]
    }
   ],
   "source": [
    "# how does for loop works on iterables\n",
    "# use for loop for demonstration \n",
    "# Print a series of numbers from 1\n",
    "\n",
    "class counter :\n",
    "    def __iter__(self):\n",
    "        self.val = 1\n",
    "        return self\n",
    "    \n",
    "    def __next__(self):\n",
    "        x = self.val\n",
    "        self.val +=1\n",
    "      \n",
    "        if x ==101:\n",
    "            raise StopIteration\n",
    "            \n",
    "        return x\n",
    "    \n",
    "counter = counter()\n",
    "itr = iter(counter)\n",
    "\n",
    "for x in itr:\n",
    "    print(x)\n",
    "    "
   ]
  },
  {
   "cell_type": "markdown",
   "id": "25edc204",
   "metadata": {},
   "source": [
    "# Scope of Variables"
   ]
  },
  {
   "cell_type": "markdown",
   "id": "85f16b69",
   "metadata": {},
   "source": [
    "Two types of scope \n",
    "1. Local\n",
    "2. Global"
   ]
  },
  {
   "cell_type": "code",
   "execution_count": 225,
   "id": "9f2f2fdf",
   "metadata": {},
   "outputs": [
    {
     "name": "stdout",
     "output_type": "stream",
     "text": [
      "200\n",
      "10\n",
      "10\n",
      "printing outside scope 10\n"
     ]
    }
   ],
   "source": [
    "# nested functions and scope\n",
    "\n",
    "z = 200 #Global scope\n",
    "def Myfun():\n",
    "    \n",
    "    \n",
    "    def Display_z():\n",
    "        print(z)\n",
    "        \n",
    "    z = 10 # local scope\n",
    "\n",
    "    print(z)\n",
    "    Display_z()\n",
    "    Display(z)\n",
    "    \n",
    "    \n",
    "def Display(x):\n",
    "    print(\"printing outside scope\",x)\n",
    "    \n",
    "print(z)\n",
    "Myfun()"
   ]
  },
  {
   "cell_type": "code",
   "execution_count": 226,
   "id": "5aee6a45",
   "metadata": {},
   "outputs": [
    {
     "name": "stdout",
     "output_type": "stream",
     "text": [
      "200\n",
      "10\n",
      "10\n",
      "printing outside scope 10\n",
      "3.14\n"
     ]
    }
   ],
   "source": [
    "# function and scope\n",
    "# use of global keyword to declare global scope\n",
    "\n",
    "\n",
    "z = 200 #Global scope\n",
    "def Myfun():\n",
    "    \n",
    "    \n",
    "    def Display_z():\n",
    "        print(z)\n",
    "        \n",
    "    z = 10 # local scope\n",
    "\n",
    "    print(z)\n",
    "    Display_z()\n",
    "    Display(z)\n",
    "    \n",
    "    \n",
    "def Display(x):\n",
    "    global pi\n",
    "    pi = 3.14\n",
    "    print(\"printing outside scope\",x)\n",
    "    \n",
    "    \n",
    "print(z)\n",
    "Myfun()\n",
    "print(pi)"
   ]
  },
  {
   "cell_type": "markdown",
   "id": "9ccfcb58",
   "metadata": {},
   "source": [
    "# Modules"
   ]
  },
  {
   "cell_type": "code",
   "execution_count": 227,
   "id": "087222b5",
   "metadata": {},
   "outputs": [
    {
     "name": "stdout",
     "output_type": "stream",
     "text": [
      "Linux\n"
     ]
    }
   ],
   "source": [
    "# importing modules with alias name\n",
    "# like import mymodule as mm\n",
    "#you can also use other built module like \n",
    "\n",
    "\n",
    "import platform\n",
    " \n",
    "op_sys = platform.system() \n",
    "\n",
    "print(op_sys)"
   ]
  },
  {
   "cell_type": "markdown",
   "id": "50004202",
   "metadata": {},
   "source": [
    "# Datetime"
   ]
  },
  {
   "cell_type": "code",
   "execution_count": 228,
   "id": "8bc57364",
   "metadata": {},
   "outputs": [
    {
     "name": "stdout",
     "output_type": "stream",
     "text": [
      "2022-01-19 18:25:02.856923\n"
     ]
    }
   ],
   "source": [
    "import datetime as dt\n",
    "x = dt.datetime.now()\n",
    "print(x)"
   ]
  },
  {
   "cell_type": "code",
   "execution_count": 229,
   "id": "c7cfa72e",
   "metadata": {},
   "outputs": [
    {
     "name": "stdout",
     "output_type": "stream",
     "text": [
      "2022-01-19 18:25:03.081741\n"
     ]
    }
   ],
   "source": [
    "import datetime \n",
    "x = datetime.datetime.now()\n",
    "print(x)"
   ]
  },
  {
   "cell_type": "code",
   "execution_count": 230,
   "id": "94177953",
   "metadata": {},
   "outputs": [
    {
     "name": "stdout",
     "output_type": "stream",
     "text": [
      "9999\n"
     ]
    }
   ],
   "source": [
    "print(datetime.MAXYEAR)"
   ]
  },
  {
   "cell_type": "code",
   "execution_count": 231,
   "id": "76ed0478",
   "metadata": {},
   "outputs": [
    {
     "name": "stdout",
     "output_type": "stream",
     "text": [
      "1\n"
     ]
    }
   ],
   "source": [
    "print(datetime.MINYEAR)"
   ]
  },
  {
   "cell_type": "code",
   "execution_count": 232,
   "id": "2fc5a40e",
   "metadata": {},
   "outputs": [
    {
     "name": "stdout",
     "output_type": "stream",
     "text": [
      "2022\n",
      "1\n",
      "19\n",
      "01\n"
     ]
    }
   ],
   "source": [
    "x = dt.datetime.now()\n",
    "\n",
    "print(x.year)\n",
    "print(x.month)\n",
    "print(x.day)\n",
    "print(x.strftime('%m'))"
   ]
  },
  {
   "cell_type": "code",
   "execution_count": 233,
   "id": "d4f91ee7",
   "metadata": {},
   "outputs": [
    {
     "name": "stdout",
     "output_type": "stream",
     "text": [
      "2021-12-14 00:00:00\n"
     ]
    }
   ],
   "source": [
    "# datetime() class takes 3 mandatory parameters and hour ,minute, seconds ,\n",
    "# microseconds and tzone as optional parameters .\n",
    "# all takes default value of 0 and tzone takes none values as default\n",
    "\n",
    "dt_ = dt.datetime(2021,12,14)\n",
    "\n",
    "print(dt_)"
   ]
  },
  {
   "cell_type": "markdown",
   "id": "ccd730c5",
   "metadata": {},
   "source": [
    "# Python Math Function"
   ]
  },
  {
   "cell_type": "code",
   "execution_count": 234,
   "id": "aacbd7c8",
   "metadata": {},
   "outputs": [
    {
     "name": "stdout",
     "output_type": "stream",
     "text": [
      "45\n"
     ]
    }
   ],
   "source": [
    "x = min (123,45,234)\n",
    "print(x)"
   ]
  },
  {
   "cell_type": "code",
   "execution_count": 235,
   "id": "5bc80a42",
   "metadata": {},
   "outputs": [
    {
     "name": "stdout",
     "output_type": "stream",
     "text": [
      "45\n"
     ]
    }
   ],
   "source": [
    "n = min(123,45,234)\n",
    "print(n)"
   ]
  },
  {
   "cell_type": "code",
   "execution_count": 236,
   "id": "ce162717",
   "metadata": {},
   "outputs": [
    {
     "name": "stdout",
     "output_type": "stream",
     "text": [
      "234\n"
     ]
    }
   ],
   "source": [
    "m = max(123,45,234)\n",
    "print(m)"
   ]
  },
  {
   "cell_type": "code",
   "execution_count": 237,
   "id": "7df58f65",
   "metadata": {},
   "outputs": [
    {
     "name": "stdout",
     "output_type": "stream",
     "text": [
      "123\n"
     ]
    }
   ],
   "source": [
    "# Returns absulute positive value \n",
    "\n",
    "x = abs(-123)\n",
    "print(x)"
   ]
  },
  {
   "cell_type": "code",
   "execution_count": 238,
   "id": "72eb26d0",
   "metadata": {},
   "outputs": [
    {
     "name": "stdout",
     "output_type": "stream",
     "text": [
      "8000\n"
     ]
    }
   ],
   "source": [
    "#power function\n",
    "\n",
    "x = pow(20,3)\n",
    "print(x)"
   ]
  },
  {
   "cell_type": "markdown",
   "id": "c81563b7",
   "metadata": {},
   "source": [
    "# Math Module"
   ]
  },
  {
   "cell_type": "code",
   "execution_count": 239,
   "id": "f007eeda",
   "metadata": {},
   "outputs": [
    {
     "name": "stdout",
     "output_type": "stream",
     "text": [
      "square root : 25.0\n",
      "floor: 200\n",
      "ceil: 124\n",
      "200\n",
      "13\n",
      "Eulers Number: 2.718281828459045\n",
      "pi :  3.141592653589793\n",
      "<class 'float'>\n",
      "nan\n"
     ]
    }
   ],
   "source": [
    "import math as m\n",
    "\n",
    "\n",
    "\n",
    "val = m.sqrt(625)\n",
    "print(\"square root :\",val)\n",
    "\n",
    "val = m.floor(200.45)\n",
    "print(\"floor:\",val)\n",
    "     \n",
    "val = m.ceil(123.34)\n",
    "print(\"ceil:\",val)\n",
    "\n",
    "\n",
    "y = m.floor(200.12)\n",
    "print(y)\n",
    "\n",
    "z = m.ceil(12.5)\n",
    "print(z)\n",
    "\n",
    "eulers_no = m.e\n",
    "print(\"Eulers Number:\",eulers_no)\n",
    "\n",
    "p = m.pi\n",
    "\n",
    "print(\"pi : \",p)\n",
    "\n",
    "val = m.nan\n",
    "print(type(val))\n",
    "print(m.nan)"
   ]
  },
  {
   "cell_type": "markdown",
   "id": "0413fefe",
   "metadata": {},
   "source": [
    "# JSON"
   ]
  },
  {
   "cell_type": "code",
   "execution_count": 240,
   "id": "cda9c078",
   "metadata": {},
   "outputs": [],
   "source": [
    "import json"
   ]
  },
  {
   "cell_type": "code",
   "execution_count": 241,
   "id": "1167b07b",
   "metadata": {},
   "outputs": [
    {
     "name": "stdout",
     "output_type": "stream",
     "text": [
      "{\"Name\":\"Nitin\",\"city\":\"Pune\",\"mob\":9359682576,\"job\":\"data scientist\"}\n",
      "<class 'str'>\n",
      "{'Name': 'Nitin', 'city': 'Pune', 'mob': 9359682576, 'job': 'data scientist'}\n",
      "<class 'dict'>\n"
     ]
    }
   ],
   "source": [
    "# conversion of jason to python\n",
    "\n",
    "#json object\n",
    "\n",
    "student  = '{\"Name\":\"Nitin\",\"city\":\"Pune\",\"mob\":9359682576,\"job\":\"data scientist\"}'\n",
    "\n",
    "print(student)\n",
    "print(type(student))\n",
    "\n",
    "stud = json.loads(student)\n",
    "\n",
    "print(stud)\n",
    "print(type(stud))"
   ]
  },
  {
   "cell_type": "code",
   "execution_count": 242,
   "id": "b24639a0",
   "metadata": {},
   "outputs": [
    {
     "name": "stdout",
     "output_type": "stream",
     "text": [
      "<class 'dict'>\n",
      "{'Name': 'Nitin', 'Email_id': 'abc@gmail.com', 'job': 'Data Scintist', 'emp_id': 12, 'salary': 100000}\n",
      "12\n",
      "{\n",
      "{\"Name\": \"Nitin\", \"Email_id\": \"abc@gmail.com\", \"job\": \"Data Scintist\", \"emp_id\": 12, \"salary\": 100000}\n",
      "<class 'str'>\n"
     ]
    }
   ],
   "source": [
    "employee = {\n",
    "    \"Name\" : \"Nitin\",\n",
    "    \"Email_id\" :\"abc@gmail.com\",\n",
    "    \"job\" : \"Data Scintist\",\n",
    "    \"emp_id\" : 12,\n",
    "    \"salary\" : 100000\n",
    "    \n",
    "}\n",
    "\n",
    "print(type(employee))\n",
    "print(employee)\n",
    "\n",
    "# Access the Dictionary\n",
    "\n",
    "print(employee[\"emp_id\"])\n",
    "\n",
    "emp_json = json.dumps(employee)\n",
    "\n",
    "print(emp_json[0])\n",
    "print(emp_json)\n",
    "print(type(emp_json))"
   ]
  },
  {
   "cell_type": "code",
   "execution_count": 243,
   "id": "43bce5d1",
   "metadata": {},
   "outputs": [
    {
     "name": "stdout",
     "output_type": "stream",
     "text": [
      "<class 'tuple'>\n",
      "(1, 2, 3, 4, 5, 6)\n",
      "<class 'str'>\n",
      "[1, 2, 3, 4, 5, 6]\n"
     ]
    }
   ],
   "source": [
    "# apply on tuple\n",
    "\n",
    "tup = (1,2,3,4,5,6)\n",
    "\n",
    "print(type(tup))\n",
    "print(tup)\n",
    "\n",
    "\n",
    "tup_json = json.dumps(tup)\n",
    "\n",
    "print(type(tup_json))\n",
    "print(tup_json)"
   ]
  },
  {
   "cell_type": "code",
   "execution_count": 244,
   "id": "00267194",
   "metadata": {},
   "outputs": [
    {
     "data": {
      "text/plain": [
       "'[1, 2, 3, 4, 5, 6]'"
      ]
     },
     "execution_count": 244,
     "metadata": {},
     "output_type": "execute_result"
    }
   ],
   "source": [
    "tup_json"
   ]
  },
  {
   "cell_type": "markdown",
   "id": "ef477723",
   "metadata": {},
   "source": [
    "# Result Formtting"
   ]
  },
  {
   "cell_type": "code",
   "execution_count": 245,
   "id": "8e1bf3af",
   "metadata": {},
   "outputs": [
    {
     "name": "stdout",
     "output_type": "stream",
     "text": [
      "{\n",
      "    \"Name\": \"Nitin\",\n",
      "    \"age\": 21,\n",
      "    \"vegeterian\": true,\n",
      "    \"non_veg\": false,\n",
      "    \"food\": [\n",
      "        \"paneer\",\n",
      "        \"kabab\"\n",
      "    ],\n",
      "    \"owns_chopper\": \"none\"\n",
      "}\n"
     ]
    }
   ],
   "source": [
    "import json\n",
    "\n",
    "x = {\n",
    "    \"Name\":\"Nitin\",\n",
    "    \"age\":21,\n",
    "    \"vegeterian\":True,\n",
    "    \"non_veg\":False,\n",
    "    \"food\":(\"paneer\",\"kabab\"),\n",
    "    \"owns_chopper\":\"none\"\n",
    "    \n",
    "}\n",
    "print(json.dumps(x,indent=4))"
   ]
  },
  {
   "cell_type": "code",
   "execution_count": 246,
   "id": "2a279c1f",
   "metadata": {},
   "outputs": [
    {
     "name": "stdout",
     "output_type": "stream",
     "text": [
      "{\n",
      "    \"Name\"=\"Nitin\"-\n",
      "    \"age\"=21-\n",
      "    \"vegeterian\"=true-\n",
      "    \"non_veg\"=false-\n",
      "    \"food\"=[\n",
      "        \"paneer\"-\n",
      "        \"kabab\"\n",
      "    ]-\n",
      "    \"owns_chopper\"=\"none\"\n",
      "}\n"
     ]
    }
   ],
   "source": [
    "import json\n",
    "\n",
    "x = {\n",
    "    \"Name\":\"Nitin\",\n",
    "    \"age\":21,\n",
    "    \"vegeterian\":True,\n",
    "    \"non_veg\":False,\n",
    "    \"food\":(\"paneer\",\"kabab\"),\n",
    "    \"owns_chopper\":\"none\"\n",
    "    \n",
    "}\n",
    "print(json.dumps(x,indent=4,separators=(\"-\",\"=\")))"
   ]
  },
  {
   "cell_type": "code",
   "execution_count": 247,
   "id": "6bfef67b",
   "metadata": {},
   "outputs": [
    {
     "name": "stdout",
     "output_type": "stream",
     "text": [
      "{\n",
      "    \"Name\"=\"Nitin\",\n",
      "    \"age\"=21,\n",
      "    \"food\"=[\n",
      "        \"paneer\",\n",
      "        \"kabab\"\n",
      "    ],\n",
      "    \"non_veg\"=false,\n",
      "    \"owns_chopper\"=\"none\",\n",
      "    \"vegeterian\"=true\n",
      "}\n"
     ]
    }
   ],
   "source": [
    "import json\n",
    "\n",
    "x = {\n",
    "    \"Name\":\"Nitin\",\n",
    "    \"age\":21,\n",
    "    \"vegeterian\":True,\n",
    "    \"non_veg\":False,\n",
    "    \"food\":(\"paneer\",\"kabab\"),\n",
    "    \"owns_chopper\":\"none\"\n",
    "    \n",
    "}\n",
    "print(json.dumps(x,indent=4, separators=(\",\",\"=\"),sort_keys= True))"
   ]
  },
  {
   "cell_type": "markdown",
   "id": "3f005ee8",
   "metadata": {},
   "source": [
    "# RegEx or Regular Expression"
   ]
  },
  {
   "cell_type": "code",
   "execution_count": 248,
   "id": "91ca3ce9",
   "metadata": {},
   "outputs": [],
   "source": [
    "import re"
   ]
  },
  {
   "cell_type": "code",
   "execution_count": 249,
   "id": "c7d56357",
   "metadata": {},
   "outputs": [
    {
     "name": "stdout",
     "output_type": "stream",
     "text": [
      "(0, 64)\n",
      "0\n",
      "64\n",
      "The python programming was developed in 1991 by Guido Van Rossom\n",
      "The python programming was developed in 1991 by Guido Van Rossom\n",
      "Yes string starts with 'The' and Ends with 'Rossom'\n"
     ]
    }
   ],
   "source": [
    "txt = \"The python programming was developed in 1991 by Guido Van Rossom\"\n",
    "\n",
    "x = re.search(\"^The.*Rossom$\",txt)\n",
    "\n",
    "#RegEx : ^The.*Rossom$\n",
    "# ^  -start with 'The'\n",
    "#. - Any character\n",
    "#* - Any number of occurance\n",
    "# $ - Ends with 'Rossom'\n",
    "# x- match object\n",
    "\n",
    "#Match  object\n",
    "\n",
    "print(x.span())\n",
    "#it returns the tuple(start,end)of the match object\n",
    "\n",
    "print(x.start())\n",
    "#it teturns the start location of the match object\n",
    "\n",
    "\n",
    "print(x.end())\n",
    "#it returns the end location of match object\n",
    "\n",
    "\n",
    "print(x.string)\n",
    "#input string to match object\n",
    "\n",
    "print(x.group())\n",
    "\n",
    "#search pattern which matched in string \n",
    "\n",
    "\n",
    "\n",
    "if x:\n",
    "    print(\"Yes string starts with 'The' and Ends with 'Rossom'\")\n",
    "else:\n",
    "    print(\"Doesn't have match\")"
   ]
  },
  {
   "cell_type": "code",
   "execution_count": 250,
   "id": "74c9d5ee",
   "metadata": {},
   "outputs": [
    {
     "name": "stdout",
     "output_type": "stream",
     "text": [
      "['e', 'e', 'e', 'e']\n",
      "4\n"
     ]
    }
   ],
   "source": [
    "# findall function returns the list of all matches\n",
    "\n",
    "txt = \"The python programming was developed in 1991 by Guido Van Rossom\"\n",
    "\n",
    "x = re.findall(\"e\",txt)\n",
    "\n",
    "print(x)\n",
    "print(len(x))"
   ]
  },
  {
   "cell_type": "code",
   "execution_count": 251,
   "id": "d4a39bd8",
   "metadata": {},
   "outputs": [
    {
     "data": {
      "text/plain": [
       "[1, 4, 6]"
      ]
     },
     "execution_count": 251,
     "metadata": {},
     "output_type": "execute_result"
    }
   ],
   "source": [
    "# Program to find the list of words and its occurence in a string\n",
    "\n",
    "def count_char():\n",
    "    count = []\n",
    "    import re\n",
    "    l = ['The','e','o']\n",
    "    txt = \"The python programming was developed in 1991 by Guido Van Rossom\"\n",
    "    for i in l:\n",
    "        cnt = re.findall(i,txt)\n",
    "        \n",
    "        count.append(len(cnt))\n",
    "    return count\n",
    "count_char()"
   ]
  },
  {
   "cell_type": "code",
   "execution_count": 252,
   "id": "3aa23ce1",
   "metadata": {},
   "outputs": [
    {
     "name": "stdout",
     "output_type": "stream",
     "text": [
      "The first white-space character is located in position: 8\n"
     ]
    }
   ],
   "source": [
    "#search returns the first occurance of the match\n",
    "\n",
    "txt = \"The python programming\"\n",
    "x =re.search(\"o\",txt)\n",
    "\n",
    "#x is a match object\n",
    "print(\"The first white-space character is located in position:\", x.start())"
   ]
  },
  {
   "cell_type": "code",
   "execution_count": 253,
   "id": "3d618951",
   "metadata": {},
   "outputs": [
    {
     "name": "stdout",
     "output_type": "stream",
     "text": [
      "The first white-space character is located in position: 3\n"
     ]
    }
   ],
   "source": [
    "txt = \"The rain in spain\"\n",
    "x = re.search(\"\\s\",txt)\n",
    "print(\"The first white-space character is located in position:\", x.start())"
   ]
  },
  {
   "cell_type": "code",
   "execution_count": 254,
   "id": "58665b57",
   "metadata": {},
   "outputs": [
    {
     "name": "stdout",
     "output_type": "stream",
     "text": [
      "['The', 'python', 'programming', 'was', 'developed', 'in', '1991', 'by', 'Guido', 'Van', 'Rossom']\n"
     ]
    }
   ],
   "source": [
    "# split function split the string using given pattern\n",
    "\n",
    "txt = \"The python programming was developed in 1991 by Guido Van Rossom\"\n",
    "x = re.split(\"\\s\",txt)\n",
    "\n",
    "\n",
    "print(x)\n",
    "\n"
   ]
  },
  {
   "cell_type": "code",
   "execution_count": 255,
   "id": "ac938033",
   "metadata": {},
   "outputs": [
    {
     "name": "stdout",
     "output_type": "stream",
     "text": [
      "['The', 'python', 'programming', 'was developed in 1991 by Guido Van Rossom']\n"
     ]
    }
   ],
   "source": [
    "# split the string at its first occurance\n",
    "\n",
    "txt = \"The python programming was developed in 1991 by Guido Van Rossom\"\n",
    "x = re.split(\"\\s\",txt,3)\n",
    "print(x)\n"
   ]
  },
  {
   "cell_type": "code",
   "execution_count": 256,
   "id": "3a5f2819",
   "metadata": {},
   "outputs": [
    {
     "name": "stdout",
     "output_type": "stream",
     "text": [
      "The_python_programming_was_developed_in_1991_by_Guido_Van_Rossom\n"
     ]
    }
   ],
   "source": [
    "# sub function replaces the matches with the text of your choice\n",
    "\n",
    "txt = \"The python programming was developed in 1991 by Guido Van Rossom\"\n",
    "x = re.sub(\"\\s\",\"_\",txt)\n",
    "\n",
    "\n",
    "print(x)\n"
   ]
  },
  {
   "cell_type": "code",
   "execution_count": 257,
   "id": "9cb10611",
   "metadata": {},
   "outputs": [
    {
     "name": "stdout",
     "output_type": "stream",
     "text": [
      "The_python_programming_was_developed in 1991 by Guido Van Rossom\n"
     ]
    }
   ],
   "source": [
    "txt = \"The python programming was developed in 1991 by Guido Van Rossom\"\n",
    "x = re.sub(\"\\s\",\"_\",txt,4)\n",
    "\n",
    "\n",
    "print(x)"
   ]
  },
  {
   "cell_type": "code",
   "execution_count": 258,
   "id": "4a631bb2",
   "metadata": {},
   "outputs": [
    {
     "name": "stdout",
     "output_type": "stream",
     "text": [
      "(23, 26)\n",
      "23\n",
      "26\n",
      "The python programming was developed in 1991 by Guido Van Rossom\n",
      "was\n"
     ]
    }
   ],
   "source": [
    "txt = \"The python programming was developed in 1991 by Guido Van Rossom\"\n",
    "\n",
    "x = re.search(\"\\was\",txt)\n",
    "print(x.span())\n",
    "print(x.start())\n",
    "print(x.end())\n",
    "print(x.string)\n",
    "print(x.group())\n"
   ]
  },
  {
   "cell_type": "markdown",
   "id": "c791ee50",
   "metadata": {},
   "source": [
    "# Exception Handling in Python"
   ]
  },
  {
   "cell_type": "code",
   "execution_count": 259,
   "id": "a5436228",
   "metadata": {},
   "outputs": [
    {
     "name": "stdout",
     "output_type": "stream",
     "text": [
      "1\n",
      "2\n",
      "3\n",
      "4\n"
     ]
    },
    {
     "ename": "IndexError",
     "evalue": "list index out of range",
     "output_type": "error",
     "traceback": [
      "\u001b[0;31m---------------------------------------------------------------------------\u001b[0m",
      "\u001b[0;31mIndexError\u001b[0m                                Traceback (most recent call last)",
      "\u001b[0;32m<ipython-input-259-b5e2db8e7aa7>\u001b[0m in \u001b[0;36m<module>\u001b[0;34m\u001b[0m\n\u001b[1;32m      4\u001b[0m \u001b[0ml\u001b[0m \u001b[0;34m=\u001b[0m \u001b[0;34m[\u001b[0m\u001b[0;36m1\u001b[0m\u001b[0;34m,\u001b[0m\u001b[0;36m2\u001b[0m\u001b[0;34m,\u001b[0m\u001b[0;36m3\u001b[0m\u001b[0;34m,\u001b[0m\u001b[0;36m4\u001b[0m\u001b[0;34m]\u001b[0m\u001b[0;34m\u001b[0m\u001b[0;34m\u001b[0m\u001b[0m\n\u001b[1;32m      5\u001b[0m \u001b[0;32mfor\u001b[0m \u001b[0mx\u001b[0m \u001b[0;32min\u001b[0m \u001b[0mrange\u001b[0m\u001b[0;34m(\u001b[0m\u001b[0;36m0\u001b[0m\u001b[0;34m,\u001b[0m\u001b[0;36m5\u001b[0m\u001b[0;34m)\u001b[0m\u001b[0;34m:\u001b[0m\u001b[0;34m\u001b[0m\u001b[0;34m\u001b[0m\u001b[0m\n\u001b[0;32m----> 6\u001b[0;31m     \u001b[0mprint\u001b[0m\u001b[0;34m(\u001b[0m\u001b[0ml\u001b[0m\u001b[0;34m[\u001b[0m\u001b[0mx\u001b[0m\u001b[0;34m]\u001b[0m\u001b[0;34m)\u001b[0m\u001b[0;34m\u001b[0m\u001b[0;34m\u001b[0m\u001b[0m\n\u001b[0m",
      "\u001b[0;31mIndexError\u001b[0m: list index out of range"
     ]
    }
   ],
   "source": [
    "# while True print (\"Hello\")\n",
    "# Errors detected during execution are called exceptions\n",
    "\n",
    "l = [1,2,3,4]\n",
    "for x in range(0,5):\n",
    "    print(l[x])"
   ]
  },
  {
   "cell_type": "code",
   "execution_count": 260,
   "id": "22e8adfc",
   "metadata": {},
   "outputs": [
    {
     "name": "stdout",
     "output_type": "stream",
     "text": [
      "Enter the number:nitin\n",
      "oops! that is invalid number.  Try again...\n",
      "Enter the number:4\n"
     ]
    }
   ],
   "source": [
    "while True:\n",
    "    try:\n",
    "        x = int(input(\"Enter the number:\"))\n",
    "        break\n",
    "    except ValueError:\n",
    "            print(\"oops! that is invalid number.  Try again...\")"
   ]
  },
  {
   "cell_type": "code",
   "execution_count": 261,
   "id": "5a181beb",
   "metadata": {},
   "outputs": [
    {
     "name": "stdout",
     "output_type": "stream",
     "text": [
      "some error occured\n"
     ]
    }
   ],
   "source": [
    "#valueError\n",
    "\n",
    "try:\n",
    "    print(value)\n",
    "    \n",
    "except IndexError:\n",
    "    print(\"variable not declared \")\n",
    "    \n",
    "except:\n",
    "    print(\"some error occured\")"
   ]
  },
  {
   "cell_type": "code",
   "execution_count": 262,
   "id": "2178978b",
   "metadata": {},
   "outputs": [
    {
     "name": "stdout",
     "output_type": "stream",
     "text": [
      "1\n",
      "2\n",
      "3\n",
      "4\n",
      "5\n",
      "something went wrong\n"
     ]
    }
   ],
   "source": [
    "#for i in range (0,6)\n",
    "\n",
    "try:\n",
    "    l = [1,2,3,4,5]\n",
    "    for i in range (0,6):\n",
    "        print(l[i])\n",
    "        \n",
    "except:\n",
    "    print(\"something went wrong\")\n",
    "    \n",
    "else:\n",
    "    print(\"There was no error in try block\")"
   ]
  },
  {
   "cell_type": "code",
   "execution_count": 263,
   "id": "df264d7b",
   "metadata": {},
   "outputs": [
    {
     "name": "stdout",
     "output_type": "stream",
     "text": [
      "10\n",
      "This is finally block : to be executed mandatory\n"
     ]
    }
   ],
   "source": [
    "z = 10\n",
    "try:\n",
    "    print(z)\n",
    "except:\n",
    "    print(\"something went wrong\")\n",
    "finally:\n",
    "    print(\"This is finally block : to be executed mandatory\")"
   ]
  },
  {
   "cell_type": "code",
   "execution_count": 264,
   "id": "3a4c5d7e",
   "metadata": {},
   "outputs": [
    {
     "ename": "Exception",
     "evalue": "Sorry, no members below zero",
     "output_type": "error",
     "traceback": [
      "\u001b[0;31m---------------------------------------------------------------------------\u001b[0m",
      "\u001b[0;31mException\u001b[0m                                 Traceback (most recent call last)",
      "\u001b[0;32m<ipython-input-264-a5f7477b0393>\u001b[0m in \u001b[0;36m<module>\u001b[0;34m\u001b[0m\n\u001b[1;32m      4\u001b[0m \u001b[0;34m\u001b[0m\u001b[0m\n\u001b[1;32m      5\u001b[0m \u001b[0;32mif\u001b[0m \u001b[0mx\u001b[0m\u001b[0;34m<\u001b[0m\u001b[0;36m0\u001b[0m\u001b[0;34m:\u001b[0m\u001b[0;34m\u001b[0m\u001b[0;34m\u001b[0m\u001b[0m\n\u001b[0;32m----> 6\u001b[0;31m     \u001b[0;32mraise\u001b[0m \u001b[0mException\u001b[0m\u001b[0;34m(\u001b[0m\u001b[0;34m\"Sorry, no members below zero\"\u001b[0m\u001b[0;34m)\u001b[0m\u001b[0;34m\u001b[0m\u001b[0;34m\u001b[0m\u001b[0m\n\u001b[0m",
      "\u001b[0;31mException\u001b[0m: Sorry, no members below zero"
     ]
    }
   ],
   "source": [
    "#Raise an error and stop the program if is lower than 0:\n",
    "\n",
    "x  = -1\n",
    "\n",
    "if x<0:\n",
    "    raise Exception(\"Sorry, no members below zero\")"
   ]
  },
  {
   "cell_type": "code",
   "execution_count": 265,
   "id": "0648fe69",
   "metadata": {},
   "outputs": [
    {
     "ename": "TypeError",
     "evalue": "Only integers are allowed",
     "output_type": "error",
     "traceback": [
      "\u001b[0;31m---------------------------------------------------------------------------\u001b[0m",
      "\u001b[0;31mTypeError\u001b[0m                                 Traceback (most recent call last)",
      "\u001b[0;32m<ipython-input-265-b4f59f4f60e0>\u001b[0m in \u001b[0;36m<module>\u001b[0;34m\u001b[0m\n\u001b[1;32m      2\u001b[0m \u001b[0;34m\u001b[0m\u001b[0m\n\u001b[1;32m      3\u001b[0m \u001b[0;32mif\u001b[0m \u001b[0;32mnot\u001b[0m \u001b[0mtype\u001b[0m\u001b[0;34m(\u001b[0m\u001b[0mx\u001b[0m\u001b[0;34m)\u001b[0m\u001b[0;32mis\u001b[0m \u001b[0mint\u001b[0m\u001b[0;34m:\u001b[0m\u001b[0;34m\u001b[0m\u001b[0;34m\u001b[0m\u001b[0m\n\u001b[0;32m----> 4\u001b[0;31m     \u001b[0;32mraise\u001b[0m \u001b[0mTypeError\u001b[0m\u001b[0;34m(\u001b[0m\u001b[0;34m\"Only integers are allowed\"\u001b[0m\u001b[0;34m)\u001b[0m\u001b[0;34m\u001b[0m\u001b[0;34m\u001b[0m\u001b[0m\n\u001b[0m",
      "\u001b[0;31mTypeError\u001b[0m: Only integers are allowed"
     ]
    }
   ],
   "source": [
    "x = \"hello\"\n",
    "\n",
    "if not type(x)is int:\n",
    "    raise TypeError(\"Only integers are allowed\")"
   ]
  },
  {
   "cell_type": "markdown",
   "id": "ec5259eb",
   "metadata": {},
   "source": [
    "# String Formatting"
   ]
  },
  {
   "cell_type": "code",
   "execution_count": 266,
   "id": "73bd8ade",
   "metadata": {},
   "outputs": [
    {
     "name": "stdout",
     "output_type": "stream",
     "text": [
      "The value is 100\n",
      "The values of p is 100\n"
     ]
    }
   ],
   "source": [
    "p = 100\n",
    "\n",
    "txt = \"The value is {}\"\n",
    "\n",
    "print(txt.format(p))\n",
    "\n",
    "print(\"The values of p is {}\".format(p))"
   ]
  },
  {
   "cell_type": "code",
   "execution_count": 267,
   "id": "6f082d00",
   "metadata": {},
   "outputs": [
    {
     "name": "stdout",
     "output_type": "stream",
     "text": [
      "The value is 100.00\n"
     ]
    }
   ],
   "source": [
    "p = 100\n",
    "txt = \"The value is {:.2f}\"\n",
    "\n",
    "print(txt.format(p))"
   ]
  },
  {
   "cell_type": "code",
   "execution_count": 268,
   "id": "4474a3d5",
   "metadata": {},
   "outputs": [
    {
     "name": "stdout",
     "output_type": "stream",
     "text": [
      "I want 4 pieces of itemno 300 for 40.000000 rupees\n"
     ]
    }
   ],
   "source": [
    "quantity = 4\n",
    "itemno = 300\n",
    "price =40\n",
    "\n",
    "print(\"I want {} pieces of itemno {} for {:2f} rupees\".format(quantity,itemno,price))"
   ]
  },
  {
   "cell_type": "code",
   "execution_count": 269,
   "id": "9793f941",
   "metadata": {},
   "outputs": [
    {
     "name": "stdout",
     "output_type": "stream",
     "text": [
      "I want 4 pieces of itemno 300 for 40.000000 rupees\n"
     ]
    }
   ],
   "source": [
    "quantity = 4\n",
    "itemno = 300\n",
    "price =40\n",
    "\n",
    "print(\"I want {0} pieces of itemno {1} for {2:2f} rupees\".format(quantity,itemno,price))"
   ]
  },
  {
   "cell_type": "code",
   "execution_count": 270,
   "id": "4bd8fecb",
   "metadata": {},
   "outputs": [
    {
     "name": "stdout",
     "output_type": "stream",
     "text": [
      "His name is Nitin.Nitin is 21 years old. \n"
     ]
    }
   ],
   "source": [
    "age = 21\n",
    "name = \"Nitin\"\n",
    "txt = \"His name is {1}.{1} is {0} years old. \"\n",
    "\n",
    "print(txt.format(age,name))"
   ]
  },
  {
   "cell_type": "code",
   "execution_count": 271,
   "id": "a77ef364",
   "metadata": {},
   "outputs": [
    {
     "name": "stdout",
     "output_type": "stream",
     "text": [
      "I have a ford , it is a mustang \n"
     ]
    }
   ],
   "source": [
    "brand = \"ford\"\n",
    "mod = \"mustang\"\n",
    "\n",
    "myorder = \"I have a {carname} , it is a {model} \"\n",
    "print(myorder.format(model = mod,carname = brand))"
   ]
  },
  {
   "cell_type": "markdown",
   "id": "efa48c53",
   "metadata": {},
   "source": [
    "# Python File Handling"
   ]
  },
  {
   "cell_type": "markdown",
   "id": "4f851ed4",
   "metadata": {},
   "source": [
    "# Open File\n",
    "\n",
    "The open() function:The open() function takes two parameters\n",
    "\n",
    "1. filename\n",
    "2.mode of opening a file.\n",
    "\n",
    "There are four different modes to open to file:\n",
    "\n",
    "\n",
    "        \"r\" = Read - Default value. opens in reading mode,gives error if file mot exists\n",
    "        \n",
    "        \"a\" = Append - Opens in appending mode, Creates new file if it does not exists\n",
    "        \n",
    "        \"w\" = Write - Opens in writing mode,Creates new file if it does not exists\n",
    "        \n",
    "        \"x\" = Create - Creates the specified file, Gives an error if the file is already exists\n",
    "        \n",
    "        "
   ]
  },
  {
   "cell_type": "markdown",
   "id": "b09171c1",
   "metadata": {},
   "source": [
    "# Reading a File\n",
    "\n",
    "Functions we use to handle files:\n",
    "        \n",
    "        read() - To read files - read all contents\n",
    "        readline()- To read contents line by line \n",
    "        close() - To close the file \n",
    "        f= f is file handle"
   ]
  },
  {
   "cell_type": "code",
   "execution_count": 272,
   "id": "5a6130a8",
   "metadata": {},
   "outputs": [
    {
     "name": "stdout",
     "output_type": "stream",
     "text": [
      "'11.python end to end in detail v11 30- 12-2021.ipynb'\r\n",
      "'1. Numerical Python End_To_End_In_Detail  10-01-2022.ipynb'\r\n",
      "'cars1(2).csv'\r\n",
      "'Matplotlib 12-01-2022.ipynb'\r\n",
      " \u001b[0m\u001b[01;34mnotebook\u001b[0m/\r\n",
      "'Pandas End_To_End_In_Detail v1 10-01-2022.ipynb'\r\n",
      " sample1.txt\r\n",
      " sample4.txt\r\n",
      " sample.txt\r\n",
      " test.csv\r\n",
      " \u001b[01;34mtitanic\u001b[0m/\r\n",
      " Untitled1.ipynb\r\n",
      " winequality-red.csv\r\n"
     ]
    }
   ],
   "source": [
    "ls"
   ]
  },
  {
   "cell_type": "code",
   "execution_count": 273,
   "id": "6e30a64b",
   "metadata": {},
   "outputs": [
    {
     "name": "stdout",
     "output_type": "stream",
     "text": [
      "nitin suresh khot\n",
      "nitin suresh khot\n",
      "nitin suresh khot\n",
      "nitin suresh khot\n",
      "nitin suresh khot\n",
      "This is new string addedThis is new string added\n"
     ]
    }
   ],
   "source": [
    "#./files/sample.txt\n",
    "\n",
    "f = open(\"sample.txt\",'r')\n",
    "print(f.read())"
   ]
  },
  {
   "cell_type": "code",
   "execution_count": 274,
   "id": "474f07cd",
   "metadata": {},
   "outputs": [
    {
     "name": "stdout",
     "output_type": "stream",
     "text": [
      "nitin\n"
     ]
    }
   ],
   "source": [
    "f = open(\"sample.txt\",\"r\")\n",
    "print(f.read(5))"
   ]
  },
  {
   "cell_type": "code",
   "execution_count": 275,
   "id": "c6febf10",
   "metadata": {},
   "outputs": [
    {
     "name": "stdout",
     "output_type": "stream",
     "text": [
      "nitin suresh khot\n",
      "nitin suresh khot\n",
      "nitin suresh khot\n",
      "nitin suresh khot\n",
      "nitin suresh khot\n",
      "This is new string addedThis is new string added\n"
     ]
    }
   ],
   "source": [
    "# same as obove\n",
    "f = open(\"sample.txt\",\"r\")\n",
    "print(f.read())"
   ]
  },
  {
   "cell_type": "code",
   "execution_count": 276,
   "id": "44a0f685",
   "metadata": {},
   "outputs": [
    {
     "name": "stdout",
     "output_type": "stream",
     "text": [
      "nitin sure\n"
     ]
    }
   ],
   "source": [
    "# reading files in parts\n",
    "# Reads first 10 chars\n",
    "f = open(\"sample.txt\",\"r\")\n",
    "print(f.read(10))"
   ]
  },
  {
   "cell_type": "code",
   "execution_count": 277,
   "id": "b48ba781",
   "metadata": {},
   "outputs": [
    {
     "name": "stdout",
     "output_type": "stream",
     "text": [
      "nitin suresh khot\n",
      "\n",
      "nitin suresh khot\n",
      "\n"
     ]
    }
   ],
   "source": [
    "# reads line by line\n",
    "\n",
    "f = open(\"sample.txt\",\"r\")\n",
    "\n",
    "print(f.readline())\n",
    "print(f.readline())"
   ]
  },
  {
   "cell_type": "code",
   "execution_count": 278,
   "id": "b9c48e72",
   "metadata": {},
   "outputs": [
    {
     "name": "stdout",
     "output_type": "stream",
     "text": [
      "nitin suresh khot\n",
      "\n",
      "nitin suresh khot\n",
      "\n",
      "nitin suresh khot\n",
      "\n",
      "nitin suresh khot\n",
      "\n",
      "nitin suresh khot\n",
      "\n",
      "This is new string addedThis is new string added\n"
     ]
    }
   ],
   "source": [
    "# read using for loop\n",
    "\n",
    "f = open(\"sample.txt\",\"r\")\n",
    "\n",
    "\n",
    "for x in f:\n",
    "    print(x)\n",
    "    \n",
    "f.close()\n"
   ]
  },
  {
   "cell_type": "markdown",
   "id": "91a8e8c5",
   "metadata": {},
   "source": [
    "# Writing to existing file\n",
    "\n",
    "f.write()- writes contents to file\n",
    "1. \"a\"\n",
    "2. \"w\"\n",
    "3. \"x\"\n",
    "\n"
   ]
  },
  {
   "cell_type": "code",
   "execution_count": 279,
   "id": "dfd51aed",
   "metadata": {},
   "outputs": [
    {
     "name": "stdout",
     "output_type": "stream",
     "text": [
      "nitin suresh khot\n",
      "nitin suresh khot\n",
      "nitin suresh khot\n",
      "nitin suresh khot\n",
      "nitin suresh khot\n",
      "This is new string addedThis is new string addedThis is new string added\n"
     ]
    }
   ],
   "source": [
    "# Append mode\n",
    "\n",
    "f_w = open(\"sample.txt\",\"a\")\n",
    "txt = \"This is new string added\"\n",
    "\n",
    "f_w.write(txt)\n",
    "f_w.close()\n",
    "\n",
    "\n",
    "f_r = open(\"sample.txt\")\n",
    "\n",
    "print(f_r.read())\n"
   ]
  },
  {
   "cell_type": "code",
   "execution_count": 6,
   "id": "ac1c157b",
   "metadata": {},
   "outputs": [
    {
     "name": "stdout",
     "output_type": "stream",
     "text": [
      "This is my new file\n",
      " It is created using write mode\n",
      "This is last line\n"
     ]
    }
   ],
   "source": [
    "# write using \"w\"\n",
    "f_w = open(\"sample1.txt\",\"w\")\n",
    "\n",
    "f_w.write(\"This is my new file\\n It is created using write mode\\nThis is last line\")\n",
    "\n",
    "f_w.close()\n",
    "\n",
    "\n",
    "f_r = open(\"sample1.txt\")\n",
    "\n",
    "print(f_r.read())\n"
   ]
  },
  {
   "cell_type": "code",
   "execution_count": 8,
   "id": "50c72840",
   "metadata": {},
   "outputs": [
    {
     "ename": "FileExistsError",
     "evalue": "[Errno 17] File exists: 'sample4.txt'",
     "output_type": "error",
     "traceback": [
      "\u001b[0;31m---------------------------------------------------------------------------\u001b[0m",
      "\u001b[0;31mFileExistsError\u001b[0m                           Traceback (most recent call last)",
      "Input \u001b[0;32mIn [8]\u001b[0m, in \u001b[0;36m<module>\u001b[0;34m\u001b[0m\n\u001b[1;32m      1\u001b[0m \u001b[38;5;66;03m# Create a new file using \"x\" mode\u001b[39;00m\n\u001b[0;32m----> 3\u001b[0m f_x \u001b[38;5;241m=\u001b[39m \u001b[38;5;28;43mopen\u001b[39;49m\u001b[43m(\u001b[49m\u001b[38;5;124;43m\"\u001b[39;49m\u001b[38;5;124;43msample4.txt\u001b[39;49m\u001b[38;5;124;43m\"\u001b[39;49m\u001b[43m,\u001b[49m\u001b[38;5;124;43m'\u001b[39;49m\u001b[38;5;124;43mx\u001b[39;49m\u001b[38;5;124;43m'\u001b[39;49m\u001b[43m)\u001b[49m\n\u001b[1;32m      4\u001b[0m f_w\u001b[38;5;241m.\u001b[39mwrite(\u001b[38;5;124m\"\u001b[39m\u001b[38;5;124mThis file is created in x mode\u001b[39m\u001b[38;5;130;01m\\n\u001b[39;00m\u001b[38;5;124m So we have now many files created\u001b[39m\u001b[38;5;124m\"\u001b[39m)\n\u001b[1;32m      5\u001b[0m f_x\u001b[38;5;241m.\u001b[39mclose()\n",
      "\u001b[0;31mFileExistsError\u001b[0m: [Errno 17] File exists: 'sample4.txt'"
     ]
    }
   ],
   "source": [
    "# Create a new file using \"x\" mode\n",
    "\n",
    "f_x = open(\"sample4.txt\",'x')\n",
    "f_w.write(\"This file is created in x mode\\n So we have now many files created\")\n",
    "f_x.close()\n",
    "\n",
    "f_r = open(\"sample4.txt\")\n",
    "print(f_r.read())\n"
   ]
  },
  {
   "cell_type": "markdown",
   "id": "0e79951b",
   "metadata": {},
   "source": [
    "# Creating New File\n",
    "Removing file / Directory(folder)\n",
    "import os - Module\n",
    "\n",
    "use:\n",
    "\n",
    "os.remove() function to delete file\n",
    "os.rmdir() function to remove directory / folder\n"
   ]
  },
  {
   "cell_type": "code",
   "execution_count": 9,
   "id": "4b44ded6",
   "metadata": {},
   "outputs": [
    {
     "ename": "FileNotFoundError",
     "evalue": "[Errno 2] No such file or directory: 'sample3.txt'",
     "output_type": "error",
     "traceback": [
      "\u001b[0;31m---------------------------------------------------------------------------\u001b[0m",
      "\u001b[0;31mFileNotFoundError\u001b[0m                         Traceback (most recent call last)",
      "Input \u001b[0;32mIn [9]\u001b[0m, in \u001b[0;36m<module>\u001b[0;34m\u001b[0m\n\u001b[1;32m      1\u001b[0m \u001b[38;5;28;01mimport\u001b[39;00m \u001b[38;5;21;01mos\u001b[39;00m \n\u001b[0;32m----> 2\u001b[0m f \u001b[38;5;241m=\u001b[39m \u001b[38;5;28;43mopen\u001b[39;49m\u001b[43m(\u001b[49m\u001b[38;5;124;43m\"\u001b[39;49m\u001b[38;5;124;43msample3.txt\u001b[39;49m\u001b[38;5;124;43m\"\u001b[39;49m\u001b[43m)\u001b[49m\n\u001b[1;32m      3\u001b[0m \u001b[38;5;28mprint\u001b[39m(f\u001b[38;5;241m.\u001b[39mread())\n\u001b[1;32m      4\u001b[0m os\u001b[38;5;241m.\u001b[39mremove(\u001b[38;5;124m\"\u001b[39m\u001b[38;5;124msample3.txt\u001b[39m\u001b[38;5;124m\"\u001b[39m)\n",
      "\u001b[0;31mFileNotFoundError\u001b[0m: [Errno 2] No such file or directory: 'sample3.txt'"
     ]
    }
   ],
   "source": [
    "import os \n",
    "f = open(\"sample3.txt\")\n",
    "print(f.read())\n",
    "os.remove(\"sample3.txt\")"
   ]
  },
  {
   "cell_type": "code",
   "execution_count": 10,
   "id": "d13e113e",
   "metadata": {},
   "outputs": [
    {
     "ename": "FileNotFoundError",
     "evalue": "[Errno 2] No such file or directory: 'sample'",
     "output_type": "error",
     "traceback": [
      "\u001b[0;31m---------------------------------------------------------------------------\u001b[0m",
      "\u001b[0;31mFileNotFoundError\u001b[0m                         Traceback (most recent call last)",
      "Input \u001b[0;32mIn [10]\u001b[0m, in \u001b[0;36m<module>\u001b[0;34m\u001b[0m\n\u001b[0;32m----> 1\u001b[0m \u001b[43mos\u001b[49m\u001b[38;5;241;43m.\u001b[39;49m\u001b[43mrmdir\u001b[49m\u001b[43m(\u001b[49m\u001b[38;5;124;43m\"\u001b[39;49m\u001b[38;5;124;43msample\u001b[39;49m\u001b[38;5;124;43m\"\u001b[39;49m\u001b[43m)\u001b[49m\n",
      "\u001b[0;31mFileNotFoundError\u001b[0m: [Errno 2] No such file or directory: 'sample'"
     ]
    }
   ],
   "source": [
    "os.rmdir(\"sample\")"
   ]
  },
  {
   "cell_type": "code",
   "execution_count": null,
   "id": "bf1acab0",
   "metadata": {},
   "outputs": [],
   "source": []
  }
 ],
 "metadata": {
  "kernelspec": {
   "display_name": "Python 3 (ipykernel)",
   "language": "python",
   "name": "python3"
  },
  "language_info": {
   "codemirror_mode": {
    "name": "ipython",
    "version": 3
   },
   "file_extension": ".py",
   "mimetype": "text/x-python",
   "name": "python",
   "nbconvert_exporter": "python",
   "pygments_lexer": "ipython3",
   "version": "3.8.10"
  }
 },
 "nbformat": 4,
 "nbformat_minor": 5
}
